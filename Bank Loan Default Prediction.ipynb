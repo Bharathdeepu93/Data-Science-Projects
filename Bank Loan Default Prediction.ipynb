{
 "cells": [
  {
   "cell_type": "markdown",
   "metadata": {
    "collapsed": true
   },
   "source": [
    "## Importing Required Libraries"
   ]
  },
  {
   "cell_type": "code",
   "execution_count": 1,
   "metadata": {
    "collapsed": true
   },
   "outputs": [],
   "source": [
    "import pandas as pd\n",
    "import numpy as np\n",
    "import matplotlib.pyplot as plt\n",
    "%matplotlib inline"
   ]
  },
  {
   "cell_type": "markdown",
   "metadata": {},
   "source": [
    "### Reading File"
   ]
  },
  {
   "cell_type": "code",
   "execution_count": 2,
   "metadata": {
    "collapsed": true
   },
   "outputs": [],
   "source": [
    "df=pd.read_csv(\"bank.csv\", sep=\";\")"
   ]
  },
  {
   "cell_type": "code",
   "execution_count": 3,
   "metadata": {},
   "outputs": [
    {
     "data": {
      "text/html": [
       "<div>\n",
       "<style scoped>\n",
       "    .dataframe tbody tr th:only-of-type {\n",
       "        vertical-align: middle;\n",
       "    }\n",
       "\n",
       "    .dataframe tbody tr th {\n",
       "        vertical-align: top;\n",
       "    }\n",
       "\n",
       "    .dataframe thead th {\n",
       "        text-align: right;\n",
       "    }\n",
       "</style>\n",
       "<table border=\"1\" class=\"dataframe\">\n",
       "  <thead>\n",
       "    <tr style=\"text-align: right;\">\n",
       "      <th></th>\n",
       "      <th>age</th>\n",
       "      <th>job</th>\n",
       "      <th>marital</th>\n",
       "      <th>education</th>\n",
       "      <th>default</th>\n",
       "      <th>housing</th>\n",
       "      <th>loan</th>\n",
       "      <th>contact</th>\n",
       "      <th>month</th>\n",
       "      <th>day_of_week</th>\n",
       "      <th>...</th>\n",
       "      <th>campaign</th>\n",
       "      <th>pdays</th>\n",
       "      <th>previous</th>\n",
       "      <th>poutcome</th>\n",
       "      <th>emp.var.rate</th>\n",
       "      <th>cons.price.idx</th>\n",
       "      <th>cons.conf.idx</th>\n",
       "      <th>euribor3m</th>\n",
       "      <th>nr.employed</th>\n",
       "      <th>y</th>\n",
       "    </tr>\n",
       "  </thead>\n",
       "  <tbody>\n",
       "    <tr>\n",
       "      <th>0</th>\n",
       "      <td>56</td>\n",
       "      <td>housemaid</td>\n",
       "      <td>married</td>\n",
       "      <td>basic.4y</td>\n",
       "      <td>no</td>\n",
       "      <td>no</td>\n",
       "      <td>no</td>\n",
       "      <td>telephone</td>\n",
       "      <td>may</td>\n",
       "      <td>mon</td>\n",
       "      <td>...</td>\n",
       "      <td>1</td>\n",
       "      <td>999</td>\n",
       "      <td>0</td>\n",
       "      <td>nonexistent</td>\n",
       "      <td>1.1</td>\n",
       "      <td>93.994</td>\n",
       "      <td>-36.4</td>\n",
       "      <td>4.857</td>\n",
       "      <td>5191.0</td>\n",
       "      <td>no</td>\n",
       "    </tr>\n",
       "    <tr>\n",
       "      <th>1</th>\n",
       "      <td>57</td>\n",
       "      <td>services</td>\n",
       "      <td>married</td>\n",
       "      <td>high.school</td>\n",
       "      <td>unknown</td>\n",
       "      <td>no</td>\n",
       "      <td>no</td>\n",
       "      <td>telephone</td>\n",
       "      <td>may</td>\n",
       "      <td>mon</td>\n",
       "      <td>...</td>\n",
       "      <td>1</td>\n",
       "      <td>999</td>\n",
       "      <td>0</td>\n",
       "      <td>nonexistent</td>\n",
       "      <td>1.1</td>\n",
       "      <td>93.994</td>\n",
       "      <td>-36.4</td>\n",
       "      <td>4.857</td>\n",
       "      <td>5191.0</td>\n",
       "      <td>no</td>\n",
       "    </tr>\n",
       "    <tr>\n",
       "      <th>2</th>\n",
       "      <td>37</td>\n",
       "      <td>services</td>\n",
       "      <td>married</td>\n",
       "      <td>high.school</td>\n",
       "      <td>no</td>\n",
       "      <td>yes</td>\n",
       "      <td>no</td>\n",
       "      <td>telephone</td>\n",
       "      <td>may</td>\n",
       "      <td>mon</td>\n",
       "      <td>...</td>\n",
       "      <td>1</td>\n",
       "      <td>999</td>\n",
       "      <td>0</td>\n",
       "      <td>nonexistent</td>\n",
       "      <td>1.1</td>\n",
       "      <td>93.994</td>\n",
       "      <td>-36.4</td>\n",
       "      <td>4.857</td>\n",
       "      <td>5191.0</td>\n",
       "      <td>no</td>\n",
       "    </tr>\n",
       "    <tr>\n",
       "      <th>3</th>\n",
       "      <td>40</td>\n",
       "      <td>admin.</td>\n",
       "      <td>married</td>\n",
       "      <td>basic.6y</td>\n",
       "      <td>no</td>\n",
       "      <td>no</td>\n",
       "      <td>no</td>\n",
       "      <td>telephone</td>\n",
       "      <td>may</td>\n",
       "      <td>mon</td>\n",
       "      <td>...</td>\n",
       "      <td>1</td>\n",
       "      <td>999</td>\n",
       "      <td>0</td>\n",
       "      <td>nonexistent</td>\n",
       "      <td>1.1</td>\n",
       "      <td>93.994</td>\n",
       "      <td>-36.4</td>\n",
       "      <td>4.857</td>\n",
       "      <td>5191.0</td>\n",
       "      <td>no</td>\n",
       "    </tr>\n",
       "    <tr>\n",
       "      <th>4</th>\n",
       "      <td>56</td>\n",
       "      <td>services</td>\n",
       "      <td>married</td>\n",
       "      <td>high.school</td>\n",
       "      <td>no</td>\n",
       "      <td>no</td>\n",
       "      <td>yes</td>\n",
       "      <td>telephone</td>\n",
       "      <td>may</td>\n",
       "      <td>mon</td>\n",
       "      <td>...</td>\n",
       "      <td>1</td>\n",
       "      <td>999</td>\n",
       "      <td>0</td>\n",
       "      <td>nonexistent</td>\n",
       "      <td>1.1</td>\n",
       "      <td>93.994</td>\n",
       "      <td>-36.4</td>\n",
       "      <td>4.857</td>\n",
       "      <td>5191.0</td>\n",
       "      <td>no</td>\n",
       "    </tr>\n",
       "  </tbody>\n",
       "</table>\n",
       "<p>5 rows × 21 columns</p>\n",
       "</div>"
      ],
      "text/plain": [
       "   age        job  marital    education  default housing loan    contact  \\\n",
       "0   56  housemaid  married     basic.4y       no      no   no  telephone   \n",
       "1   57   services  married  high.school  unknown      no   no  telephone   \n",
       "2   37   services  married  high.school       no     yes   no  telephone   \n",
       "3   40     admin.  married     basic.6y       no      no   no  telephone   \n",
       "4   56   services  married  high.school       no      no  yes  telephone   \n",
       "\n",
       "  month day_of_week  ...  campaign  pdays  previous     poutcome emp.var.rate  \\\n",
       "0   may         mon  ...         1    999         0  nonexistent          1.1   \n",
       "1   may         mon  ...         1    999         0  nonexistent          1.1   \n",
       "2   may         mon  ...         1    999         0  nonexistent          1.1   \n",
       "3   may         mon  ...         1    999         0  nonexistent          1.1   \n",
       "4   may         mon  ...         1    999         0  nonexistent          1.1   \n",
       "\n",
       "   cons.price.idx  cons.conf.idx  euribor3m  nr.employed   y  \n",
       "0          93.994          -36.4      4.857       5191.0  no  \n",
       "1          93.994          -36.4      4.857       5191.0  no  \n",
       "2          93.994          -36.4      4.857       5191.0  no  \n",
       "3          93.994          -36.4      4.857       5191.0  no  \n",
       "4          93.994          -36.4      4.857       5191.0  no  \n",
       "\n",
       "[5 rows x 21 columns]"
      ]
     },
     "execution_count": 3,
     "metadata": {},
     "output_type": "execute_result"
    }
   ],
   "source": [
    "df.head()"
   ]
  },
  {
   "cell_type": "code",
   "execution_count": 4,
   "metadata": {},
   "outputs": [
    {
     "data": {
      "text/plain": [
       "(41188, 21)"
      ]
     },
     "execution_count": 4,
     "metadata": {},
     "output_type": "execute_result"
    }
   ],
   "source": [
    "df.shape"
   ]
  },
  {
   "cell_type": "code",
   "execution_count": 181,
   "metadata": {},
   "outputs": [
    {
     "data": {
      "text/plain": [
       "Index(['age', 'job', 'marital', 'education', 'default', 'housing', 'loan',\n",
       "       'contact', 'month', 'day_of_week', 'duration', 'campaign', 'pdays',\n",
       "       'previous', 'poutcome', 'emp.var.rate', 'y'],\n",
       "      dtype='object')"
      ]
     },
     "execution_count": 181,
     "metadata": {},
     "output_type": "execute_result"
    }
   ],
   "source": [
    "df.columns"
   ]
  },
  {
   "cell_type": "markdown",
   "metadata": {},
   "source": [
    "### Understanding the Data"
   ]
  },
  {
   "cell_type": "code",
   "execution_count": 5,
   "metadata": {},
   "outputs": [
    {
     "name": "stdout",
     "output_type": "stream",
     "text": [
      "<class 'pandas.core.frame.DataFrame'>\n",
      "RangeIndex: 41188 entries, 0 to 41187\n",
      "Data columns (total 21 columns):\n",
      " #   Column          Non-Null Count  Dtype  \n",
      "---  ------          --------------  -----  \n",
      " 0   age             41188 non-null  int64  \n",
      " 1   job             41188 non-null  object \n",
      " 2   marital         41188 non-null  object \n",
      " 3   education       41188 non-null  object \n",
      " 4   default         41188 non-null  object \n",
      " 5   housing         41188 non-null  object \n",
      " 6   loan            41188 non-null  object \n",
      " 7   contact         41188 non-null  object \n",
      " 8   month           41188 non-null  object \n",
      " 9   day_of_week     41188 non-null  object \n",
      " 10  duration        41188 non-null  int64  \n",
      " 11  campaign        41188 non-null  int64  \n",
      " 12  pdays           41188 non-null  int64  \n",
      " 13  previous        41188 non-null  int64  \n",
      " 14  poutcome        41188 non-null  object \n",
      " 15  emp.var.rate    41188 non-null  float64\n",
      " 16  cons.price.idx  41188 non-null  float64\n",
      " 17  cons.conf.idx   41188 non-null  float64\n",
      " 18  euribor3m       41188 non-null  float64\n",
      " 19  nr.employed     41188 non-null  float64\n",
      " 20  y               41188 non-null  object \n",
      "dtypes: float64(5), int64(5), object(11)\n",
      "memory usage: 6.6+ MB\n"
     ]
    }
   ],
   "source": [
    "df.info()"
   ]
  },
  {
   "cell_type": "code",
   "execution_count": 6,
   "metadata": {},
   "outputs": [
    {
     "data": {
      "text/plain": [
       "array([ 1,  2,  3,  4,  5,  6,  7,  8,  9, 10, 11, 12, 13, 19, 18, 23, 14,\n",
       "       22, 25, 16, 17, 15, 20, 56, 39, 35, 42, 28, 26, 27, 32, 21, 24, 29,\n",
       "       31, 30, 41, 37, 40, 33, 34, 43], dtype=int64)"
      ]
     },
     "execution_count": 6,
     "metadata": {},
     "output_type": "execute_result"
    }
   ],
   "source": [
    "df[\"campaign\"].unique()"
   ]
  },
  {
   "cell_type": "code",
   "execution_count": 7,
   "metadata": {},
   "outputs": [
    {
     "data": {
      "text/plain": [
       "no         32588\n",
       "unknown     8597\n",
       "yes            3\n",
       "Name: default, dtype: int64"
      ]
     },
     "execution_count": 7,
     "metadata": {},
     "output_type": "execute_result"
    }
   ],
   "source": [
    "df[\"default\"].value_counts()"
   ]
  },
  {
   "cell_type": "code",
   "execution_count": 8,
   "metadata": {},
   "outputs": [
    {
     "data": {
      "text/plain": [
       "array(['housemaid', 'services', 'admin.', 'blue-collar', 'technician',\n",
       "       'retired', 'management', 'unemployed', 'self-employed', 'unknown',\n",
       "       'entrepreneur', 'student'], dtype=object)"
      ]
     },
     "execution_count": 8,
     "metadata": {},
     "output_type": "execute_result"
    }
   ],
   "source": [
    "df[\"job\"].unique()"
   ]
  },
  {
   "cell_type": "code",
   "execution_count": 9,
   "metadata": {},
   "outputs": [
    {
     "data": {
      "text/plain": [
       "array(['married', 'single', 'divorced', 'unknown'], dtype=object)"
      ]
     },
     "execution_count": 9,
     "metadata": {},
     "output_type": "execute_result"
    }
   ],
   "source": [
    "df[\"marital\"].unique()"
   ]
  },
  {
   "cell_type": "code",
   "execution_count": 10,
   "metadata": {},
   "outputs": [
    {
     "data": {
      "text/plain": [
       "array(['basic.4y', 'high.school', 'basic.6y', 'basic.9y',\n",
       "       'professional.course', 'unknown', 'university.degree',\n",
       "       'illiterate'], dtype=object)"
      ]
     },
     "execution_count": 10,
     "metadata": {},
     "output_type": "execute_result"
    }
   ],
   "source": [
    "df[\"education\"].unique()"
   ]
  },
  {
   "cell_type": "code",
   "execution_count": 11,
   "metadata": {},
   "outputs": [
    {
     "data": {
      "text/plain": [
       "university.degree      12168\n",
       "high.school             9515\n",
       "basic.9y                6045\n",
       "professional.course     5243\n",
       "basic.4y                4176\n",
       "basic.6y                2292\n",
       "unknown                 1731\n",
       "illiterate                18\n",
       "Name: education, dtype: int64"
      ]
     },
     "execution_count": 11,
     "metadata": {},
     "output_type": "execute_result"
    }
   ],
   "source": [
    "df[\"education\"].value_counts()"
   ]
  },
  {
   "cell_type": "code",
   "execution_count": 12,
   "metadata": {},
   "outputs": [
    {
     "data": {
      "text/plain": [
       "array(['no', 'yes', 'unknown'], dtype=object)"
      ]
     },
     "execution_count": 12,
     "metadata": {},
     "output_type": "execute_result"
    }
   ],
   "source": [
    "df[\"housing\"].unique()"
   ]
  },
  {
   "cell_type": "code",
   "execution_count": 13,
   "metadata": {},
   "outputs": [
    {
     "data": {
      "text/plain": [
       "array(['no', 'yes', 'unknown'], dtype=object)"
      ]
     },
     "execution_count": 13,
     "metadata": {},
     "output_type": "execute_result"
    }
   ],
   "source": [
    "df[\"loan\"].unique()"
   ]
  },
  {
   "cell_type": "code",
   "execution_count": 14,
   "metadata": {},
   "outputs": [
    {
     "data": {
      "text/plain": [
       "array(['telephone', 'cellular'], dtype=object)"
      ]
     },
     "execution_count": 14,
     "metadata": {},
     "output_type": "execute_result"
    }
   ],
   "source": [
    "df[\"contact\"].unique()"
   ]
  },
  {
   "cell_type": "code",
   "execution_count": 15,
   "metadata": {},
   "outputs": [
    {
     "data": {
      "text/plain": [
       "array(['may', 'jun', 'jul', 'aug', 'oct', 'nov', 'dec', 'mar', 'apr',\n",
       "       'sep'], dtype=object)"
      ]
     },
     "execution_count": 15,
     "metadata": {},
     "output_type": "execute_result"
    }
   ],
   "source": [
    "df[\"month\"].unique()"
   ]
  },
  {
   "cell_type": "code",
   "execution_count": 16,
   "metadata": {},
   "outputs": [
    {
     "data": {
      "text/plain": [
       "array(['mon', 'tue', 'wed', 'thu', 'fri'], dtype=object)"
      ]
     },
     "execution_count": 16,
     "metadata": {},
     "output_type": "execute_result"
    }
   ],
   "source": [
    "df[\"day_of_week\"].unique()"
   ]
  },
  {
   "cell_type": "code",
   "execution_count": 17,
   "metadata": {},
   "outputs": [
    {
     "data": {
      "text/plain": [
       "array(['nonexistent', 'failure', 'success'], dtype=object)"
      ]
     },
     "execution_count": 17,
     "metadata": {},
     "output_type": "execute_result"
    }
   ],
   "source": [
    "df[\"poutcome\"].unique()"
   ]
  },
  {
   "cell_type": "code",
   "execution_count": 18,
   "metadata": {},
   "outputs": [
    {
     "data": {
      "text/plain": [
       "array(['no', 'yes'], dtype=object)"
      ]
     },
     "execution_count": 18,
     "metadata": {},
     "output_type": "execute_result"
    }
   ],
   "source": [
    "df[\"y\"].unique()"
   ]
  },
  {
   "cell_type": "code",
   "execution_count": 19,
   "metadata": {},
   "outputs": [
    {
     "data": {
      "text/plain": [
       "array(['no', 'unknown', 'yes'], dtype=object)"
      ]
     },
     "execution_count": 19,
     "metadata": {},
     "output_type": "execute_result"
    }
   ],
   "source": [
    "df[\"default\"].unique()"
   ]
  },
  {
   "cell_type": "code",
   "execution_count": 20,
   "metadata": {},
   "outputs": [
    {
     "data": {
      "text/plain": [
       "age               0\n",
       "job               0\n",
       "marital           0\n",
       "education         0\n",
       "default           0\n",
       "housing           0\n",
       "loan              0\n",
       "contact           0\n",
       "month             0\n",
       "day_of_week       0\n",
       "duration          0\n",
       "campaign          0\n",
       "pdays             0\n",
       "previous          0\n",
       "poutcome          0\n",
       "emp.var.rate      0\n",
       "cons.price.idx    0\n",
       "cons.conf.idx     0\n",
       "euribor3m         0\n",
       "nr.employed       0\n",
       "y                 0\n",
       "dtype: int64"
      ]
     },
     "execution_count": 20,
     "metadata": {},
     "output_type": "execute_result"
    }
   ],
   "source": [
    "df.isnull().sum()"
   ]
  },
  {
   "cell_type": "code",
   "execution_count": 21,
   "metadata": {},
   "outputs": [
    {
     "data": {
      "text/plain": [
       "no     88.7%\n",
       "yes    11.3%\n",
       "Name: y, dtype: object"
      ]
     },
     "execution_count": 21,
     "metadata": {},
     "output_type": "execute_result"
    }
   ],
   "source": [
    "df[\"y\"].value_counts(normalize=True).mul(100).round(1).astype(str) + \"%\""
   ]
  },
  {
   "cell_type": "code",
   "execution_count": 22,
   "metadata": {},
   "outputs": [
    {
     "data": {
      "text/html": [
       "<div>\n",
       "<style scoped>\n",
       "    .dataframe tbody tr th:only-of-type {\n",
       "        vertical-align: middle;\n",
       "    }\n",
       "\n",
       "    .dataframe tbody tr th {\n",
       "        vertical-align: top;\n",
       "    }\n",
       "\n",
       "    .dataframe thead th {\n",
       "        text-align: right;\n",
       "    }\n",
       "</style>\n",
       "<table border=\"1\" class=\"dataframe\">\n",
       "  <thead>\n",
       "    <tr style=\"text-align: right;\">\n",
       "      <th></th>\n",
       "      <th>age</th>\n",
       "      <th>duration</th>\n",
       "      <th>campaign</th>\n",
       "      <th>pdays</th>\n",
       "      <th>previous</th>\n",
       "      <th>emp.var.rate</th>\n",
       "      <th>cons.price.idx</th>\n",
       "      <th>cons.conf.idx</th>\n",
       "      <th>euribor3m</th>\n",
       "      <th>nr.employed</th>\n",
       "    </tr>\n",
       "  </thead>\n",
       "  <tbody>\n",
       "    <tr>\n",
       "      <th>count</th>\n",
       "      <td>41188.00000</td>\n",
       "      <td>41188.000000</td>\n",
       "      <td>41188.000000</td>\n",
       "      <td>41188.000000</td>\n",
       "      <td>41188.000000</td>\n",
       "      <td>41188.000000</td>\n",
       "      <td>41188.000000</td>\n",
       "      <td>41188.000000</td>\n",
       "      <td>41188.000000</td>\n",
       "      <td>41188.000000</td>\n",
       "    </tr>\n",
       "    <tr>\n",
       "      <th>mean</th>\n",
       "      <td>40.02406</td>\n",
       "      <td>258.285010</td>\n",
       "      <td>2.567593</td>\n",
       "      <td>962.475454</td>\n",
       "      <td>0.172963</td>\n",
       "      <td>0.081886</td>\n",
       "      <td>93.575664</td>\n",
       "      <td>-40.502600</td>\n",
       "      <td>3.621291</td>\n",
       "      <td>5167.035911</td>\n",
       "    </tr>\n",
       "    <tr>\n",
       "      <th>std</th>\n",
       "      <td>10.42125</td>\n",
       "      <td>259.279249</td>\n",
       "      <td>2.770014</td>\n",
       "      <td>186.910907</td>\n",
       "      <td>0.494901</td>\n",
       "      <td>1.570960</td>\n",
       "      <td>0.578840</td>\n",
       "      <td>4.628198</td>\n",
       "      <td>1.734447</td>\n",
       "      <td>72.251528</td>\n",
       "    </tr>\n",
       "    <tr>\n",
       "      <th>min</th>\n",
       "      <td>17.00000</td>\n",
       "      <td>0.000000</td>\n",
       "      <td>1.000000</td>\n",
       "      <td>0.000000</td>\n",
       "      <td>0.000000</td>\n",
       "      <td>-3.400000</td>\n",
       "      <td>92.201000</td>\n",
       "      <td>-50.800000</td>\n",
       "      <td>0.634000</td>\n",
       "      <td>4963.600000</td>\n",
       "    </tr>\n",
       "    <tr>\n",
       "      <th>25%</th>\n",
       "      <td>32.00000</td>\n",
       "      <td>102.000000</td>\n",
       "      <td>1.000000</td>\n",
       "      <td>999.000000</td>\n",
       "      <td>0.000000</td>\n",
       "      <td>-1.800000</td>\n",
       "      <td>93.075000</td>\n",
       "      <td>-42.700000</td>\n",
       "      <td>1.344000</td>\n",
       "      <td>5099.100000</td>\n",
       "    </tr>\n",
       "    <tr>\n",
       "      <th>50%</th>\n",
       "      <td>38.00000</td>\n",
       "      <td>180.000000</td>\n",
       "      <td>2.000000</td>\n",
       "      <td>999.000000</td>\n",
       "      <td>0.000000</td>\n",
       "      <td>1.100000</td>\n",
       "      <td>93.749000</td>\n",
       "      <td>-41.800000</td>\n",
       "      <td>4.857000</td>\n",
       "      <td>5191.000000</td>\n",
       "    </tr>\n",
       "    <tr>\n",
       "      <th>75%</th>\n",
       "      <td>47.00000</td>\n",
       "      <td>319.000000</td>\n",
       "      <td>3.000000</td>\n",
       "      <td>999.000000</td>\n",
       "      <td>0.000000</td>\n",
       "      <td>1.400000</td>\n",
       "      <td>93.994000</td>\n",
       "      <td>-36.400000</td>\n",
       "      <td>4.961000</td>\n",
       "      <td>5228.100000</td>\n",
       "    </tr>\n",
       "    <tr>\n",
       "      <th>max</th>\n",
       "      <td>98.00000</td>\n",
       "      <td>4918.000000</td>\n",
       "      <td>56.000000</td>\n",
       "      <td>999.000000</td>\n",
       "      <td>7.000000</td>\n",
       "      <td>1.400000</td>\n",
       "      <td>94.767000</td>\n",
       "      <td>-26.900000</td>\n",
       "      <td>5.045000</td>\n",
       "      <td>5228.100000</td>\n",
       "    </tr>\n",
       "  </tbody>\n",
       "</table>\n",
       "</div>"
      ],
      "text/plain": [
       "               age      duration      campaign         pdays      previous  \\\n",
       "count  41188.00000  41188.000000  41188.000000  41188.000000  41188.000000   \n",
       "mean      40.02406    258.285010      2.567593    962.475454      0.172963   \n",
       "std       10.42125    259.279249      2.770014    186.910907      0.494901   \n",
       "min       17.00000      0.000000      1.000000      0.000000      0.000000   \n",
       "25%       32.00000    102.000000      1.000000    999.000000      0.000000   \n",
       "50%       38.00000    180.000000      2.000000    999.000000      0.000000   \n",
       "75%       47.00000    319.000000      3.000000    999.000000      0.000000   \n",
       "max       98.00000   4918.000000     56.000000    999.000000      7.000000   \n",
       "\n",
       "       emp.var.rate  cons.price.idx  cons.conf.idx     euribor3m   nr.employed  \n",
       "count  41188.000000    41188.000000   41188.000000  41188.000000  41188.000000  \n",
       "mean       0.081886       93.575664     -40.502600      3.621291   5167.035911  \n",
       "std        1.570960        0.578840       4.628198      1.734447     72.251528  \n",
       "min       -3.400000       92.201000     -50.800000      0.634000   4963.600000  \n",
       "25%       -1.800000       93.075000     -42.700000      1.344000   5099.100000  \n",
       "50%        1.100000       93.749000     -41.800000      4.857000   5191.000000  \n",
       "75%        1.400000       93.994000     -36.400000      4.961000   5228.100000  \n",
       "max        1.400000       94.767000     -26.900000      5.045000   5228.100000  "
      ]
     },
     "execution_count": 22,
     "metadata": {},
     "output_type": "execute_result"
    }
   ],
   "source": [
    "df.describe()"
   ]
  },
  {
   "cell_type": "markdown",
   "metadata": {},
   "source": [
    "### Data Visualization"
   ]
  },
  {
   "cell_type": "code",
   "execution_count": 23,
   "metadata": {},
   "outputs": [
    {
     "data": {
      "image/png": "[encoded data removed]",
      "text/plain": [
       "<Figure size 432x288 with 1 Axes>"
      ]
     },
     "metadata": {},
     "output_type": "display_data"
    }
   ],
   "source": [
    "box_list=[df[\"campaign\"],df[\"duration\"],df[\"age\"],df[\"pdays\"],df[\"previous\"],df[\"emp.var.rate\"],df[\"cons.price.idx\"],df[\"euribor3m\"],df[\"nr.employed\"]]\n",
    "labels=[\"campaign\", \"duration\", \"age\", \"pdays\", \"previous\", \"emp.var.rate\", \"cons.price.idx\", \"euribor3m\", \"nr.employed\"]\n",
    "plt.boxplot(box_list, patch_artist=True, labels=labels, vert=1,)\n",
    "plt.show()"
   ]
  },
  {
   "cell_type": "markdown",
   "metadata": {},
   "source": [
    "### Data Manipulation"
   ]
  },
  {
   "cell_type": "code",
   "execution_count": 24,
   "metadata": {},
   "outputs": [
    {
     "name": "stdout",
     "output_type": "stream",
     "text": [
      "0        261\n",
      "1        149\n",
      "2        226\n",
      "3        151\n",
      "4        307\n",
      "        ... \n",
      "41183    334\n",
      "41184    383\n",
      "41185    189\n",
      "41186    442\n",
      "41187    239\n",
      "Name: duration, Length: 38225, dtype: int64\n"
     ]
    }
   ],
   "source": [
    "Q1=df[\"duration\"].quantile(.25)\n",
    "Q3=df[\"duration\"].quantile(.75)\n",
    "IQR=Q3-Q1\n",
    "outliers=df[\"duration\"][~((df[\"duration\"]<(Q1-1.5*IQR)) | (df[\"duration\"]>(Q3+1.5*IQR)))]\n",
    "print(outliers)"
   ]
  },
  {
   "cell_type": "code",
   "execution_count": 25,
   "metadata": {},
   "outputs": [
    {
     "data": {
      "text/plain": [
       "Int64Index([    0,     1,     2,     3,     4,     5,     6,     7,     8,\n",
       "                9,\n",
       "            ...\n",
       "            41178, 41179, 41180, 41181, 41182, 41183, 41184, 41185, 41186,\n",
       "            41187],\n",
       "           dtype='int64', length=38225)"
      ]
     },
     "execution_count": 25,
     "metadata": {},
     "output_type": "execute_result"
    }
   ],
   "source": [
    "outliers.index"
   ]
  },
  {
   "cell_type": "code",
   "execution_count": 26,
   "metadata": {
    "collapsed": true
   },
   "outputs": [],
   "source": [
    "median_duration=df[\"duration\"].median()"
   ]
  },
  {
   "cell_type": "code",
   "execution_count": 27,
   "metadata": {
    "collapsed": true
   },
   "outputs": [],
   "source": [
    "for i in outliers.index:\n",
    "    outliers[i]=median_duration"
   ]
  },
  {
   "cell_type": "code",
   "execution_count": 28,
   "metadata": {
    "collapsed": true
   },
   "outputs": [],
   "source": [
    "df.replace(to_replace=\"unknown\", value=np.NaN, inplace=True)"
   ]
  },
  {
   "cell_type": "code",
   "execution_count": 29,
   "metadata": {},
   "outputs": [
    {
     "data": {
      "text/plain": [
       "age                0.000000\n",
       "job                0.801204\n",
       "marital            0.194231\n",
       "education          4.202680\n",
       "default           20.872584\n",
       "housing            2.403613\n",
       "loan               2.403613\n",
       "contact            0.000000\n",
       "month              0.000000\n",
       "day_of_week        0.000000\n",
       "duration           0.000000\n",
       "campaign           0.000000\n",
       "pdays              0.000000\n",
       "previous           0.000000\n",
       "poutcome           0.000000\n",
       "emp.var.rate       0.000000\n",
       "cons.price.idx     0.000000\n",
       "cons.conf.idx      0.000000\n",
       "euribor3m          0.000000\n",
       "nr.employed        0.000000\n",
       "y                  0.000000\n",
       "dtype: float64"
      ]
     },
     "execution_count": 29,
     "metadata": {},
     "output_type": "execute_result"
    }
   ],
   "source": [
    "df.isnull().sum()*100/len(df)"
   ]
  },
  {
   "cell_type": "code",
   "execution_count": 30,
   "metadata": {
    "collapsed": true
   },
   "outputs": [],
   "source": [
    "# df.dropna(inplace=True)"
   ]
  },
  {
   "cell_type": "code",
   "execution_count": 31,
   "metadata": {},
   "outputs": [
    {
     "data": {
      "text/plain": [
       "array(['basic.4y', 'high.school', 'basic.6y', 'basic.9y',\n",
       "       'professional.course', nan, 'university.degree', 'illiterate'],\n",
       "      dtype=object)"
      ]
     },
     "execution_count": 31,
     "metadata": {},
     "output_type": "execute_result"
    }
   ],
   "source": [
    "df[\"education\"].unique()"
   ]
  },
  {
   "cell_type": "code",
   "execution_count": 32,
   "metadata": {
    "collapsed": true
   },
   "outputs": [],
   "source": [
    "df[\"Education\"]=df[\"education\"].map({\"illiterate\":0, \"basic.4y\":1, \"basic.6y\":2, \"basic.9y\":3, \"high.school\":4, \"university.degree\":5, \"professional.course\":6})"
   ]
  },
  {
   "cell_type": "code",
   "execution_count": 33,
   "metadata": {},
   "outputs": [
    {
     "data": {
      "text/plain": [
       "0        1.0\n",
       "1        4.0\n",
       "2        4.0\n",
       "3        2.0\n",
       "4        4.0\n",
       "        ... \n",
       "41183    6.0\n",
       "41184    6.0\n",
       "41185    5.0\n",
       "41186    6.0\n",
       "41187    6.0\n",
       "Name: Education, Length: 41188, dtype: float64"
      ]
     },
     "execution_count": 33,
     "metadata": {},
     "output_type": "execute_result"
    }
   ],
   "source": [
    "df[\"Education\"]"
   ]
  },
  {
   "cell_type": "code",
   "execution_count": 34,
   "metadata": {},
   "outputs": [
    {
     "data": {
      "text/plain": [
       "array(['basic.4y', 'high.school', 'basic.6y', 'basic.9y',\n",
       "       'professional.course', nan, 'university.degree', 'illiterate'],\n",
       "      dtype=object)"
      ]
     },
     "execution_count": 34,
     "metadata": {},
     "output_type": "execute_result"
    }
   ],
   "source": [
    "df.education.unique()"
   ]
  },
  {
   "cell_type": "code",
   "execution_count": 35,
   "metadata": {},
   "outputs": [
    {
     "data": {
      "text/plain": [
       "Index(['admin.'], dtype='object')"
      ]
     },
     "execution_count": 35,
     "metadata": {},
     "output_type": "execute_result"
    }
   ],
   "source": [
    "df[\"job\"].value_counts().index[:1]"
   ]
  },
  {
   "cell_type": "code",
   "execution_count": 36,
   "metadata": {
    "collapsed": true
   },
   "outputs": [],
   "source": [
    "df[\"job\"].fillna(df[\"job\"].value_counts().index[:1][0], inplace=True)"
   ]
  },
  {
   "cell_type": "code",
   "execution_count": 37,
   "metadata": {},
   "outputs": [
    {
     "data": {
      "text/plain": [
       "array(['housemaid', 'services', 'admin.', 'blue-collar', 'technician',\n",
       "       'retired', 'management', 'unemployed', 'self-employed',\n",
       "       'entrepreneur', 'student'], dtype=object)"
      ]
     },
     "execution_count": 37,
     "metadata": {},
     "output_type": "execute_result"
    }
   ],
   "source": [
    "df[\"job\"].unique()"
   ]
  },
  {
   "cell_type": "code",
   "execution_count": 38,
   "metadata": {
    "collapsed": true
   },
   "outputs": [],
   "source": [
    "na_list=[\"job\", \"education\", \"marital\", \"default\", \"housing\", \"loan\"]\n",
    "for i in na_list:\n",
    "    df[i]=df[i].fillna(df[i].value_counts().index[:1][0])\n",
    "    "
   ]
  },
  {
   "cell_type": "code",
   "execution_count": 39,
   "metadata": {},
   "outputs": [
    {
     "data": {
      "text/plain": [
       "age                  0\n",
       "job                  0\n",
       "marital              0\n",
       "education            0\n",
       "default              0\n",
       "housing              0\n",
       "loan                 0\n",
       "contact              0\n",
       "month                0\n",
       "day_of_week          0\n",
       "duration             0\n",
       "campaign             0\n",
       "pdays                0\n",
       "previous             0\n",
       "poutcome             0\n",
       "emp.var.rate         0\n",
       "cons.price.idx       0\n",
       "cons.conf.idx        0\n",
       "euribor3m            0\n",
       "nr.employed          0\n",
       "y                    0\n",
       "Education         1731\n",
       "dtype: int64"
      ]
     },
     "execution_count": 39,
     "metadata": {},
     "output_type": "execute_result"
    }
   ],
   "source": [
    "df.isnull().sum()"
   ]
  },
  {
   "cell_type": "code",
   "execution_count": 40,
   "metadata": {
    "collapsed": true
   },
   "outputs": [],
   "source": [
    "df.drop(\"Education\", axis=1, inplace=True)"
   ]
  },
  {
   "cell_type": "markdown",
   "metadata": {},
   "source": [
    "# Exploratory Data Analysis##"
   ]
  },
  {
   "cell_type": "markdown",
   "metadata": {},
   "source": [
    "### Univariate Analysis"
   ]
  },
  {
   "cell_type": "code",
   "execution_count": 41,
   "metadata": {},
   "outputs": [
    {
     "name": "stderr",
     "output_type": "stream",
     "text": [
      "C:\\Users\\PC\\Anaconda3\\lib\\site-packages\\ipykernel_launcher.py:2: MatplotlibDeprecationWarning: Adding an axes using the same arguments as a previous axes currently reuses the earlier instance.  In a future version, a new instance will always be created and returned.  Meanwhile, this warning can be suppressed, and the future behavior ensured, by passing a unique label to each axes instance.\n",
      "  \n"
     ]
    },
    {
     "data": {
      "image/png": "[encoded data removed]",
      "text/plain": [
       "<Figure size 432x288 with 1 Axes>"
      ]
     },
     "metadata": {},
     "output_type": "display_data"
    }
   ],
   "source": [
    "plt.hist(df[\"age\"],10, histtype=\"bar\", edgecolor=\"black\")\n",
    "ax=plt.axes()\n",
    "ax.set_xticks([0,10,20,30,40,50,60,70,80,90,100])\n",
    "plt.xlabel(\"Age\")\n",
    "plt.ylabel(\"Counts\")\n",
    "plt.title(\"Distribution of Age\")\n",
    "plt.show()"
   ]
  },
  {
   "cell_type": "code",
   "execution_count": 42,
   "metadata": {
    "collapsed": true
   },
   "outputs": [],
   "source": [
    "# This data describes the age of customers in a bank. Max no. of age customers around 25 to 45 age."
   ]
  },
  {
   "cell_type": "code",
   "execution_count": 43,
   "metadata": {},
   "outputs": [
    {
     "name": "stderr",
     "output_type": "stream",
     "text": [
      "C:\\Users\\PC\\Anaconda3\\lib\\site-packages\\ipykernel_launcher.py:2: MatplotlibDeprecationWarning: Adding an axes using the same arguments as a previous axes currently reuses the earlier instance.  In a future version, a new instance will always be created and returned.  Meanwhile, this warning can be suppressed, and the future behavior ensured, by passing a unique label to each axes instance.\n",
      "  \n"
     ]
    },
    {
     "data": {
      "image/png": "[encoded data removed]",
      "text/plain": [
       "<Figure size 432x288 with 1 Axes>"
      ]
     },
     "metadata": {},
     "output_type": "display_data"
    }
   ],
   "source": [
    "plt.hist(df[\"duration\"], 10, histtype=\"bar\", edgecolor=\"yellow\")\n",
    "ax=plt.axes()\n",
    "ax.set_xticks([0,500,1000,1500,2000,2500,3000,3500,4000,4500,5000])\n",
    "plt.xlabel(\"Duration\")\n",
    "plt.ylabel(\"Range\")\n",
    "plt.title(\"Range of Duration\")\n",
    "plt.show()\n"
   ]
  },
  {
   "cell_type": "code",
   "execution_count": 44,
   "metadata": {
    "collapsed": true
   },
   "outputs": [],
   "source": [
    "# Max no. of customers are staying with this bank of an average of 50 days"
   ]
  },
  {
   "cell_type": "code",
   "execution_count": 45,
   "metadata": {
    "collapsed": true
   },
   "outputs": [],
   "source": [
    "# df[\"campaign\"]=df[\"campaign\"].apply(str)"
   ]
  },
  {
   "cell_type": "code",
   "execution_count": 46,
   "metadata": {
    "collapsed": true
   },
   "outputs": [],
   "source": [
    "df[\"campaign\"]=df[\"campaign\"].astype(\"category\")"
   ]
  },
  {
   "cell_type": "code",
   "execution_count": 47,
   "metadata": {},
   "outputs": [
    {
     "data": {
      "text/plain": [
       "<matplotlib.axes._subplots.AxesSubplot at 0x12bb8dd8>"
      ]
     },
     "execution_count": 47,
     "metadata": {},
     "output_type": "execute_result"
    },
    {
     "data": {
      "image/png": "[encoded data removed]",
      "text/plain": [
       "<Figure size 1080x504 with 1 Axes>"
      ]
     },
     "metadata": {},
     "output_type": "display_data"
    }
   ],
   "source": [
    "df[\"campaign\"].value_counts().plot(kind=\"bar\", figsize=(15,7))\n"
   ]
  },
  {
   "cell_type": "code",
   "execution_count": 48,
   "metadata": {},
   "outputs": [
    {
     "data": {
      "text/plain": [
       "[1, 2, 3, 4, 5, ..., 37, 40, 33, 34, 43]\n",
       "Length: 42\n",
       "Categories (42, int64): [1, 2, 3, 4, ..., 40, 33, 34, 43]"
      ]
     },
     "execution_count": 48,
     "metadata": {},
     "output_type": "execute_result"
    }
   ],
   "source": [
    "list_campaign=df[\"campaign\"].unique()\n",
    "list_campaign"
   ]
  },
  {
   "cell_type": "code",
   "execution_count": 49,
   "metadata": {
    "collapsed": true
   },
   "outputs": [],
   "source": [
    "# df[\"campaign\"]=\"Category\" + df[\"campaign\"].astype(str)\n",
    "# df[\"campaign\"].unique()"
   ]
  },
  {
   "cell_type": "code",
   "execution_count": 50,
   "metadata": {},
   "outputs": [
    {
     "data": {
      "text/plain": [
       "<matplotlib.axes._subplots.AxesSubplot at 0x12cb8b70>"
      ]
     },
     "execution_count": 50,
     "metadata": {},
     "output_type": "execute_result"
    },
    {
     "data": {
      "image/png": "[encoded data removed]",
      "text/plain": [
       "<Figure size 1080x504 with 1 Axes>"
      ]
     },
     "metadata": {},
     "output_type": "display_data"
    }
   ],
   "source": [
    "df[\"job\"].value_counts().plot(kind=\"bar\", figsize=(15,7))"
   ]
  },
  {
   "cell_type": "code",
   "execution_count": 51,
   "metadata": {},
   "outputs": [
    {
     "data": {
      "text/plain": [
       "<matplotlib.axes._subplots.AxesSubplot at 0x12e4cd68>"
      ]
     },
     "execution_count": 51,
     "metadata": {},
     "output_type": "execute_result"
    },
    {
     "data": {
      "image/png": "[encoded data removed]",
      "text/plain": [
       "<Figure size 360x360 with 1 Axes>"
      ]
     },
     "metadata": {},
     "output_type": "display_data"
    }
   ],
   "source": [
    "df[\"marital\"].value_counts().plot(kind=\"bar\", figsize=(5,5))"
   ]
  },
  {
   "cell_type": "code",
   "execution_count": 52,
   "metadata": {},
   "outputs": [
    {
     "data": {
      "text/plain": [
       "<matplotlib.axes._subplots.AxesSubplot at 0x13fd8860>"
      ]
     },
     "execution_count": 52,
     "metadata": {},
     "output_type": "execute_result"
    },
    {
     "data": {
      "image/png": "[encoded data removed]",
      "text/plain": [
       "<Figure size 720x504 with 1 Axes>"
      ]
     },
     "metadata": {},
     "output_type": "display_data"
    }
   ],
   "source": [
    "df[\"education\"].value_counts().plot(kind=\"bar\", figsize=(10,7))"
   ]
  },
  {
   "cell_type": "code",
   "execution_count": 53,
   "metadata": {},
   "outputs": [
    {
     "data": {
      "text/plain": [
       "<matplotlib.axes._subplots.AxesSubplot at 0x1017d320>"
      ]
     },
     "execution_count": 53,
     "metadata": {},
     "output_type": "execute_result"
    },
    {
     "data": {
      "image/png": "[encoded data removed]",
      "text/plain": [
       "<Figure size 360x360 with 1 Axes>"
      ]
     },
     "metadata": {},
     "output_type": "display_data"
    }
   ],
   "source": [
    "df[\"default\"].value_counts().plot(kind=\"bar\", figsize=(5,5))"
   ]
  },
  {
   "cell_type": "code",
   "execution_count": 54,
   "metadata": {},
   "outputs": [
    {
     "data": {
      "text/plain": [
       "no     41185\n",
       "yes        3\n",
       "Name: default, dtype: int64"
      ]
     },
     "execution_count": 54,
     "metadata": {},
     "output_type": "execute_result"
    }
   ],
   "source": [
    "df[\"default\"].value_counts()"
   ]
  },
  {
   "cell_type": "code",
   "execution_count": 55,
   "metadata": {},
   "outputs": [
    {
     "data": {
      "text/plain": [
       "<matplotlib.axes._subplots.AxesSubplot at 0x1014aa58>"
      ]
     },
     "execution_count": 55,
     "metadata": {},
     "output_type": "execute_result"
    },
    {
     "data": {
      "image/png": "[encoded data removed]",
      "text/plain": [
       "<Figure size 360x216 with 1 Axes>"
      ]
     },
     "metadata": {},
     "output_type": "display_data"
    }
   ],
   "source": [
    "df[\"housing\"].value_counts().plot(kind=\"bar\", figsize=(5,3))"
   ]
  },
  {
   "cell_type": "code",
   "execution_count": 56,
   "metadata": {},
   "outputs": [
    {
     "data": {
      "text/plain": [
       "<matplotlib.axes._subplots.AxesSubplot at 0x13ff3d30>"
      ]
     },
     "execution_count": 56,
     "metadata": {},
     "output_type": "execute_result"
    },
    {
     "data": {
      "image/png": "[encoded data removed]",
      "text/plain": [
       "<Figure size 360x504 with 1 Axes>"
      ]
     },
     "metadata": {},
     "output_type": "display_data"
    }
   ],
   "source": [
    "df[\"loan\"].value_counts().plot(kind=\"bar\", figsize=(5,7))"
   ]
  },
  {
   "cell_type": "code",
   "execution_count": 57,
   "metadata": {},
   "outputs": [
    {
     "data": {
      "text/plain": [
       "<matplotlib.axes._subplots.AxesSubplot at 0x103debe0>"
      ]
     },
     "execution_count": 57,
     "metadata": {},
     "output_type": "execute_result"
    },
    {
     "data": {
      "image/png": "[encoded data removed]",
      "text/plain": [
       "<Figure size 360x216 with 1 Axes>"
      ]
     },
     "metadata": {},
     "output_type": "display_data"
    }
   ],
   "source": [
    "df[\"loan\"].value_counts().plot(kind=\"bar\", figsize=(5,3))"
   ]
  },
  {
   "cell_type": "code",
   "execution_count": 58,
   "metadata": {},
   "outputs": [
    {
     "data": {
      "text/plain": [
       "<matplotlib.axes._subplots.AxesSubplot at 0x103dea90>"
      ]
     },
     "execution_count": 58,
     "metadata": {},
     "output_type": "execute_result"
    },
    {
     "data": {
      "image/png": "[encoded data removed]",
      "text/plain": [
       "<Figure size 360x216 with 1 Axes>"
      ]
     },
     "metadata": {},
     "output_type": "display_data"
    }
   ],
   "source": [
    "df[\"month\"].value_counts().plot(kind=\"bar\", figsize=(5,3))"
   ]
  },
  {
   "cell_type": "code",
   "execution_count": 59,
   "metadata": {},
   "outputs": [
    {
     "data": {
      "text/plain": [
       "<matplotlib.axes._subplots.AxesSubplot at 0x140a6f28>"
      ]
     },
     "execution_count": 59,
     "metadata": {},
     "output_type": "execute_result"
    },
    {
     "data": {
      "image/png": "[encoded data removed]",
      "text/plain": [
       "<Figure size 360x216 with 1 Axes>"
      ]
     },
     "metadata": {},
     "output_type": "display_data"
    }
   ],
   "source": [
    "df[\"day_of_week\"].value_counts().plot(kind=\"bar\", figsize=(5,3))"
   ]
  },
  {
   "cell_type": "code",
   "execution_count": 60,
   "metadata": {},
   "outputs": [
    {
     "name": "stdout",
     "output_type": "stream",
     "text": [
      "Requirement already satisfied: seaborn in c:\\users\\pc\\anaconda3\\lib\\site-packages\n",
      "Requirement already satisfied: pandas>=0.22.0 in c:\\users\\pc\\anaconda3\\lib\\site-packages (from seaborn)\n",
      "Requirement already satisfied: numpy>=1.13.3 in c:\\users\\pc\\anaconda3\\lib\\site-packages (from seaborn)\n",
      "Requirement already satisfied: matplotlib>=2.1.2 in c:\\users\\pc\\anaconda3\\lib\\site-packages (from seaborn)\n",
      "Requirement already satisfied: scipy>=1.0.1 in c:\\users\\pc\\anaconda3\\lib\\site-packages (from seaborn)\n",
      "Requirement already satisfied: python-dateutil>=2.6.1 in c:\\users\\pc\\anaconda3\\lib\\site-packages (from pandas>=0.22.0->seaborn)\n",
      "Requirement already satisfied: pytz>=2017.2 in c:\\users\\pc\\anaconda3\\lib\\site-packages (from pandas>=0.22.0->seaborn)\n",
      "Requirement already satisfied: cycler>=0.10 in c:\\users\\pc\\anaconda3\\lib\\site-packages (from matplotlib>=2.1.2->seaborn)\n",
      "Requirement already satisfied: pyparsing!=2.0.4,!=2.1.2,!=2.1.6,>=2.0.1 in c:\\users\\pc\\anaconda3\\lib\\site-packages (from matplotlib>=2.1.2->seaborn)\n",
      "Requirement already satisfied: kiwisolver>=1.0.1 in c:\\users\\pc\\anaconda3\\lib\\site-packages (from matplotlib>=2.1.2->seaborn)\n",
      "Requirement already satisfied: six>=1.5 in c:\\users\\pc\\anaconda3\\lib\\site-packages (from python-dateutil>=2.6.1->pandas>=0.22.0->seaborn)\n",
      "Requirement already satisfied: setuptools in c:\\users\\pc\\anaconda3\\lib\\site-packages (from kiwisolver>=1.0.1->matplotlib>=2.1.2->seaborn)\n"
     ]
    },
    {
     "name": "stderr",
     "output_type": "stream",
     "text": [
      "You are using pip version 9.0.1, however version 20.0.2 is available.\n",
      "You should consider upgrading via the 'python -m pip install --upgrade pip' command.\n"
     ]
    }
   ],
   "source": [
    "! pip install seaborn"
   ]
  },
  {
   "cell_type": "markdown",
   "metadata": {},
   "source": [
    "## Bivariate Analysis##"
   ]
  },
  {
   "cell_type": "code",
   "execution_count": 61,
   "metadata": {
    "collapsed": true
   },
   "outputs": [],
   "source": [
    "import scipy as sp"
   ]
  },
  {
   "cell_type": "code",
   "execution_count": 62,
   "metadata": {
    "collapsed": true
   },
   "outputs": [],
   "source": [
    "import seaborn as sns"
   ]
  },
  {
   "cell_type": "code",
   "execution_count": 63,
   "metadata": {
    "collapsed": true
   },
   "outputs": [],
   "source": [
    "def heatMap(df):\n",
    "    corr=df.corr()\n",
    "#     fig, ax=plt.subplots(figsize=(10,7))\n",
    "    sns.heatmap(corr, annot=True, fmt=\".2f\")\n",
    "    plt.xticks(range(len(corr.columns)), corr.columns);\n",
    "    plt.yticks(range(len(corr.columns)), corr.columns)\n",
    "    plt.show()"
   ]
  },
  {
   "cell_type": "code",
   "execution_count": 64,
   "metadata": {},
   "outputs": [
    {
     "data": {
      "image/png": "[encoded data removed]",
      "text/plain": [
       "<Figure size 432x288 with 2 Axes>"
      ]
     },
     "metadata": {},
     "output_type": "display_data"
    }
   ],
   "source": [
    "heatMap(df)"
   ]
  },
  {
   "cell_type": "code",
   "execution_count": 65,
   "metadata": {},
   "outputs": [
    {
     "data": {
      "text/plain": [
       "<matplotlib.axes._subplots.AxesSubplot at 0x140a6f98>"
      ]
     },
     "execution_count": 65,
     "metadata": {},
     "output_type": "execute_result"
    },
    {
     "data": {
      "image/png": "[encoded data removed]",
      "text/plain": [
       "<Figure size 1080x504 with 1 Axes>"
      ]
     },
     "metadata": {},
     "output_type": "display_data"
    }
   ],
   "source": [
    "df.groupby([\"education\",'marital']).size().unstack().plot(kind=\"bar\", stacked=True, grid=True, figsize=(15,7))"
   ]
  },
  {
   "cell_type": "code",
   "execution_count": null,
   "metadata": {
    "collapsed": true
   },
   "outputs": [],
   "source": [
    "# unstack?"
   ]
  },
  {
   "cell_type": "code",
   "execution_count": 66,
   "metadata": {},
   "outputs": [
    {
     "data": {
      "text/plain": [
       "<matplotlib.axes._subplots.AxesSubplot at 0x16cc7ef0>"
      ]
     },
     "execution_count": 66,
     "metadata": {},
     "output_type": "execute_result"
    },
    {
     "data": {
      "image/png": "[encoded data removed]",
      "text/plain": [
       "<Figure size 720x504 with 1 Axes>"
      ]
     },
     "metadata": {},
     "output_type": "display_data"
    }
   ],
   "source": [
    "df.groupby([\"job\", \"default\"]).size().unstack().plot(kind=\"bar\", stacked=True, grid=True, figsize=(10,7))"
   ]
  },
  {
   "cell_type": "code",
   "execution_count": 67,
   "metadata": {},
   "outputs": [
    {
     "data": {
      "text/plain": [
       "<matplotlib.axes._subplots.AxesSubplot at 0x16d9ddd8>"
      ]
     },
     "execution_count": 67,
     "metadata": {},
     "output_type": "execute_result"
    },
    {
     "data": {
      "image/png": "[encoded data removed]",
      "text/plain": [
       "<Figure size 720x504 with 1 Axes>"
      ]
     },
     "metadata": {},
     "output_type": "display_data"
    }
   ],
   "source": [
    "df.groupby([\"housing\", \"contact\"]).size().unstack().plot(kind=\"bar\", stacked=True, grid=True, figsize=(10,7))"
   ]
  },
  {
   "cell_type": "code",
   "execution_count": 68,
   "metadata": {},
   "outputs": [
    {
     "data": {
      "text/plain": [
       "<matplotlib.axes._subplots.AxesSubplot at 0x16c3ff60>"
      ]
     },
     "execution_count": 68,
     "metadata": {},
     "output_type": "execute_result"
    },
    {
     "data": {
      "image/png": "[encoded data removed]",
      "text/plain": [
       "<Figure size 720x504 with 1 Axes>"
      ]
     },
     "metadata": {},
     "output_type": "display_data"
    }
   ],
   "source": [
    "df.groupby([\"month\", \"day_of_week\"]).size().unstack().plot(kind=\"bar\", stacked=True, grid=True, figsize=(10,7))"
   ]
  },
  {
   "cell_type": "code",
   "execution_count": 69,
   "metadata": {},
   "outputs": [
    {
     "data": {
      "text/plain": [
       "<matplotlib.axes._subplots.AxesSubplot at 0x172c4dd8>"
      ]
     },
     "execution_count": 69,
     "metadata": {},
     "output_type": "execute_result"
    },
    {
     "data": {
      "image/png": "[encoded data removed]",
      "text/plain": [
       "<Figure size 720x504 with 1 Axes>"
      ]
     },
     "metadata": {},
     "output_type": "display_data"
    }
   ],
   "source": [
    "df.groupby([\"default\",\"contact\"]).size().unstack().plot(kind=\"bar\", stacked=True, grid=True, figsize=(10,7))"
   ]
  },
  {
   "cell_type": "code",
   "execution_count": 70,
   "metadata": {},
   "outputs": [
    {
     "data": {
      "text/plain": [
       "<matplotlib.axes._subplots.AxesSubplot at 0x174bda58>"
      ]
     },
     "execution_count": 70,
     "metadata": {},
     "output_type": "execute_result"
    },
    {
     "data": {
      "image/png": "[encoded data removed]",
      "text/plain": [
       "<Figure size 720x504 with 1 Axes>"
      ]
     },
     "metadata": {},
     "output_type": "display_data"
    }
   ],
   "source": [
    "df.groupby([\"job\", \"marital\"])[\"loan\"].size().unstack().plot(kind=\"bar\", stacked=True, grid=True, figsize=(10,7))"
   ]
  },
  {
   "cell_type": "code",
   "execution_count": 71,
   "metadata": {},
   "outputs": [
    {
     "data": {
      "text/html": [
       "<div>\n",
       "<style scoped>\n",
       "    .dataframe tbody tr th:only-of-type {\n",
       "        vertical-align: middle;\n",
       "    }\n",
       "\n",
       "    .dataframe tbody tr th {\n",
       "        vertical-align: top;\n",
       "    }\n",
       "\n",
       "    .dataframe thead tr th {\n",
       "        text-align: left;\n",
       "    }\n",
       "\n",
       "    .dataframe thead tr:last-of-type th {\n",
       "        text-align: right;\n",
       "    }\n",
       "</style>\n",
       "<table border=\"1\" class=\"dataframe\">\n",
       "  <thead>\n",
       "    <tr>\n",
       "      <th></th>\n",
       "      <th></th>\n",
       "      <th colspan=\"2\" halign=\"left\">age</th>\n",
       "      <th colspan=\"2\" halign=\"left\">cons.conf.idx</th>\n",
       "      <th colspan=\"2\" halign=\"left\">cons.price.idx</th>\n",
       "      <th colspan=\"2\" halign=\"left\">duration</th>\n",
       "      <th colspan=\"2\" halign=\"left\">emp.var.rate</th>\n",
       "      <th colspan=\"2\" halign=\"left\">euribor3m</th>\n",
       "      <th colspan=\"2\" halign=\"left\">nr.employed</th>\n",
       "      <th colspan=\"2\" halign=\"left\">pdays</th>\n",
       "      <th colspan=\"2\" halign=\"left\">previous</th>\n",
       "    </tr>\n",
       "    <tr>\n",
       "      <th></th>\n",
       "      <th>loan</th>\n",
       "      <th>no</th>\n",
       "      <th>yes</th>\n",
       "      <th>no</th>\n",
       "      <th>yes</th>\n",
       "      <th>no</th>\n",
       "      <th>yes</th>\n",
       "      <th>no</th>\n",
       "      <th>yes</th>\n",
       "      <th>no</th>\n",
       "      <th>yes</th>\n",
       "      <th>no</th>\n",
       "      <th>yes</th>\n",
       "      <th>no</th>\n",
       "      <th>yes</th>\n",
       "      <th>no</th>\n",
       "      <th>yes</th>\n",
       "      <th>no</th>\n",
       "      <th>yes</th>\n",
       "    </tr>\n",
       "    <tr>\n",
       "      <th>job</th>\n",
       "      <th>marital</th>\n",
       "      <th></th>\n",
       "      <th></th>\n",
       "      <th></th>\n",
       "      <th></th>\n",
       "      <th></th>\n",
       "      <th></th>\n",
       "      <th></th>\n",
       "      <th></th>\n",
       "      <th></th>\n",
       "      <th></th>\n",
       "      <th></th>\n",
       "      <th></th>\n",
       "      <th></th>\n",
       "      <th></th>\n",
       "      <th></th>\n",
       "      <th></th>\n",
       "      <th></th>\n",
       "      <th></th>\n",
       "    </tr>\n",
       "  </thead>\n",
       "  <tbody>\n",
       "    <tr>\n",
       "      <th rowspan=\"3\" valign=\"top\">admin.</th>\n",
       "      <th>divorced</th>\n",
       "      <td>43.396192</td>\n",
       "      <td>43.142105</td>\n",
       "      <td>-40.344878</td>\n",
       "      <td>-40.742105</td>\n",
       "      <td>93.563801</td>\n",
       "      <td>93.542895</td>\n",
       "      <td>252.172257</td>\n",
       "      <td>258.642105</td>\n",
       "      <td>0.165639</td>\n",
       "      <td>0.177895</td>\n",
       "      <td>3.736225</td>\n",
       "      <td>3.672868</td>\n",
       "      <td>5172.477063</td>\n",
       "      <td>5171.040000</td>\n",
       "      <td>967.487761</td>\n",
       "      <td>978.047368</td>\n",
       "      <td>0.174977</td>\n",
       "      <td>0.142105</td>\n",
       "    </tr>\n",
       "    <tr>\n",
       "      <th>married</th>\n",
       "      <td>40.581502</td>\n",
       "      <td>40.876503</td>\n",
       "      <td>-39.874189</td>\n",
       "      <td>-39.919016</td>\n",
       "      <td>93.569932</td>\n",
       "      <td>93.556760</td>\n",
       "      <td>252.561262</td>\n",
       "      <td>252.695082</td>\n",
       "      <td>0.138411</td>\n",
       "      <td>0.055301</td>\n",
       "      <td>3.701106</td>\n",
       "      <td>3.587110</td>\n",
       "      <td>5169.096518</td>\n",
       "      <td>5163.942404</td>\n",
       "      <td>956.433950</td>\n",
       "      <td>953.436066</td>\n",
       "      <td>0.174538</td>\n",
       "      <td>0.181421</td>\n",
       "    </tr>\n",
       "    <tr>\n",
       "      <th>single</th>\n",
       "      <td>33.665044</td>\n",
       "      <td>33.882175</td>\n",
       "      <td>-40.574597</td>\n",
       "      <td>-40.609215</td>\n",
       "      <td>93.491792</td>\n",
       "      <td>93.503541</td>\n",
       "      <td>259.167022</td>\n",
       "      <td>239.620846</td>\n",
       "      <td>-0.181290</td>\n",
       "      <td>-0.040634</td>\n",
       "      <td>3.314714</td>\n",
       "      <td>3.475796</td>\n",
       "      <td>5154.942379</td>\n",
       "      <td>5163.958761</td>\n",
       "      <td>944.023426</td>\n",
       "      <td>955.459215</td>\n",
       "      <td>0.220566</td>\n",
       "      <td>0.163142</td>\n",
       "    </tr>\n",
       "    <tr>\n",
       "      <th rowspan=\"3\" valign=\"top\">blue-collar</th>\n",
       "      <th>divorced</th>\n",
       "      <td>42.912088</td>\n",
       "      <td>42.340659</td>\n",
       "      <td>-41.432339</td>\n",
       "      <td>-41.458242</td>\n",
       "      <td>93.722549</td>\n",
       "      <td>93.771396</td>\n",
       "      <td>274.229199</td>\n",
       "      <td>260.362637</td>\n",
       "      <td>0.362480</td>\n",
       "      <td>0.518681</td>\n",
       "      <td>3.922196</td>\n",
       "      <td>4.103692</td>\n",
       "      <td>5180.799372</td>\n",
       "      <td>5187.829670</td>\n",
       "      <td>985.001570</td>\n",
       "      <td>999.000000</td>\n",
       "      <td>0.114600</td>\n",
       "      <td>0.142857</td>\n",
       "    </tr>\n",
       "    <tr>\n",
       "      <th>married</th>\n",
       "      <td>40.926388</td>\n",
       "      <td>40.691774</td>\n",
       "      <td>-41.150123</td>\n",
       "      <td>-41.453419</td>\n",
       "      <td>93.663570</td>\n",
       "      <td>93.625420</td>\n",
       "      <td>263.450984</td>\n",
       "      <td>253.607532</td>\n",
       "      <td>0.293148</td>\n",
       "      <td>0.211893</td>\n",
       "      <td>3.825270</td>\n",
       "      <td>3.733745</td>\n",
       "      <td>5177.585734</td>\n",
       "      <td>5174.882359</td>\n",
       "      <td>985.747189</td>\n",
       "      <td>988.159564</td>\n",
       "      <td>0.114195</td>\n",
       "      <td>0.121903</td>\n",
       "    </tr>\n",
       "    <tr>\n",
       "      <th>single</th>\n",
       "      <td>33.400898</td>\n",
       "      <td>33.000000</td>\n",
       "      <td>-41.998461</td>\n",
       "      <td>-42.098120</td>\n",
       "      <td>93.623936</td>\n",
       "      <td>93.621906</td>\n",
       "      <td>268.627967</td>\n",
       "      <td>283.661654</td>\n",
       "      <td>0.075625</td>\n",
       "      <td>0.096992</td>\n",
       "      <td>3.556162</td>\n",
       "      <td>3.568914</td>\n",
       "      <td>5167.332393</td>\n",
       "      <td>5168.178195</td>\n",
       "      <td>979.889031</td>\n",
       "      <td>987.766917</td>\n",
       "      <td>0.153945</td>\n",
       "      <td>0.131579</td>\n",
       "    </tr>\n",
       "    <tr>\n",
       "      <th rowspan=\"3\" valign=\"top\">entrepreneur</th>\n",
       "      <th>divorced</th>\n",
       "      <td>44.040000</td>\n",
       "      <td>44.448276</td>\n",
       "      <td>-41.659333</td>\n",
       "      <td>-42.389655</td>\n",
       "      <td>93.533533</td>\n",
       "      <td>93.674862</td>\n",
       "      <td>234.973333</td>\n",
       "      <td>231.931034</td>\n",
       "      <td>0.024000</td>\n",
       "      <td>0.396552</td>\n",
       "      <td>3.654233</td>\n",
       "      <td>3.956862</td>\n",
       "      <td>5172.142667</td>\n",
       "      <td>5188.248276</td>\n",
       "      <td>979.166667</td>\n",
       "      <td>999.000000</td>\n",
       "      <td>0.146667</td>\n",
       "      <td>0.103448</td>\n",
       "    </tr>\n",
       "    <tr>\n",
       "      <th>married</th>\n",
       "      <td>42.458963</td>\n",
       "      <td>42.783784</td>\n",
       "      <td>-40.989093</td>\n",
       "      <td>-41.493243</td>\n",
       "      <td>93.617013</td>\n",
       "      <td>93.597068</td>\n",
       "      <td>270.196544</td>\n",
       "      <td>260.594595</td>\n",
       "      <td>0.175918</td>\n",
       "      <td>0.155405</td>\n",
       "      <td>3.818419</td>\n",
       "      <td>3.782662</td>\n",
       "      <td>5176.191685</td>\n",
       "      <td>5177.187838</td>\n",
       "      <td>977.555076</td>\n",
       "      <td>992.277027</td>\n",
       "      <td>0.142549</td>\n",
       "      <td>0.148649</td>\n",
       "    </tr>\n",
       "    <tr>\n",
       "      <th>single</th>\n",
       "      <td>35.459770</td>\n",
       "      <td>35.689655</td>\n",
       "      <td>-41.764943</td>\n",
       "      <td>-43.682759</td>\n",
       "      <td>93.633897</td>\n",
       "      <td>93.406966</td>\n",
       "      <td>274.379310</td>\n",
       "      <td>166.689655</td>\n",
       "      <td>0.213793</td>\n",
       "      <td>-0.244828</td>\n",
       "      <td>3.827839</td>\n",
       "      <td>3.284552</td>\n",
       "      <td>5179.417241</td>\n",
       "      <td>5166.758621</td>\n",
       "      <td>987.557471</td>\n",
       "      <td>999.000000</td>\n",
       "      <td>0.086207</td>\n",
       "      <td>0.275862</td>\n",
       "    </tr>\n",
       "    <tr>\n",
       "      <th rowspan=\"3\" valign=\"top\">housemaid</th>\n",
       "      <th>divorced</th>\n",
       "      <td>49.992593</td>\n",
       "      <td>47.692308</td>\n",
       "      <td>-39.614074</td>\n",
       "      <td>-41.280769</td>\n",
       "      <td>93.717156</td>\n",
       "      <td>93.747000</td>\n",
       "      <td>251.318519</td>\n",
       "      <td>257.576923</td>\n",
       "      <td>0.324444</td>\n",
       "      <td>0.369231</td>\n",
       "      <td>3.920511</td>\n",
       "      <td>3.957038</td>\n",
       "      <td>5172.191852</td>\n",
       "      <td>5175.530769</td>\n",
       "      <td>954.800000</td>\n",
       "      <td>999.000000</td>\n",
       "      <td>0.207407</td>\n",
       "      <td>0.153846</td>\n",
       "    </tr>\n",
       "    <tr>\n",
       "      <th>married</th>\n",
       "      <td>45.716814</td>\n",
       "      <td>45.764706</td>\n",
       "      <td>-39.405900</td>\n",
       "      <td>-38.893137</td>\n",
       "      <td>93.673187</td>\n",
       "      <td>93.668020</td>\n",
       "      <td>248.712389</td>\n",
       "      <td>245.705882</td>\n",
       "      <td>0.515487</td>\n",
       "      <td>0.532353</td>\n",
       "      <td>4.091127</td>\n",
       "      <td>4.127559</td>\n",
       "      <td>5183.825811</td>\n",
       "      <td>5185.710784</td>\n",
       "      <td>969.703540</td>\n",
       "      <td>940.656863</td>\n",
       "      <td>0.119469</td>\n",
       "      <td>0.147059</td>\n",
       "    </tr>\n",
       "    <tr>\n",
       "      <th>single</th>\n",
       "      <td>38.752688</td>\n",
       "      <td>37.423077</td>\n",
       "      <td>-40.007527</td>\n",
       "      <td>-39.953846</td>\n",
       "      <td>93.638957</td>\n",
       "      <td>93.651962</td>\n",
       "      <td>264.763441</td>\n",
       "      <td>251.730769</td>\n",
       "      <td>-0.034409</td>\n",
       "      <td>0.207692</td>\n",
       "      <td>3.504839</td>\n",
       "      <td>3.743346</td>\n",
       "      <td>5155.620430</td>\n",
       "      <td>5170.869231</td>\n",
       "      <td>913.526882</td>\n",
       "      <td>960.692308</td>\n",
       "      <td>0.161290</td>\n",
       "      <td>0.115385</td>\n",
       "    </tr>\n",
       "    <tr>\n",
       "      <th rowspan=\"3\" valign=\"top\">management</th>\n",
       "      <th>divorced</th>\n",
       "      <td>46.320819</td>\n",
       "      <td>45.184211</td>\n",
       "      <td>-40.461092</td>\n",
       "      <td>-40.339474</td>\n",
       "      <td>93.563266</td>\n",
       "      <td>93.582079</td>\n",
       "      <td>248.426621</td>\n",
       "      <td>249.026316</td>\n",
       "      <td>-0.025939</td>\n",
       "      <td>-0.010526</td>\n",
       "      <td>3.597874</td>\n",
       "      <td>3.580816</td>\n",
       "      <td>5164.042662</td>\n",
       "      <td>5164.505263</td>\n",
       "      <td>944.754266</td>\n",
       "      <td>946.815789</td>\n",
       "      <td>0.221843</td>\n",
       "      <td>0.236842</td>\n",
       "    </tr>\n",
       "    <tr>\n",
       "      <th>married</th>\n",
       "      <td>43.913364</td>\n",
       "      <td>42.972393</td>\n",
       "      <td>-40.177576</td>\n",
       "      <td>-40.633742</td>\n",
       "      <td>93.524215</td>\n",
       "      <td>93.532242</td>\n",
       "      <td>257.796716</td>\n",
       "      <td>262.214724</td>\n",
       "      <td>0.024915</td>\n",
       "      <td>0.132515</td>\n",
       "      <td>3.658424</td>\n",
       "      <td>3.775218</td>\n",
       "      <td>5167.947905</td>\n",
       "      <td>5175.660123</td>\n",
       "      <td>962.996602</td>\n",
       "      <td>971.546012</td>\n",
       "      <td>0.179502</td>\n",
       "      <td>0.180982</td>\n",
       "    </tr>\n",
       "    <tr>\n",
       "      <th>single</th>\n",
       "      <td>33.924883</td>\n",
       "      <td>34.240000</td>\n",
       "      <td>-41.325587</td>\n",
       "      <td>-42.644000</td>\n",
       "      <td>93.502777</td>\n",
       "      <td>93.372307</td>\n",
       "      <td>258.861502</td>\n",
       "      <td>244.800000</td>\n",
       "      <td>-0.221127</td>\n",
       "      <td>-0.294667</td>\n",
       "      <td>3.350542</td>\n",
       "      <td>3.338840</td>\n",
       "      <td>5156.998122</td>\n",
       "      <td>5163.040000</td>\n",
       "      <td>964.037559</td>\n",
       "      <td>985.760000</td>\n",
       "      <td>0.185446</td>\n",
       "      <td>0.160000</td>\n",
       "    </tr>\n",
       "    <tr>\n",
       "      <th rowspan=\"3\" valign=\"top\">retired</th>\n",
       "      <th>divorced</th>\n",
       "      <td>64.183051</td>\n",
       "      <td>65.981132</td>\n",
       "      <td>-39.604746</td>\n",
       "      <td>-39.509434</td>\n",
       "      <td>93.477715</td>\n",
       "      <td>93.473113</td>\n",
       "      <td>253.325424</td>\n",
       "      <td>274.000000</td>\n",
       "      <td>-0.855593</td>\n",
       "      <td>-1.100000</td>\n",
       "      <td>2.551478</td>\n",
       "      <td>2.223094</td>\n",
       "      <td>5110.583390</td>\n",
       "      <td>5094.177358</td>\n",
       "      <td>914.850847</td>\n",
       "      <td>774.075472</td>\n",
       "      <td>0.315254</td>\n",
       "      <td>0.509434</td>\n",
       "    </tr>\n",
       "    <tr>\n",
       "      <th>married</th>\n",
       "      <td>61.696833</td>\n",
       "      <td>62.655172</td>\n",
       "      <td>-38.234208</td>\n",
       "      <td>-38.214368</td>\n",
       "      <td>93.414276</td>\n",
       "      <td>93.353460</td>\n",
       "      <td>273.051584</td>\n",
       "      <td>303.522989</td>\n",
       "      <td>-0.667059</td>\n",
       "      <td>-0.737931</td>\n",
       "      <td>2.806024</td>\n",
       "      <td>2.793552</td>\n",
       "      <td>5123.973937</td>\n",
       "      <td>5126.925287</td>\n",
       "      <td>899.205430</td>\n",
       "      <td>879.178161</td>\n",
       "      <td>0.330317</td>\n",
       "      <td>0.350575</td>\n",
       "    </tr>\n",
       "    <tr>\n",
       "      <th>single</th>\n",
       "      <td>56.037500</td>\n",
       "      <td>53.538462</td>\n",
       "      <td>-39.007500</td>\n",
       "      <td>-42.276923</td>\n",
       "      <td>93.562175</td>\n",
       "      <td>93.823077</td>\n",
       "      <td>303.425000</td>\n",
       "      <td>209.461538</td>\n",
       "      <td>-0.331250</td>\n",
       "      <td>0.123077</td>\n",
       "      <td>3.276050</td>\n",
       "      <td>3.475769</td>\n",
       "      <td>5144.198750</td>\n",
       "      <td>5158.869231</td>\n",
       "      <td>924.462500</td>\n",
       "      <td>999.000000</td>\n",
       "      <td>0.212500</td>\n",
       "      <td>0.000000</td>\n",
       "    </tr>\n",
       "    <tr>\n",
       "      <th rowspan=\"3\" valign=\"top\">self-employed</th>\n",
       "      <th>divorced</th>\n",
       "      <td>43.101695</td>\n",
       "      <td>40.000000</td>\n",
       "      <td>-41.185593</td>\n",
       "      <td>-41.886667</td>\n",
       "      <td>93.524636</td>\n",
       "      <td>93.871000</td>\n",
       "      <td>295.830508</td>\n",
       "      <td>266.800000</td>\n",
       "      <td>-0.155932</td>\n",
       "      <td>0.493333</td>\n",
       "      <td>3.441669</td>\n",
       "      <td>3.926267</td>\n",
       "      <td>5162.879661</td>\n",
       "      <td>5179.113333</td>\n",
       "      <td>973.677966</td>\n",
       "      <td>999.000000</td>\n",
       "      <td>0.177966</td>\n",
       "      <td>0.066667</td>\n",
       "    </tr>\n",
       "    <tr>\n",
       "      <th>married</th>\n",
       "      <td>42.222222</td>\n",
       "      <td>42.166667</td>\n",
       "      <td>-40.254151</td>\n",
       "      <td>-39.990476</td>\n",
       "      <td>93.586055</td>\n",
       "      <td>93.633746</td>\n",
       "      <td>254.111111</td>\n",
       "      <td>315.166667</td>\n",
       "      <td>0.324138</td>\n",
       "      <td>0.420635</td>\n",
       "      <td>3.934630</td>\n",
       "      <td>4.059040</td>\n",
       "      <td>5181.233333</td>\n",
       "      <td>5186.303175</td>\n",
       "      <td>979.966794</td>\n",
       "      <td>975.325397</td>\n",
       "      <td>0.121328</td>\n",
       "      <td>0.119048</td>\n",
       "    </tr>\n",
       "    <tr>\n",
       "      <th>single</th>\n",
       "      <td>33.378462</td>\n",
       "      <td>34.462963</td>\n",
       "      <td>-40.856308</td>\n",
       "      <td>-40.912963</td>\n",
       "      <td>93.478489</td>\n",
       "      <td>93.491111</td>\n",
       "      <td>260.916923</td>\n",
       "      <td>239.962963</td>\n",
       "      <td>-0.410769</td>\n",
       "      <td>-0.527778</td>\n",
       "      <td>3.149652</td>\n",
       "      <td>2.994481</td>\n",
       "      <td>5147.065231</td>\n",
       "      <td>5137.883333</td>\n",
       "      <td>977.630769</td>\n",
       "      <td>925.277778</td>\n",
       "      <td>0.184615</td>\n",
       "      <td>0.222222</td>\n",
       "    </tr>\n",
       "    <tr>\n",
       "      <th rowspan=\"3\" valign=\"top\">services</th>\n",
       "      <th>divorced</th>\n",
       "      <td>42.173034</td>\n",
       "      <td>41.632184</td>\n",
       "      <td>-41.871461</td>\n",
       "      <td>-41.686207</td>\n",
       "      <td>93.672274</td>\n",
       "      <td>93.674184</td>\n",
       "      <td>253.071910</td>\n",
       "      <td>287.988506</td>\n",
       "      <td>0.216854</td>\n",
       "      <td>0.374713</td>\n",
       "      <td>3.744488</td>\n",
       "      <td>3.958908</td>\n",
       "      <td>5174.768989</td>\n",
       "      <td>5181.008046</td>\n",
       "      <td>990.071910</td>\n",
       "      <td>976.241379</td>\n",
       "      <td>0.125843</td>\n",
       "      <td>0.160920</td>\n",
       "    </tr>\n",
       "    <tr>\n",
       "      <th>married</th>\n",
       "      <td>39.928021</td>\n",
       "      <td>39.594366</td>\n",
       "      <td>-40.870180</td>\n",
       "      <td>-41.038592</td>\n",
       "      <td>93.638958</td>\n",
       "      <td>93.661473</td>\n",
       "      <td>251.691517</td>\n",
       "      <td>249.270423</td>\n",
       "      <td>0.268278</td>\n",
       "      <td>0.326479</td>\n",
       "      <td>3.820857</td>\n",
       "      <td>3.868983</td>\n",
       "      <td>5176.081697</td>\n",
       "      <td>5178.403944</td>\n",
       "      <td>981.613882</td>\n",
       "      <td>982.208451</td>\n",
       "      <td>0.143959</td>\n",
       "      <td>0.129577</td>\n",
       "    </tr>\n",
       "    <tr>\n",
       "      <th>single</th>\n",
       "      <td>31.969325</td>\n",
       "      <td>32.446541</td>\n",
       "      <td>-41.846728</td>\n",
       "      <td>-41.719497</td>\n",
       "      <td>93.605284</td>\n",
       "      <td>93.575975</td>\n",
       "      <td>271.778119</td>\n",
       "      <td>277.232704</td>\n",
       "      <td>-0.049080</td>\n",
       "      <td>-0.143396</td>\n",
       "      <td>3.416048</td>\n",
       "      <td>3.304403</td>\n",
       "      <td>5160.413906</td>\n",
       "      <td>5156.376730</td>\n",
       "      <td>972.607362</td>\n",
       "      <td>974.018868</td>\n",
       "      <td>0.187117</td>\n",
       "      <td>0.226415</td>\n",
       "    </tr>\n",
       "    <tr>\n",
       "      <th rowspan=\"3\" valign=\"top\">student</th>\n",
       "      <th>divorced</th>\n",
       "      <td>34.428571</td>\n",
       "      <td>36.500000</td>\n",
       "      <td>-41.528571</td>\n",
       "      <td>-41.350000</td>\n",
       "      <td>93.489000</td>\n",
       "      <td>93.897000</td>\n",
       "      <td>376.428571</td>\n",
       "      <td>271.000000</td>\n",
       "      <td>-0.542857</td>\n",
       "      <td>-0.200000</td>\n",
       "      <td>2.595714</td>\n",
       "      <td>2.833500</td>\n",
       "      <td>5117.500000</td>\n",
       "      <td>5118.400000</td>\n",
       "      <td>999.000000</td>\n",
       "      <td>999.000000</td>\n",
       "      <td>0.142857</td>\n",
       "      <td>0.000000</td>\n",
       "    </tr>\n",
       "    <tr>\n",
       "      <th>married</th>\n",
       "      <td>30.694444</td>\n",
       "      <td>30.166667</td>\n",
       "      <td>-40.077778</td>\n",
       "      <td>-42.966667</td>\n",
       "      <td>93.401861</td>\n",
       "      <td>93.740833</td>\n",
       "      <td>238.972222</td>\n",
       "      <td>138.500000</td>\n",
       "      <td>-0.702778</td>\n",
       "      <td>0.283333</td>\n",
       "      <td>2.807611</td>\n",
       "      <td>3.759500</td>\n",
       "      <td>5128.430556</td>\n",
       "      <td>5178.916667</td>\n",
       "      <td>916.000000</td>\n",
       "      <td>999.000000</td>\n",
       "      <td>0.361111</td>\n",
       "      <td>0.000000</td>\n",
       "    </tr>\n",
       "    <tr>\n",
       "      <th>single</th>\n",
       "      <td>25.524638</td>\n",
       "      <td>25.716418</td>\n",
       "      <td>-39.994783</td>\n",
       "      <td>-40.997761</td>\n",
       "      <td>93.304845</td>\n",
       "      <td>93.415590</td>\n",
       "      <td>282.608696</td>\n",
       "      <td>303.074627</td>\n",
       "      <td>-1.481594</td>\n",
       "      <td>-1.357463</td>\n",
       "      <td>1.819422</td>\n",
       "      <td>1.834530</td>\n",
       "      <td>5083.217826</td>\n",
       "      <td>5082.239552</td>\n",
       "      <td>840.843478</td>\n",
       "      <td>798.858209</td>\n",
       "      <td>0.531884</td>\n",
       "      <td>0.582090</td>\n",
       "    </tr>\n",
       "    <tr>\n",
       "      <th rowspan=\"3\" valign=\"top\">technician</th>\n",
       "      <th>divorced</th>\n",
       "      <td>42.067588</td>\n",
       "      <td>41.975610</td>\n",
       "      <td>-40.284025</td>\n",
       "      <td>-40.304878</td>\n",
       "      <td>93.589080</td>\n",
       "      <td>93.595154</td>\n",
       "      <td>228.528418</td>\n",
       "      <td>253.772358</td>\n",
       "      <td>0.466820</td>\n",
       "      <td>0.528455</td>\n",
       "      <td>4.006883</td>\n",
       "      <td>4.087057</td>\n",
       "      <td>5185.603994</td>\n",
       "      <td>5187.745528</td>\n",
       "      <td>973.075269</td>\n",
       "      <td>999.000000</td>\n",
       "      <td>0.152074</td>\n",
       "      <td>0.097561</td>\n",
       "    </tr>\n",
       "    <tr>\n",
       "      <th>married</th>\n",
       "      <td>40.715783</td>\n",
       "      <td>40.846154</td>\n",
       "      <td>-39.512575</td>\n",
       "      <td>-39.869606</td>\n",
       "      <td>93.596462</td>\n",
       "      <td>93.576816</td>\n",
       "      <td>251.590664</td>\n",
       "      <td>257.367730</td>\n",
       "      <td>0.345507</td>\n",
       "      <td>0.346341</td>\n",
       "      <td>3.923533</td>\n",
       "      <td>3.903208</td>\n",
       "      <td>5178.059543</td>\n",
       "      <td>5178.574672</td>\n",
       "      <td>964.953954</td>\n",
       "      <td>963.596623</td>\n",
       "      <td>0.147031</td>\n",
       "      <td>0.133208</td>\n",
       "    </tr>\n",
       "    <tr>\n",
       "      <th>single</th>\n",
       "      <td>33.766121</td>\n",
       "      <td>33.465465</td>\n",
       "      <td>-40.394319</td>\n",
       "      <td>-40.369670</td>\n",
       "      <td>93.505687</td>\n",
       "      <td>93.466937</td>\n",
       "      <td>249.848004</td>\n",
       "      <td>269.342342</td>\n",
       "      <td>0.087410</td>\n",
       "      <td>0.117417</td>\n",
       "      <td>3.581487</td>\n",
       "      <td>3.651447</td>\n",
       "      <td>5167.436540</td>\n",
       "      <td>5172.418619</td>\n",
       "      <td>960.905834</td>\n",
       "      <td>951.375375</td>\n",
       "      <td>0.170931</td>\n",
       "      <td>0.174174</td>\n",
       "    </tr>\n",
       "    <tr>\n",
       "      <th rowspan=\"3\" valign=\"top\">unemployed</th>\n",
       "      <th>divorced</th>\n",
       "      <td>42.436893</td>\n",
       "      <td>43.428571</td>\n",
       "      <td>-39.949515</td>\n",
       "      <td>-40.542857</td>\n",
       "      <td>93.625612</td>\n",
       "      <td>93.659667</td>\n",
       "      <td>260.446602</td>\n",
       "      <td>197.285714</td>\n",
       "      <td>0.279612</td>\n",
       "      <td>0.014286</td>\n",
       "      <td>3.920709</td>\n",
       "      <td>3.580952</td>\n",
       "      <td>5176.498058</td>\n",
       "      <td>5165.971429</td>\n",
       "      <td>979.689320</td>\n",
       "      <td>951.666667</td>\n",
       "      <td>0.106796</td>\n",
       "      <td>0.285714</td>\n",
       "    </tr>\n",
       "    <tr>\n",
       "      <th>married</th>\n",
       "      <td>41.645985</td>\n",
       "      <td>42.175824</td>\n",
       "      <td>-39.972810</td>\n",
       "      <td>-39.032967</td>\n",
       "      <td>93.583427</td>\n",
       "      <td>93.538593</td>\n",
       "      <td>257.091241</td>\n",
       "      <td>231.296703</td>\n",
       "      <td>-0.020620</td>\n",
       "      <td>-0.031868</td>\n",
       "      <td>3.571794</td>\n",
       "      <td>3.614824</td>\n",
       "      <td>5162.181204</td>\n",
       "      <td>5160.573626</td>\n",
       "      <td>939.167883</td>\n",
       "      <td>966.274725</td>\n",
       "      <td>0.200730</td>\n",
       "      <td>0.164835</td>\n",
       "    </tr>\n",
       "    <tr>\n",
       "      <th>single</th>\n",
       "      <td>33.495327</td>\n",
       "      <td>31.864865</td>\n",
       "      <td>-40.549533</td>\n",
       "      <td>-39.643243</td>\n",
       "      <td>93.475883</td>\n",
       "      <td>93.616595</td>\n",
       "      <td>239.186916</td>\n",
       "      <td>239.324324</td>\n",
       "      <td>-0.597196</td>\n",
       "      <td>-0.010811</td>\n",
       "      <td>2.885664</td>\n",
       "      <td>3.574541</td>\n",
       "      <td>5132.836449</td>\n",
       "      <td>5156.148649</td>\n",
       "      <td>892.271028</td>\n",
       "      <td>918.297297</td>\n",
       "      <td>0.252336</td>\n",
       "      <td>0.162162</td>\n",
       "    </tr>\n",
       "  </tbody>\n",
       "</table>\n",
       "</div>"
      ],
      "text/plain": [
       "                              age            cons.conf.idx             \\\n",
       "loan                           no        yes            no        yes   \n",
       "job           marital                                                   \n",
       "admin.        divorced  43.396192  43.142105    -40.344878 -40.742105   \n",
       "              married   40.581502  40.876503    -39.874189 -39.919016   \n",
       "              single    33.665044  33.882175    -40.574597 -40.609215   \n",
       "blue-collar   divorced  42.912088  42.340659    -41.432339 -41.458242   \n",
       "              married   40.926388  40.691774    -41.150123 -41.453419   \n",
       "              single    33.400898  33.000000    -41.998461 -42.098120   \n",
       "entrepreneur  divorced  44.040000  44.448276    -41.659333 -42.389655   \n",
       "              married   42.458963  42.783784    -40.989093 -41.493243   \n",
       "              single    35.459770  35.689655    -41.764943 -43.682759   \n",
       "housemaid     divorced  49.992593  47.692308    -39.614074 -41.280769   \n",
       "              married   45.716814  45.764706    -39.405900 -38.893137   \n",
       "              single    38.752688  37.423077    -40.007527 -39.953846   \n",
       "management    divorced  46.320819  45.184211    -40.461092 -40.339474   \n",
       "              married   43.913364  42.972393    -40.177576 -40.633742   \n",
       "              single    33.924883  34.240000    -41.325587 -42.644000   \n",
       "retired       divorced  64.183051  65.981132    -39.604746 -39.509434   \n",
       "              married   61.696833  62.655172    -38.234208 -38.214368   \n",
       "              single    56.037500  53.538462    -39.007500 -42.276923   \n",
       "self-employed divorced  43.101695  40.000000    -41.185593 -41.886667   \n",
       "              married   42.222222  42.166667    -40.254151 -39.990476   \n",
       "              single    33.378462  34.462963    -40.856308 -40.912963   \n",
       "services      divorced  42.173034  41.632184    -41.871461 -41.686207   \n",
       "              married   39.928021  39.594366    -40.870180 -41.038592   \n",
       "              single    31.969325  32.446541    -41.846728 -41.719497   \n",
       "student       divorced  34.428571  36.500000    -41.528571 -41.350000   \n",
       "              married   30.694444  30.166667    -40.077778 -42.966667   \n",
       "              single    25.524638  25.716418    -39.994783 -40.997761   \n",
       "technician    divorced  42.067588  41.975610    -40.284025 -40.304878   \n",
       "              married   40.715783  40.846154    -39.512575 -39.869606   \n",
       "              single    33.766121  33.465465    -40.394319 -40.369670   \n",
       "unemployed    divorced  42.436893  43.428571    -39.949515 -40.542857   \n",
       "              married   41.645985  42.175824    -39.972810 -39.032967   \n",
       "              single    33.495327  31.864865    -40.549533 -39.643243   \n",
       "\n",
       "                       cons.price.idx               duration              \\\n",
       "loan                               no        yes          no         yes   \n",
       "job           marital                                                      \n",
       "admin.        divorced      93.563801  93.542895  252.172257  258.642105   \n",
       "              married       93.569932  93.556760  252.561262  252.695082   \n",
       "              single        93.491792  93.503541  259.167022  239.620846   \n",
       "blue-collar   divorced      93.722549  93.771396  274.229199  260.362637   \n",
       "              married       93.663570  93.625420  263.450984  253.607532   \n",
       "              single        93.623936  93.621906  268.627967  283.661654   \n",
       "entrepreneur  divorced      93.533533  93.674862  234.973333  231.931034   \n",
       "              married       93.617013  93.597068  270.196544  260.594595   \n",
       "              single        93.633897  93.406966  274.379310  166.689655   \n",
       "housemaid     divorced      93.717156  93.747000  251.318519  257.576923   \n",
       "              married       93.673187  93.668020  248.712389  245.705882   \n",
       "              single        93.638957  93.651962  264.763441  251.730769   \n",
       "management    divorced      93.563266  93.582079  248.426621  249.026316   \n",
       "              married       93.524215  93.532242  257.796716  262.214724   \n",
       "              single        93.502777  93.372307  258.861502  244.800000   \n",
       "retired       divorced      93.477715  93.473113  253.325424  274.000000   \n",
       "              married       93.414276  93.353460  273.051584  303.522989   \n",
       "              single        93.562175  93.823077  303.425000  209.461538   \n",
       "self-employed divorced      93.524636  93.871000  295.830508  266.800000   \n",
       "              married       93.586055  93.633746  254.111111  315.166667   \n",
       "              single        93.478489  93.491111  260.916923  239.962963   \n",
       "services      divorced      93.672274  93.674184  253.071910  287.988506   \n",
       "              married       93.638958  93.661473  251.691517  249.270423   \n",
       "              single        93.605284  93.575975  271.778119  277.232704   \n",
       "student       divorced      93.489000  93.897000  376.428571  271.000000   \n",
       "              married       93.401861  93.740833  238.972222  138.500000   \n",
       "              single        93.304845  93.415590  282.608696  303.074627   \n",
       "technician    divorced      93.589080  93.595154  228.528418  253.772358   \n",
       "              married       93.596462  93.576816  251.590664  257.367730   \n",
       "              single        93.505687  93.466937  249.848004  269.342342   \n",
       "unemployed    divorced      93.625612  93.659667  260.446602  197.285714   \n",
       "              married       93.583427  93.538593  257.091241  231.296703   \n",
       "              single        93.475883  93.616595  239.186916  239.324324   \n",
       "\n",
       "                       emp.var.rate           euribor3m            \\\n",
       "loan                             no       yes        no       yes   \n",
       "job           marital                                               \n",
       "admin.        divorced     0.165639  0.177895  3.736225  3.672868   \n",
       "              married      0.138411  0.055301  3.701106  3.587110   \n",
       "              single      -0.181290 -0.040634  3.314714  3.475796   \n",
       "blue-collar   divorced     0.362480  0.518681  3.922196  4.103692   \n",
       "              married      0.293148  0.211893  3.825270  3.733745   \n",
       "              single       0.075625  0.096992  3.556162  3.568914   \n",
       "entrepreneur  divorced     0.024000  0.396552  3.654233  3.956862   \n",
       "              married      0.175918  0.155405  3.818419  3.782662   \n",
       "              single       0.213793 -0.244828  3.827839  3.284552   \n",
       "housemaid     divorced     0.324444  0.369231  3.920511  3.957038   \n",
       "              married      0.515487  0.532353  4.091127  4.127559   \n",
       "              single      -0.034409  0.207692  3.504839  3.743346   \n",
       "management    divorced    -0.025939 -0.010526  3.597874  3.580816   \n",
       "              married      0.024915  0.132515  3.658424  3.775218   \n",
       "              single      -0.221127 -0.294667  3.350542  3.338840   \n",
       "retired       divorced    -0.855593 -1.100000  2.551478  2.223094   \n",
       "              married     -0.667059 -0.737931  2.806024  2.793552   \n",
       "              single      -0.331250  0.123077  3.276050  3.475769   \n",
       "self-employed divorced    -0.155932  0.493333  3.441669  3.926267   \n",
       "              married      0.324138  0.420635  3.934630  4.059040   \n",
       "              single      -0.410769 -0.527778  3.149652  2.994481   \n",
       "services      divorced     0.216854  0.374713  3.744488  3.958908   \n",
       "              married      0.268278  0.326479  3.820857  3.868983   \n",
       "              single      -0.049080 -0.143396  3.416048  3.304403   \n",
       "student       divorced    -0.542857 -0.200000  2.595714  2.833500   \n",
       "              married     -0.702778  0.283333  2.807611  3.759500   \n",
       "              single      -1.481594 -1.357463  1.819422  1.834530   \n",
       "technician    divorced     0.466820  0.528455  4.006883  4.087057   \n",
       "              married      0.345507  0.346341  3.923533  3.903208   \n",
       "              single       0.087410  0.117417  3.581487  3.651447   \n",
       "unemployed    divorced     0.279612  0.014286  3.920709  3.580952   \n",
       "              married     -0.020620 -0.031868  3.571794  3.614824   \n",
       "              single      -0.597196 -0.010811  2.885664  3.574541   \n",
       "\n",
       "                        nr.employed                    pdays              \\\n",
       "loan                             no          yes          no         yes   \n",
       "job           marital                                                      \n",
       "admin.        divorced  5172.477063  5171.040000  967.487761  978.047368   \n",
       "              married   5169.096518  5163.942404  956.433950  953.436066   \n",
       "              single    5154.942379  5163.958761  944.023426  955.459215   \n",
       "blue-collar   divorced  5180.799372  5187.829670  985.001570  999.000000   \n",
       "              married   5177.585734  5174.882359  985.747189  988.159564   \n",
       "              single    5167.332393  5168.178195  979.889031  987.766917   \n",
       "entrepreneur  divorced  5172.142667  5188.248276  979.166667  999.000000   \n",
       "              married   5176.191685  5177.187838  977.555076  992.277027   \n",
       "              single    5179.417241  5166.758621  987.557471  999.000000   \n",
       "housemaid     divorced  5172.191852  5175.530769  954.800000  999.000000   \n",
       "              married   5183.825811  5185.710784  969.703540  940.656863   \n",
       "              single    5155.620430  5170.869231  913.526882  960.692308   \n",
       "management    divorced  5164.042662  5164.505263  944.754266  946.815789   \n",
       "              married   5167.947905  5175.660123  962.996602  971.546012   \n",
       "              single    5156.998122  5163.040000  964.037559  985.760000   \n",
       "retired       divorced  5110.583390  5094.177358  914.850847  774.075472   \n",
       "              married   5123.973937  5126.925287  899.205430  879.178161   \n",
       "              single    5144.198750  5158.869231  924.462500  999.000000   \n",
       "self-employed divorced  5162.879661  5179.113333  973.677966  999.000000   \n",
       "              married   5181.233333  5186.303175  979.966794  975.325397   \n",
       "              single    5147.065231  5137.883333  977.630769  925.277778   \n",
       "services      divorced  5174.768989  5181.008046  990.071910  976.241379   \n",
       "              married   5176.081697  5178.403944  981.613882  982.208451   \n",
       "              single    5160.413906  5156.376730  972.607362  974.018868   \n",
       "student       divorced  5117.500000  5118.400000  999.000000  999.000000   \n",
       "              married   5128.430556  5178.916667  916.000000  999.000000   \n",
       "              single    5083.217826  5082.239552  840.843478  798.858209   \n",
       "technician    divorced  5185.603994  5187.745528  973.075269  999.000000   \n",
       "              married   5178.059543  5178.574672  964.953954  963.596623   \n",
       "              single    5167.436540  5172.418619  960.905834  951.375375   \n",
       "unemployed    divorced  5176.498058  5165.971429  979.689320  951.666667   \n",
       "              married   5162.181204  5160.573626  939.167883  966.274725   \n",
       "              single    5132.836449  5156.148649  892.271028  918.297297   \n",
       "\n",
       "                        previous            \n",
       "loan                          no       yes  \n",
       "job           marital                       \n",
       "admin.        divorced  0.174977  0.142105  \n",
       "              married   0.174538  0.181421  \n",
       "              single    0.220566  0.163142  \n",
       "blue-collar   divorced  0.114600  0.142857  \n",
       "              married   0.114195  0.121903  \n",
       "              single    0.153945  0.131579  \n",
       "entrepreneur  divorced  0.146667  0.103448  \n",
       "              married   0.142549  0.148649  \n",
       "              single    0.086207  0.275862  \n",
       "housemaid     divorced  0.207407  0.153846  \n",
       "              married   0.119469  0.147059  \n",
       "              single    0.161290  0.115385  \n",
       "management    divorced  0.221843  0.236842  \n",
       "              married   0.179502  0.180982  \n",
       "              single    0.185446  0.160000  \n",
       "retired       divorced  0.315254  0.509434  \n",
       "              married   0.330317  0.350575  \n",
       "              single    0.212500  0.000000  \n",
       "self-employed divorced  0.177966  0.066667  \n",
       "              married   0.121328  0.119048  \n",
       "              single    0.184615  0.222222  \n",
       "services      divorced  0.125843  0.160920  \n",
       "              married   0.143959  0.129577  \n",
       "              single    0.187117  0.226415  \n",
       "student       divorced  0.142857  0.000000  \n",
       "              married   0.361111  0.000000  \n",
       "              single    0.531884  0.582090  \n",
       "technician    divorced  0.152074  0.097561  \n",
       "              married   0.147031  0.133208  \n",
       "              single    0.170931  0.174174  \n",
       "unemployed    divorced  0.106796  0.285714  \n",
       "              married   0.200730  0.164835  \n",
       "              single    0.252336  0.162162  "
      ]
     },
     "execution_count": 71,
     "metadata": {},
     "output_type": "execute_result"
    }
   ],
   "source": [
    "df.pivot_table(df, columns=[\"loan\"], index=[\"job\",\"marital\"])"
   ]
  },
  {
   "cell_type": "code",
   "execution_count": 72,
   "metadata": {
    "collapsed": true
   },
   "outputs": [],
   "source": [
    "# df.pairplot(df, hue=\"loan\", size=3)\n",
    "# plt.show()"
   ]
  },
  {
   "cell_type": "code",
   "execution_count": 73,
   "metadata": {},
   "outputs": [
    {
     "data": {
      "text/html": [
       "<div>\n",
       "<style scoped>\n",
       "    .dataframe tbody tr th:only-of-type {\n",
       "        vertical-align: middle;\n",
       "    }\n",
       "\n",
       "    .dataframe tbody tr th {\n",
       "        vertical-align: top;\n",
       "    }\n",
       "\n",
       "    .dataframe thead tr th {\n",
       "        text-align: left;\n",
       "    }\n",
       "\n",
       "    .dataframe thead tr:last-of-type th {\n",
       "        text-align: right;\n",
       "    }\n",
       "</style>\n",
       "<table border=\"1\" class=\"dataframe\">\n",
       "  <thead>\n",
       "    <tr>\n",
       "      <th></th>\n",
       "      <th></th>\n",
       "      <th colspan=\"2\" halign=\"left\">age</th>\n",
       "      <th colspan=\"2\" halign=\"left\">cons.conf.idx</th>\n",
       "      <th colspan=\"2\" halign=\"left\">cons.price.idx</th>\n",
       "      <th colspan=\"2\" halign=\"left\">duration</th>\n",
       "      <th colspan=\"2\" halign=\"left\">emp.var.rate</th>\n",
       "      <th colspan=\"2\" halign=\"left\">euribor3m</th>\n",
       "      <th colspan=\"2\" halign=\"left\">nr.employed</th>\n",
       "      <th colspan=\"2\" halign=\"left\">pdays</th>\n",
       "      <th colspan=\"2\" halign=\"left\">previous</th>\n",
       "    </tr>\n",
       "    <tr>\n",
       "      <th></th>\n",
       "      <th>loan</th>\n",
       "      <th>no</th>\n",
       "      <th>yes</th>\n",
       "      <th>no</th>\n",
       "      <th>yes</th>\n",
       "      <th>no</th>\n",
       "      <th>yes</th>\n",
       "      <th>no</th>\n",
       "      <th>yes</th>\n",
       "      <th>no</th>\n",
       "      <th>yes</th>\n",
       "      <th>no</th>\n",
       "      <th>yes</th>\n",
       "      <th>no</th>\n",
       "      <th>yes</th>\n",
       "      <th>no</th>\n",
       "      <th>yes</th>\n",
       "      <th>no</th>\n",
       "      <th>yes</th>\n",
       "    </tr>\n",
       "    <tr>\n",
       "      <th>housing</th>\n",
       "      <th>default</th>\n",
       "      <th></th>\n",
       "      <th></th>\n",
       "      <th></th>\n",
       "      <th></th>\n",
       "      <th></th>\n",
       "      <th></th>\n",
       "      <th></th>\n",
       "      <th></th>\n",
       "      <th></th>\n",
       "      <th></th>\n",
       "      <th></th>\n",
       "      <th></th>\n",
       "      <th></th>\n",
       "      <th></th>\n",
       "      <th></th>\n",
       "      <th></th>\n",
       "      <th></th>\n",
       "      <th></th>\n",
       "    </tr>\n",
       "  </thead>\n",
       "  <tbody>\n",
       "    <tr>\n",
       "      <th rowspan=\"2\" valign=\"top\">no</th>\n",
       "      <th>no</th>\n",
       "      <td>40.082861</td>\n",
       "      <td>39.801721</td>\n",
       "      <td>-40.302857</td>\n",
       "      <td>-40.556785</td>\n",
       "      <td>93.624157</td>\n",
       "      <td>93.629338</td>\n",
       "      <td>260.847974</td>\n",
       "      <td>259.640594</td>\n",
       "      <td>0.180863</td>\n",
       "      <td>0.203989</td>\n",
       "      <td>3.731637</td>\n",
       "      <td>3.737090</td>\n",
       "      <td>5170.487487</td>\n",
       "      <td>5171.724951</td>\n",
       "      <td>964.884766</td>\n",
       "      <td>962.491983</td>\n",
       "      <td>0.160182</td>\n",
       "      <td>0.166993</td>\n",
       "    </tr>\n",
       "    <tr>\n",
       "      <th>yes</th>\n",
       "      <td>39.500000</td>\n",
       "      <td>NaN</td>\n",
       "      <td>-39.050000</td>\n",
       "      <td>NaN</td>\n",
       "      <td>93.322000</td>\n",
       "      <td>NaN</td>\n",
       "      <td>88.500000</td>\n",
       "      <td>NaN</td>\n",
       "      <td>0.650000</td>\n",
       "      <td>NaN</td>\n",
       "      <td>4.558000</td>\n",
       "      <td>NaN</td>\n",
       "      <td>5211.950000</td>\n",
       "      <td>NaN</td>\n",
       "      <td>999.000000</td>\n",
       "      <td>NaN</td>\n",
       "      <td>0.500000</td>\n",
       "      <td>NaN</td>\n",
       "    </tr>\n",
       "    <tr>\n",
       "      <th rowspan=\"2\" valign=\"top\">yes</th>\n",
       "      <th>no</th>\n",
       "      <td>40.032373</td>\n",
       "      <td>39.877811</td>\n",
       "      <td>-40.623445</td>\n",
       "      <td>-40.718369</td>\n",
       "      <td>93.537121</td>\n",
       "      <td>93.524709</td>\n",
       "      <td>256.103794</td>\n",
       "      <td>257.471688</td>\n",
       "      <td>-0.003947</td>\n",
       "      <td>0.004795</td>\n",
       "      <td>3.527870</td>\n",
       "      <td>3.537689</td>\n",
       "      <td>5163.852564</td>\n",
       "      <td>5165.003685</td>\n",
       "      <td>960.431758</td>\n",
       "      <td>962.399621</td>\n",
       "      <td>0.184646</td>\n",
       "      <td>0.172853</td>\n",
       "    </tr>\n",
       "    <tr>\n",
       "      <th>yes</th>\n",
       "      <td>48.000000</td>\n",
       "      <td>NaN</td>\n",
       "      <td>-36.100000</td>\n",
       "      <td>NaN</td>\n",
       "      <td>93.444000</td>\n",
       "      <td>NaN</td>\n",
       "      <td>133.000000</td>\n",
       "      <td>NaN</td>\n",
       "      <td>1.400000</td>\n",
       "      <td>NaN</td>\n",
       "      <td>4.963000</td>\n",
       "      <td>NaN</td>\n",
       "      <td>5228.100000</td>\n",
       "      <td>NaN</td>\n",
       "      <td>999.000000</td>\n",
       "      <td>NaN</td>\n",
       "      <td>0.000000</td>\n",
       "      <td>NaN</td>\n",
       "    </tr>\n",
       "  </tbody>\n",
       "</table>\n",
       "</div>"
      ],
      "text/plain": [
       "                       age            cons.conf.idx            cons.price.idx  \\\n",
       "loan                    no        yes            no        yes             no   \n",
       "housing default                                                                 \n",
       "no      no       40.082861  39.801721    -40.302857 -40.556785      93.624157   \n",
       "        yes      39.500000        NaN    -39.050000        NaN      93.322000   \n",
       "yes     no       40.032373  39.877811    -40.623445 -40.718369      93.537121   \n",
       "        yes      48.000000        NaN    -36.100000        NaN      93.444000   \n",
       "\n",
       "                              duration             emp.var.rate            \\\n",
       "loan                   yes          no         yes           no       yes   \n",
       "housing default                                                             \n",
       "no      no       93.629338  260.847974  259.640594     0.180863  0.203989   \n",
       "        yes            NaN   88.500000         NaN     0.650000       NaN   \n",
       "yes     no       93.524709  256.103794  257.471688    -0.003947  0.004795   \n",
       "        yes            NaN  133.000000         NaN     1.400000       NaN   \n",
       "\n",
       "                euribor3m            nr.employed                    pdays  \\\n",
       "loan                   no       yes           no          yes          no   \n",
       "housing default                                                             \n",
       "no      no       3.731637  3.737090  5170.487487  5171.724951  964.884766   \n",
       "        yes      4.558000       NaN  5211.950000          NaN  999.000000   \n",
       "yes     no       3.527870  3.537689  5163.852564  5165.003685  960.431758   \n",
       "        yes      4.963000       NaN  5228.100000          NaN  999.000000   \n",
       "\n",
       "                             previous            \n",
       "loan                    yes        no       yes  \n",
       "housing default                                  \n",
       "no      no       962.491983  0.160182  0.166993  \n",
       "        yes             NaN  0.500000       NaN  \n",
       "yes     no       962.399621  0.184646  0.172853  \n",
       "        yes             NaN  0.000000       NaN  "
      ]
     },
     "execution_count": 73,
     "metadata": {},
     "output_type": "execute_result"
    }
   ],
   "source": [
    "df.pivot_table(df, columns=[\"loan\"], index=[\"housing\", \"default\"])"
   ]
  },
  {
   "cell_type": "code",
   "execution_count": 74,
   "metadata": {},
   "outputs": [
    {
     "data": {
      "text/html": [
       "<div>\n",
       "<style scoped>\n",
       "    .dataframe tbody tr th:only-of-type {\n",
       "        vertical-align: middle;\n",
       "    }\n",
       "\n",
       "    .dataframe tbody tr th {\n",
       "        vertical-align: top;\n",
       "    }\n",
       "\n",
       "    .dataframe thead tr th {\n",
       "        text-align: left;\n",
       "    }\n",
       "\n",
       "    .dataframe thead tr:last-of-type th {\n",
       "        text-align: right;\n",
       "    }\n",
       "</style>\n",
       "<table border=\"1\" class=\"dataframe\">\n",
       "  <thead>\n",
       "    <tr>\n",
       "      <th></th>\n",
       "      <th></th>\n",
       "      <th colspan=\"2\" halign=\"left\">age</th>\n",
       "      <th colspan=\"2\" halign=\"left\">cons.conf.idx</th>\n",
       "      <th colspan=\"2\" halign=\"left\">cons.price.idx</th>\n",
       "      <th colspan=\"2\" halign=\"left\">duration</th>\n",
       "      <th colspan=\"2\" halign=\"left\">emp.var.rate</th>\n",
       "      <th colspan=\"2\" halign=\"left\">euribor3m</th>\n",
       "      <th colspan=\"2\" halign=\"left\">nr.employed</th>\n",
       "      <th colspan=\"2\" halign=\"left\">pdays</th>\n",
       "      <th colspan=\"2\" halign=\"left\">previous</th>\n",
       "    </tr>\n",
       "    <tr>\n",
       "      <th></th>\n",
       "      <th>loan</th>\n",
       "      <th>no</th>\n",
       "      <th>yes</th>\n",
       "      <th>no</th>\n",
       "      <th>yes</th>\n",
       "      <th>no</th>\n",
       "      <th>yes</th>\n",
       "      <th>no</th>\n",
       "      <th>yes</th>\n",
       "      <th>no</th>\n",
       "      <th>yes</th>\n",
       "      <th>no</th>\n",
       "      <th>yes</th>\n",
       "      <th>no</th>\n",
       "      <th>yes</th>\n",
       "      <th>no</th>\n",
       "      <th>yes</th>\n",
       "      <th>no</th>\n",
       "      <th>yes</th>\n",
       "    </tr>\n",
       "    <tr>\n",
       "      <th>month</th>\n",
       "      <th>day_of_week</th>\n",
       "      <th></th>\n",
       "      <th></th>\n",
       "      <th></th>\n",
       "      <th></th>\n",
       "      <th></th>\n",
       "      <th></th>\n",
       "      <th></th>\n",
       "      <th></th>\n",
       "      <th></th>\n",
       "      <th></th>\n",
       "      <th></th>\n",
       "      <th></th>\n",
       "      <th></th>\n",
       "      <th></th>\n",
       "      <th></th>\n",
       "      <th></th>\n",
       "      <th></th>\n",
       "      <th></th>\n",
       "    </tr>\n",
       "  </thead>\n",
       "  <tbody>\n",
       "    <tr>\n",
       "      <th rowspan=\"5\" valign=\"top\">apr</th>\n",
       "      <th>fri</th>\n",
       "      <td>40.060665</td>\n",
       "      <td>37.919192</td>\n",
       "      <td>-46.659687</td>\n",
       "      <td>-46.216162</td>\n",
       "      <td>93.098742</td>\n",
       "      <td>93.122657</td>\n",
       "      <td>312.019569</td>\n",
       "      <td>283.626263</td>\n",
       "      <td>-1.800000</td>\n",
       "      <td>-1.800000</td>\n",
       "      <td>1.386033</td>\n",
       "      <td>1.358616</td>\n",
       "      <td>5095.915656</td>\n",
       "      <td>5092.708081</td>\n",
       "      <td>981.493151</td>\n",
       "      <td>968.909091</td>\n",
       "      <td>0.356164</td>\n",
       "      <td>0.373737</td>\n",
       "    </tr>\n",
       "    <tr>\n",
       "      <th>mon</th>\n",
       "      <td>40.205042</td>\n",
       "      <td>41.822430</td>\n",
       "      <td>-46.238655</td>\n",
       "      <td>-46.632710</td>\n",
       "      <td>93.121444</td>\n",
       "      <td>93.100196</td>\n",
       "      <td>245.028571</td>\n",
       "      <td>242.943925</td>\n",
       "      <td>-1.800000</td>\n",
       "      <td>-1.800000</td>\n",
       "      <td>1.356995</td>\n",
       "      <td>1.381561</td>\n",
       "      <td>5092.870756</td>\n",
       "      <td>5095.720561</td>\n",
       "      <td>970.657143</td>\n",
       "      <td>962.018692</td>\n",
       "      <td>0.294118</td>\n",
       "      <td>0.411215</td>\n",
       "    </tr>\n",
       "    <tr>\n",
       "      <th>thu</th>\n",
       "      <td>40.100763</td>\n",
       "      <td>41.247788</td>\n",
       "      <td>-46.241221</td>\n",
       "      <td>-45.993805</td>\n",
       "      <td>93.121305</td>\n",
       "      <td>93.134646</td>\n",
       "      <td>324.404580</td>\n",
       "      <td>331.106195</td>\n",
       "      <td>-1.800000</td>\n",
       "      <td>-1.800000</td>\n",
       "      <td>1.346858</td>\n",
       "      <td>1.332602</td>\n",
       "      <td>5092.889313</td>\n",
       "      <td>5091.100000</td>\n",
       "      <td>923.039695</td>\n",
       "      <td>902.300885</td>\n",
       "      <td>0.340458</td>\n",
       "      <td>0.336283</td>\n",
       "    </tr>\n",
       "    <tr>\n",
       "      <th>tue</th>\n",
       "      <td>43.370892</td>\n",
       "      <td>40.769231</td>\n",
       "      <td>-45.574178</td>\n",
       "      <td>-44.535897</td>\n",
       "      <td>93.157272</td>\n",
       "      <td>93.213256</td>\n",
       "      <td>264.896714</td>\n",
       "      <td>365.923077</td>\n",
       "      <td>-1.800000</td>\n",
       "      <td>-1.800000</td>\n",
       "      <td>1.333108</td>\n",
       "      <td>1.268333</td>\n",
       "      <td>5088.065258</td>\n",
       "      <td>5080.556410</td>\n",
       "      <td>961.741784</td>\n",
       "      <td>897.282051</td>\n",
       "      <td>0.291080</td>\n",
       "      <td>0.333333</td>\n",
       "    </tr>\n",
       "    <tr>\n",
       "      <th>wed</th>\n",
       "      <td>42.224409</td>\n",
       "      <td>37.847826</td>\n",
       "      <td>-46.460236</td>\n",
       "      <td>-46.556522</td>\n",
       "      <td>93.109496</td>\n",
       "      <td>93.104304</td>\n",
       "      <td>304.751969</td>\n",
       "      <td>312.934783</td>\n",
       "      <td>-1.800000</td>\n",
       "      <td>-1.800000</td>\n",
       "      <td>1.392209</td>\n",
       "      <td>1.402565</td>\n",
       "      <td>5094.473228</td>\n",
       "      <td>5095.169565</td>\n",
       "      <td>967.744094</td>\n",
       "      <td>977.413043</td>\n",
       "      <td>0.259843</td>\n",
       "      <td>0.239130</td>\n",
       "    </tr>\n",
       "    <tr>\n",
       "      <th rowspan=\"5\" valign=\"top\">aug</th>\n",
       "      <th>fri</th>\n",
       "      <td>41.117325</td>\n",
       "      <td>41.246835</td>\n",
       "      <td>-35.408991</td>\n",
       "      <td>-35.412025</td>\n",
       "      <td>93.261294</td>\n",
       "      <td>93.262082</td>\n",
       "      <td>212.380482</td>\n",
       "      <td>220.056962</td>\n",
       "      <td>0.577193</td>\n",
       "      <td>0.641139</td>\n",
       "      <td>4.138360</td>\n",
       "      <td>4.211405</td>\n",
       "      <td>5194.299561</td>\n",
       "      <td>5198.077848</td>\n",
       "      <td>955.440789</td>\n",
       "      <td>973.879747</td>\n",
       "      <td>0.139254</td>\n",
       "      <td>0.107595</td>\n",
       "    </tr>\n",
       "    <tr>\n",
       "      <th>mon</th>\n",
       "      <td>41.548325</td>\n",
       "      <td>40.966102</td>\n",
       "      <td>-35.669761</td>\n",
       "      <td>-35.832768</td>\n",
       "      <td>93.330274</td>\n",
       "      <td>93.373339</td>\n",
       "      <td>231.148325</td>\n",
       "      <td>207.192090</td>\n",
       "      <td>0.751962</td>\n",
       "      <td>1.097740</td>\n",
       "      <td>4.291390</td>\n",
       "      <td>4.664322</td>\n",
       "      <td>5198.888517</td>\n",
       "      <td>5215.987571</td>\n",
       "      <td>958.151196</td>\n",
       "      <td>987.745763</td>\n",
       "      <td>0.132057</td>\n",
       "      <td>0.050847</td>\n",
       "    </tr>\n",
       "    <tr>\n",
       "      <th>thu</th>\n",
       "      <td>41.218667</td>\n",
       "      <td>40.864865</td>\n",
       "      <td>-35.593067</td>\n",
       "      <td>-35.642793</td>\n",
       "      <td>93.309976</td>\n",
       "      <td>93.323099</td>\n",
       "      <td>224.836444</td>\n",
       "      <td>267.527027</td>\n",
       "      <td>0.745333</td>\n",
       "      <td>0.912613</td>\n",
       "      <td>4.299138</td>\n",
       "      <td>4.485622</td>\n",
       "      <td>5200.232533</td>\n",
       "      <td>5209.166667</td>\n",
       "      <td>961.936889</td>\n",
       "      <td>967.662162</td>\n",
       "      <td>0.107556</td>\n",
       "      <td>0.081081</td>\n",
       "    </tr>\n",
       "    <tr>\n",
       "      <th>tue</th>\n",
       "      <td>42.484821</td>\n",
       "      <td>40.732955</td>\n",
       "      <td>-35.630268</td>\n",
       "      <td>-35.600000</td>\n",
       "      <td>93.319818</td>\n",
       "      <td>93.311812</td>\n",
       "      <td>246.083036</td>\n",
       "      <td>253.562500</td>\n",
       "      <td>0.764821</td>\n",
       "      <td>0.739205</td>\n",
       "      <td>4.315256</td>\n",
       "      <td>4.291318</td>\n",
       "      <td>5200.559643</td>\n",
       "      <td>5199.706250</td>\n",
       "      <td>972.415179</td>\n",
       "      <td>942.579545</td>\n",
       "      <td>0.096429</td>\n",
       "      <td>0.142045</td>\n",
       "    </tr>\n",
       "    <tr>\n",
       "      <th>wed</th>\n",
       "      <td>42.333969</td>\n",
       "      <td>41.189744</td>\n",
       "      <td>-35.603340</td>\n",
       "      <td>-35.770769</td>\n",
       "      <td>93.312693</td>\n",
       "      <td>93.356959</td>\n",
       "      <td>238.503817</td>\n",
       "      <td>239.743590</td>\n",
       "      <td>0.755344</td>\n",
       "      <td>0.967692</td>\n",
       "      <td>4.309628</td>\n",
       "      <td>4.525077</td>\n",
       "      <td>5200.601336</td>\n",
       "      <td>5209.572308</td>\n",
       "      <td>951.587786</td>\n",
       "      <td>958.179487</td>\n",
       "      <td>0.123092</td>\n",
       "      <td>0.107692</td>\n",
       "    </tr>\n",
       "    <tr>\n",
       "      <th rowspan=\"5\" valign=\"top\">dec</th>\n",
       "      <th>fri</th>\n",
       "      <td>44.700000</td>\n",
       "      <td>46.500000</td>\n",
       "      <td>-34.290000</td>\n",
       "      <td>-36.225000</td>\n",
       "      <td>92.717300</td>\n",
       "      <td>92.723750</td>\n",
       "      <td>304.950000</td>\n",
       "      <td>398.000000</td>\n",
       "      <td>-2.720000</td>\n",
       "      <td>-2.300000</td>\n",
       "      <td>0.985250</td>\n",
       "      <td>1.425250</td>\n",
       "      <td>5038.780000</td>\n",
       "      <td>5061.700000</td>\n",
       "      <td>701.000000</td>\n",
       "      <td>750.750000</td>\n",
       "      <td>0.500000</td>\n",
       "      <td>0.750000</td>\n",
       "    </tr>\n",
       "    <tr>\n",
       "      <th>mon</th>\n",
       "      <td>43.200000</td>\n",
       "      <td>47.769231</td>\n",
       "      <td>-33.322500</td>\n",
       "      <td>-34.984615</td>\n",
       "      <td>92.714075</td>\n",
       "      <td>92.719615</td>\n",
       "      <td>416.300000</td>\n",
       "      <td>331.153846</td>\n",
       "      <td>-2.930000</td>\n",
       "      <td>-2.569231</td>\n",
       "      <td>0.789900</td>\n",
       "      <td>1.104923</td>\n",
       "      <td>5027.320000</td>\n",
       "      <td>5047.007692</td>\n",
       "      <td>726.075000</td>\n",
       "      <td>770.000000</td>\n",
       "      <td>0.700000</td>\n",
       "      <td>0.461538</td>\n",
       "    </tr>\n",
       "    <tr>\n",
       "      <th>thu</th>\n",
       "      <td>52.424242</td>\n",
       "      <td>56.583333</td>\n",
       "      <td>-33.390909</td>\n",
       "      <td>-34.075000</td>\n",
       "      <td>92.714303</td>\n",
       "      <td>92.716583</td>\n",
       "      <td>321.393939</td>\n",
       "      <td>420.416667</td>\n",
       "      <td>-2.915152</td>\n",
       "      <td>-2.766667</td>\n",
       "      <td>0.792091</td>\n",
       "      <td>0.959667</td>\n",
       "      <td>5028.130303</td>\n",
       "      <td>5036.233333</td>\n",
       "      <td>758.242424</td>\n",
       "      <td>667.833333</td>\n",
       "      <td>0.757576</td>\n",
       "      <td>1.000000</td>\n",
       "    </tr>\n",
       "    <tr>\n",
       "      <th>tue</th>\n",
       "      <td>40.772727</td>\n",
       "      <td>51.000000</td>\n",
       "      <td>-33.586364</td>\n",
       "      <td>-33.000000</td>\n",
       "      <td>92.714955</td>\n",
       "      <td>92.713000</td>\n",
       "      <td>351.181818</td>\n",
       "      <td>194.333333</td>\n",
       "      <td>-2.872727</td>\n",
       "      <td>-3.000000</td>\n",
       "      <td>0.832773</td>\n",
       "      <td>0.709667</td>\n",
       "      <td>5030.445455</td>\n",
       "      <td>5023.500000</td>\n",
       "      <td>773.454545</td>\n",
       "      <td>337.000000</td>\n",
       "      <td>0.363636</td>\n",
       "      <td>1.333333</td>\n",
       "    </tr>\n",
       "    <tr>\n",
       "      <th>wed</th>\n",
       "      <td>50.060606</td>\n",
       "      <td>35.000000</td>\n",
       "      <td>-33.390909</td>\n",
       "      <td>-33.000000</td>\n",
       "      <td>92.714303</td>\n",
       "      <td>92.713000</td>\n",
       "      <td>288.000000</td>\n",
       "      <td>394.500000</td>\n",
       "      <td>-2.915152</td>\n",
       "      <td>-3.000000</td>\n",
       "      <td>0.805485</td>\n",
       "      <td>0.718000</td>\n",
       "      <td>5028.130303</td>\n",
       "      <td>5023.500000</td>\n",
       "      <td>818.484848</td>\n",
       "      <td>999.000000</td>\n",
       "      <td>0.484848</td>\n",
       "      <td>0.000000</td>\n",
       "    </tr>\n",
       "    <tr>\n",
       "      <th rowspan=\"5\" valign=\"top\">jul</th>\n",
       "      <th>fri</th>\n",
       "      <td>39.396450</td>\n",
       "      <td>41.053892</td>\n",
       "      <td>-42.272308</td>\n",
       "      <td>-42.375449</td>\n",
       "      <td>93.891692</td>\n",
       "      <td>93.927323</td>\n",
       "      <td>300.559763</td>\n",
       "      <td>276.808383</td>\n",
       "      <td>1.076923</td>\n",
       "      <td>1.070060</td>\n",
       "      <td>4.587335</td>\n",
       "      <td>4.544293</td>\n",
       "      <td>5208.872308</td>\n",
       "      <td>5205.038323</td>\n",
       "      <td>970.862722</td>\n",
       "      <td>993.065868</td>\n",
       "      <td>0.071006</td>\n",
       "      <td>0.035928</td>\n",
       "    </tr>\n",
       "    <tr>\n",
       "      <th>mon</th>\n",
       "      <td>40.062954</td>\n",
       "      <td>40.061372</td>\n",
       "      <td>-42.517353</td>\n",
       "      <td>-42.504332</td>\n",
       "      <td>93.913584</td>\n",
       "      <td>93.923621</td>\n",
       "      <td>259.443099</td>\n",
       "      <td>267.007220</td>\n",
       "      <td>1.242292</td>\n",
       "      <td>1.201083</td>\n",
       "      <td>4.769957</td>\n",
       "      <td>4.709271</td>\n",
       "      <td>5217.916626</td>\n",
       "      <td>5214.196390</td>\n",
       "      <td>989.430186</td>\n",
       "      <td>984.649819</td>\n",
       "      <td>0.029863</td>\n",
       "      <td>0.046931</td>\n",
       "    </tr>\n",
       "    <tr>\n",
       "      <th>thu</th>\n",
       "      <td>38.533808</td>\n",
       "      <td>40.595506</td>\n",
       "      <td>-42.363274</td>\n",
       "      <td>-42.319476</td>\n",
       "      <td>93.899186</td>\n",
       "      <td>93.887933</td>\n",
       "      <td>264.804270</td>\n",
       "      <td>264.434457</td>\n",
       "      <td>1.140142</td>\n",
       "      <td>1.131835</td>\n",
       "      <td>4.660877</td>\n",
       "      <td>4.660419</td>\n",
       "      <td>5212.412669</td>\n",
       "      <td>5212.919476</td>\n",
       "      <td>978.549466</td>\n",
       "      <td>972.966292</td>\n",
       "      <td>0.062633</td>\n",
       "      <td>0.078652</td>\n",
       "    </tr>\n",
       "    <tr>\n",
       "      <th>tue</th>\n",
       "      <td>39.134540</td>\n",
       "      <td>39.768293</td>\n",
       "      <td>-42.328639</td>\n",
       "      <td>-42.240244</td>\n",
       "      <td>93.882913</td>\n",
       "      <td>93.880683</td>\n",
       "      <td>278.101495</td>\n",
       "      <td>288.512195</td>\n",
       "      <td>1.154917</td>\n",
       "      <td>1.078862</td>\n",
       "      <td>4.691218</td>\n",
       "      <td>4.595565</td>\n",
       "      <td>5214.946184</td>\n",
       "      <td>5210.044715</td>\n",
       "      <td>983.398899</td>\n",
       "      <td>970.825203</td>\n",
       "      <td>0.039339</td>\n",
       "      <td>0.073171</td>\n",
       "    </tr>\n",
       "    <tr>\n",
       "      <th>wed</th>\n",
       "      <td>37.553398</td>\n",
       "      <td>37.294118</td>\n",
       "      <td>-42.354207</td>\n",
       "      <td>-42.324887</td>\n",
       "      <td>93.881621</td>\n",
       "      <td>93.882855</td>\n",
       "      <td>273.933657</td>\n",
       "      <td>272.719457</td>\n",
       "      <td>1.182524</td>\n",
       "      <td>1.151584</td>\n",
       "      <td>4.727307</td>\n",
       "      <td>4.690267</td>\n",
       "      <td>5216.924272</td>\n",
       "      <td>5214.727602</td>\n",
       "      <td>990.984628</td>\n",
       "      <td>980.986425</td>\n",
       "      <td>0.028317</td>\n",
       "      <td>0.045249</td>\n",
       "    </tr>\n",
       "    <tr>\n",
       "      <th rowspan=\"5\" valign=\"top\">jun</th>\n",
       "      <th>fri</th>\n",
       "      <td>40.550620</td>\n",
       "      <td>40.022346</td>\n",
       "      <td>-41.668802</td>\n",
       "      <td>-41.649162</td>\n",
       "      <td>94.318855</td>\n",
       "      <td>94.339883</td>\n",
       "      <td>204.236570</td>\n",
       "      <td>195.351955</td>\n",
       "      <td>0.943802</td>\n",
       "      <td>0.966480</td>\n",
       "      <td>4.538610</td>\n",
       "      <td>4.527123</td>\n",
       "      <td>5209.491942</td>\n",
       "      <td>5207.819553</td>\n",
       "      <td>983.610537</td>\n",
       "      <td>960.072626</td>\n",
       "      <td>0.037190</td>\n",
       "      <td>0.072626</td>\n",
       "    </tr>\n",
       "    <tr>\n",
       "      <th>mon</th>\n",
       "      <td>39.667286</td>\n",
       "      <td>38.645714</td>\n",
       "      <td>-41.557435</td>\n",
       "      <td>-41.600000</td>\n",
       "      <td>94.197099</td>\n",
       "      <td>94.283183</td>\n",
       "      <td>239.628253</td>\n",
       "      <td>231.765714</td>\n",
       "      <td>0.561431</td>\n",
       "      <td>0.791429</td>\n",
       "      <td>4.152864</td>\n",
       "      <td>4.331577</td>\n",
       "      <td>5193.756227</td>\n",
       "      <td>5200.796571</td>\n",
       "      <td>974.053903</td>\n",
       "      <td>970.605714</td>\n",
       "      <td>0.073420</td>\n",
       "      <td>0.085714</td>\n",
       "    </tr>\n",
       "    <tr>\n",
       "      <th>thu</th>\n",
       "      <td>40.900718</td>\n",
       "      <td>39.450382</td>\n",
       "      <td>-41.670813</td>\n",
       "      <td>-41.540458</td>\n",
       "      <td>94.342328</td>\n",
       "      <td>94.213779</td>\n",
       "      <td>259.901914</td>\n",
       "      <td>270.938931</td>\n",
       "      <td>0.995813</td>\n",
       "      <td>0.577863</td>\n",
       "      <td>4.534597</td>\n",
       "      <td>4.143435</td>\n",
       "      <td>5210.328110</td>\n",
       "      <td>5192.271756</td>\n",
       "      <td>984.741627</td>\n",
       "      <td>983.862595</td>\n",
       "      <td>0.037081</td>\n",
       "      <td>0.068702</td>\n",
       "    </tr>\n",
       "    <tr>\n",
       "      <th>tue</th>\n",
       "      <td>39.471883</td>\n",
       "      <td>39.776316</td>\n",
       "      <td>-41.439364</td>\n",
       "      <td>-41.457895</td>\n",
       "      <td>94.123108</td>\n",
       "      <td>94.070618</td>\n",
       "      <td>254.536675</td>\n",
       "      <td>282.572368</td>\n",
       "      <td>0.272861</td>\n",
       "      <td>0.182237</td>\n",
       "      <td>3.832543</td>\n",
       "      <td>3.806730</td>\n",
       "      <td>5178.502689</td>\n",
       "      <td>5179.233553</td>\n",
       "      <td>947.980440</td>\n",
       "      <td>946.684211</td>\n",
       "      <td>0.160147</td>\n",
       "      <td>0.164474</td>\n",
       "    </tr>\n",
       "    <tr>\n",
       "      <th>wed</th>\n",
       "      <td>38.648084</td>\n",
       "      <td>38.057377</td>\n",
       "      <td>-41.564228</td>\n",
       "      <td>-41.545902</td>\n",
       "      <td>94.246445</td>\n",
       "      <td>94.295967</td>\n",
       "      <td>260.967480</td>\n",
       "      <td>247.926230</td>\n",
       "      <td>0.673635</td>\n",
       "      <td>0.758197</td>\n",
       "      <td>4.230779</td>\n",
       "      <td>4.245426</td>\n",
       "      <td>5195.803600</td>\n",
       "      <td>5195.018852</td>\n",
       "      <td>962.068525</td>\n",
       "      <td>966.368852</td>\n",
       "      <td>0.101045</td>\n",
       "      <td>0.131148</td>\n",
       "    </tr>\n",
       "    <tr>\n",
       "      <th rowspan=\"5\" valign=\"top\">mar</th>\n",
       "      <th>fri</th>\n",
       "      <td>37.447059</td>\n",
       "      <td>39.777778</td>\n",
       "      <td>-42.847059</td>\n",
       "      <td>-44.933333</td>\n",
       "      <td>93.090529</td>\n",
       "      <td>93.018333</td>\n",
       "      <td>236.647059</td>\n",
       "      <td>602.222222</td>\n",
       "      <td>-1.800000</td>\n",
       "      <td>-1.800000</td>\n",
       "      <td>1.145153</td>\n",
       "      <td>1.313556</td>\n",
       "      <td>5056.558824</td>\n",
       "      <td>5068.966667</td>\n",
       "      <td>823.964706</td>\n",
       "      <td>999.000000</td>\n",
       "      <td>0.505882</td>\n",
       "      <td>0.111111</td>\n",
       "    </tr>\n",
       "    <tr>\n",
       "      <th>mon</th>\n",
       "      <td>42.488189</td>\n",
       "      <td>38.937500</td>\n",
       "      <td>-42.220472</td>\n",
       "      <td>-46.200000</td>\n",
       "      <td>93.112213</td>\n",
       "      <td>92.974500</td>\n",
       "      <td>230.417323</td>\n",
       "      <td>173.062500</td>\n",
       "      <td>-1.800000</td>\n",
       "      <td>-1.800000</td>\n",
       "      <td>1.149953</td>\n",
       "      <td>1.424250</td>\n",
       "      <td>5052.832283</td>\n",
       "      <td>5076.500000</td>\n",
       "      <td>827.023622</td>\n",
       "      <td>936.750000</td>\n",
       "      <td>0.543307</td>\n",
       "      <td>0.500000</td>\n",
       "    </tr>\n",
       "    <tr>\n",
       "      <th>thu</th>\n",
       "      <td>38.964286</td>\n",
       "      <td>39.400000</td>\n",
       "      <td>-41.676190</td>\n",
       "      <td>-44.933333</td>\n",
       "      <td>93.131048</td>\n",
       "      <td>93.018333</td>\n",
       "      <td>242.392857</td>\n",
       "      <td>200.000000</td>\n",
       "      <td>-1.800000</td>\n",
       "      <td>-1.800000</td>\n",
       "      <td>1.099738</td>\n",
       "      <td>1.321467</td>\n",
       "      <td>5049.595238</td>\n",
       "      <td>5068.966667</td>\n",
       "      <td>845.571429</td>\n",
       "      <td>866.866667</td>\n",
       "      <td>0.535714</td>\n",
       "      <td>0.400000</td>\n",
       "    </tr>\n",
       "    <tr>\n",
       "      <th>tue</th>\n",
       "      <td>39.860870</td>\n",
       "      <td>35.600000</td>\n",
       "      <td>-42.730435</td>\n",
       "      <td>-42.096000</td>\n",
       "      <td>93.094565</td>\n",
       "      <td>93.116520</td>\n",
       "      <td>272.860870</td>\n",
       "      <td>227.400000</td>\n",
       "      <td>-1.800000</td>\n",
       "      <td>-1.800000</td>\n",
       "      <td>1.172183</td>\n",
       "      <td>1.112600</td>\n",
       "      <td>5055.865217</td>\n",
       "      <td>5052.092000</td>\n",
       "      <td>826.321739</td>\n",
       "      <td>721.560000</td>\n",
       "      <td>0.443478</td>\n",
       "      <td>0.600000</td>\n",
       "    </tr>\n",
       "    <tr>\n",
       "      <th>wed</th>\n",
       "      <td>47.966102</td>\n",
       "      <td>48.818182</td>\n",
       "      <td>-42.271186</td>\n",
       "      <td>-45.854545</td>\n",
       "      <td>93.110458</td>\n",
       "      <td>92.986455</td>\n",
       "      <td>232.661017</td>\n",
       "      <td>233.454545</td>\n",
       "      <td>-1.800000</td>\n",
       "      <td>-1.800000</td>\n",
       "      <td>1.134288</td>\n",
       "      <td>1.375273</td>\n",
       "      <td>5053.133898</td>\n",
       "      <td>5074.445455</td>\n",
       "      <td>847.694915</td>\n",
       "      <td>909.000000</td>\n",
       "      <td>0.372881</td>\n",
       "      <td>0.363636</td>\n",
       "    </tr>\n",
       "    <tr>\n",
       "      <th rowspan=\"5\" valign=\"top\">may</th>\n",
       "      <th>fri</th>\n",
       "      <td>38.838028</td>\n",
       "      <td>38.504505</td>\n",
       "      <td>-40.376802</td>\n",
       "      <td>-40.528378</td>\n",
       "      <td>93.551609</td>\n",
       "      <td>93.537286</td>\n",
       "      <td>264.574151</td>\n",
       "      <td>252.551802</td>\n",
       "      <td>-0.104930</td>\n",
       "      <td>-0.167117</td>\n",
       "      <td>3.361957</td>\n",
       "      <td>3.278586</td>\n",
       "      <td>5151.430613</td>\n",
       "      <td>5148.605856</td>\n",
       "      <td>988.723695</td>\n",
       "      <td>983.353604</td>\n",
       "      <td>0.168186</td>\n",
       "      <td>0.137387</td>\n",
       "    </tr>\n",
       "    <tr>\n",
       "      <th>mon</th>\n",
       "      <td>39.648282</td>\n",
       "      <td>39.690698</td>\n",
       "      <td>-41.038246</td>\n",
       "      <td>-40.979535</td>\n",
       "      <td>93.476404</td>\n",
       "      <td>93.484833</td>\n",
       "      <td>251.614828</td>\n",
       "      <td>236.139535</td>\n",
       "      <td>-0.294937</td>\n",
       "      <td>-0.289302</td>\n",
       "      <td>3.132542</td>\n",
       "      <td>3.138333</td>\n",
       "      <td>5145.691501</td>\n",
       "      <td>5145.291628</td>\n",
       "      <td>975.214738</td>\n",
       "      <td>971.320930</td>\n",
       "      <td>0.154611</td>\n",
       "      <td>0.167442</td>\n",
       "    </tr>\n",
       "    <tr>\n",
       "      <th>thu</th>\n",
       "      <td>38.189744</td>\n",
       "      <td>37.905612</td>\n",
       "      <td>-40.852401</td>\n",
       "      <td>-41.689286</td>\n",
       "      <td>93.499796</td>\n",
       "      <td>93.404880</td>\n",
       "      <td>266.936597</td>\n",
       "      <td>262.280612</td>\n",
       "      <td>-0.256037</td>\n",
       "      <td>-0.497959</td>\n",
       "      <td>3.179143</td>\n",
       "      <td>2.883194</td>\n",
       "      <td>5146.131142</td>\n",
       "      <td>5138.746939</td>\n",
       "      <td>980.033566</td>\n",
       "      <td>981.270408</td>\n",
       "      <td>0.172494</td>\n",
       "      <td>0.211735</td>\n",
       "    </tr>\n",
       "    <tr>\n",
       "      <th>tue</th>\n",
       "      <td>39.620732</td>\n",
       "      <td>39.410053</td>\n",
       "      <td>-40.175895</td>\n",
       "      <td>-40.074603</td>\n",
       "      <td>93.573207</td>\n",
       "      <td>93.582685</td>\n",
       "      <td>263.159605</td>\n",
       "      <td>262.740741</td>\n",
       "      <td>-0.039243</td>\n",
       "      <td>0.002910</td>\n",
       "      <td>3.454872</td>\n",
       "      <td>3.510468</td>\n",
       "      <td>5153.819375</td>\n",
       "      <td>5155.755291</td>\n",
       "      <td>982.242698</td>\n",
       "      <td>983.238095</td>\n",
       "      <td>0.153023</td>\n",
       "      <td>0.137566</td>\n",
       "    </tr>\n",
       "    <tr>\n",
       "      <th>wed</th>\n",
       "      <td>38.967690</td>\n",
       "      <td>38.756152</td>\n",
       "      <td>-40.295315</td>\n",
       "      <td>-40.976286</td>\n",
       "      <td>93.561464</td>\n",
       "      <td>93.481150</td>\n",
       "      <td>264.164782</td>\n",
       "      <td>267.228188</td>\n",
       "      <td>-0.085299</td>\n",
       "      <td>-0.262416</td>\n",
       "      <td>3.393201</td>\n",
       "      <td>3.184702</td>\n",
       "      <td>5151.831826</td>\n",
       "      <td>5147.421029</td>\n",
       "      <td>978.154685</td>\n",
       "      <td>990.109620</td>\n",
       "      <td>0.172456</td>\n",
       "      <td>0.170022</td>\n",
       "    </tr>\n",
       "    <tr>\n",
       "      <th rowspan=\"5\" valign=\"top\">nov</th>\n",
       "      <th>fri</th>\n",
       "      <td>43.699357</td>\n",
       "      <td>43.187970</td>\n",
       "      <td>-41.474437</td>\n",
       "      <td>-41.529323</td>\n",
       "      <td>93.214814</td>\n",
       "      <td>93.186925</td>\n",
       "      <td>230.228296</td>\n",
       "      <td>217.263158</td>\n",
       "      <td>-0.361897</td>\n",
       "      <td>-0.256391</td>\n",
       "      <td>3.694563</td>\n",
       "      <td>3.850962</td>\n",
       "      <td>5175.634244</td>\n",
       "      <td>5186.010526</td>\n",
       "      <td>957.442122</td>\n",
       "      <td>961.601504</td>\n",
       "      <td>0.279743</td>\n",
       "      <td>0.233083</td>\n",
       "    </tr>\n",
       "    <tr>\n",
       "      <th>mon</th>\n",
       "      <td>42.654079</td>\n",
       "      <td>41.250000</td>\n",
       "      <td>-40.668429</td>\n",
       "      <td>-40.423077</td>\n",
       "      <td>93.192644</td>\n",
       "      <td>93.160433</td>\n",
       "      <td>241.891239</td>\n",
       "      <td>201.250000</td>\n",
       "      <td>-0.630363</td>\n",
       "      <td>-0.636538</td>\n",
       "      <td>3.538275</td>\n",
       "      <td>3.568173</td>\n",
       "      <td>5158.801057</td>\n",
       "      <td>5161.671154</td>\n",
       "      <td>935.957704</td>\n",
       "      <td>951.192308</td>\n",
       "      <td>0.338369</td>\n",
       "      <td>0.336538</td>\n",
       "    </tr>\n",
       "    <tr>\n",
       "      <th>thu</th>\n",
       "      <td>38.853129</td>\n",
       "      <td>38.833333</td>\n",
       "      <td>-41.537548</td>\n",
       "      <td>-41.750000</td>\n",
       "      <td>93.203762</td>\n",
       "      <td>93.207750</td>\n",
       "      <td>254.422733</td>\n",
       "      <td>311.358333</td>\n",
       "      <td>-0.302937</td>\n",
       "      <td>-0.226667</td>\n",
       "      <td>3.829737</td>\n",
       "      <td>3.911717</td>\n",
       "      <td>5180.966922</td>\n",
       "      <td>5185.986667</td>\n",
       "      <td>962.197957</td>\n",
       "      <td>982.433333</td>\n",
       "      <td>0.232439</td>\n",
       "      <td>0.175000</td>\n",
       "    </tr>\n",
       "    <tr>\n",
       "      <th>tue</th>\n",
       "      <td>41.166189</td>\n",
       "      <td>42.974138</td>\n",
       "      <td>-41.240401</td>\n",
       "      <td>-41.072414</td>\n",
       "      <td>93.213004</td>\n",
       "      <td>93.197034</td>\n",
       "      <td>227.746418</td>\n",
       "      <td>215.112069</td>\n",
       "      <td>-0.453582</td>\n",
       "      <td>-0.475862</td>\n",
       "      <td>3.704950</td>\n",
       "      <td>3.699948</td>\n",
       "      <td>5169.293410</td>\n",
       "      <td>5169.348276</td>\n",
       "      <td>940.614613</td>\n",
       "      <td>973.293103</td>\n",
       "      <td>0.353868</td>\n",
       "      <td>0.267241</td>\n",
       "    </tr>\n",
       "    <tr>\n",
       "      <th>wed</th>\n",
       "      <td>39.347945</td>\n",
       "      <td>37.766917</td>\n",
       "      <td>-41.320411</td>\n",
       "      <td>-40.790226</td>\n",
       "      <td>93.197125</td>\n",
       "      <td>93.161421</td>\n",
       "      <td>271.731507</td>\n",
       "      <td>272.436090</td>\n",
       "      <td>-0.373288</td>\n",
       "      <td>-0.487218</td>\n",
       "      <td>3.794441</td>\n",
       "      <td>3.696406</td>\n",
       "      <td>5176.640959</td>\n",
       "      <td>5172.199248</td>\n",
       "      <td>963.600000</td>\n",
       "      <td>916.744361</td>\n",
       "      <td>0.286301</td>\n",
       "      <td>0.375940</td>\n",
       "    </tr>\n",
       "    <tr>\n",
       "      <th rowspan=\"5\" valign=\"top\">oct</th>\n",
       "      <th>fri</th>\n",
       "      <td>41.984252</td>\n",
       "      <td>39.533333</td>\n",
       "      <td>-34.722835</td>\n",
       "      <td>-35.333333</td>\n",
       "      <td>93.190488</td>\n",
       "      <td>93.245467</td>\n",
       "      <td>294.488189</td>\n",
       "      <td>246.266667</td>\n",
       "      <td>-2.376378</td>\n",
       "      <td>-2.413333</td>\n",
       "      <td>1.300260</td>\n",
       "      <td>1.108933</td>\n",
       "      <td>5023.704724</td>\n",
       "      <td>5011.420000</td>\n",
       "      <td>764.519685</td>\n",
       "      <td>734.733333</td>\n",
       "      <td>0.645669</td>\n",
       "      <td>0.600000</td>\n",
       "    </tr>\n",
       "    <tr>\n",
       "      <th>mon</th>\n",
       "      <td>41.875000</td>\n",
       "      <td>43.120000</td>\n",
       "      <td>-38.064423</td>\n",
       "      <td>-39.544000</td>\n",
       "      <td>93.509106</td>\n",
       "      <td>93.659200</td>\n",
       "      <td>274.221154</td>\n",
       "      <td>391.320000</td>\n",
       "      <td>-2.097115</td>\n",
       "      <td>-1.728000</td>\n",
       "      <td>1.218317</td>\n",
       "      <td>1.696320</td>\n",
       "      <td>5009.089423</td>\n",
       "      <td>5029.444000</td>\n",
       "      <td>770.076923</td>\n",
       "      <td>800.120000</td>\n",
       "      <td>0.750000</td>\n",
       "      <td>0.520000</td>\n",
       "    </tr>\n",
       "    <tr>\n",
       "      <th>thu</th>\n",
       "      <td>46.682432</td>\n",
       "      <td>43.800000</td>\n",
       "      <td>-33.127027</td>\n",
       "      <td>-31.420000</td>\n",
       "      <td>93.032730</td>\n",
       "      <td>92.865000</td>\n",
       "      <td>259.986486</td>\n",
       "      <td>310.866667</td>\n",
       "      <td>-2.662162</td>\n",
       "      <td>-2.940000</td>\n",
       "      <td>1.022926</td>\n",
       "      <td>0.778333</td>\n",
       "      <td>5014.027027</td>\n",
       "      <td>5006.720000</td>\n",
       "      <td>743.952703</td>\n",
       "      <td>932.600000</td>\n",
       "      <td>0.668919</td>\n",
       "      <td>0.266667</td>\n",
       "    </tr>\n",
       "    <tr>\n",
       "      <th>tue</th>\n",
       "      <td>44.907692</td>\n",
       "      <td>46.526316</td>\n",
       "      <td>-32.593846</td>\n",
       "      <td>-32.847368</td>\n",
       "      <td>92.987508</td>\n",
       "      <td>93.002053</td>\n",
       "      <td>275.384615</td>\n",
       "      <td>221.315789</td>\n",
       "      <td>-2.553846</td>\n",
       "      <td>-2.794737</td>\n",
       "      <td>1.361092</td>\n",
       "      <td>0.805053</td>\n",
       "      <td>5033.066154</td>\n",
       "      <td>5003.315789</td>\n",
       "      <td>869.261538</td>\n",
       "      <td>580.368421</td>\n",
       "      <td>0.530769</td>\n",
       "      <td>1.210526</td>\n",
       "    </tr>\n",
       "    <tr>\n",
       "      <th>wed</th>\n",
       "      <td>45.218487</td>\n",
       "      <td>43.000000</td>\n",
       "      <td>-34.794958</td>\n",
       "      <td>-35.375000</td>\n",
       "      <td>93.195597</td>\n",
       "      <td>93.244750</td>\n",
       "      <td>334.352941</td>\n",
       "      <td>294.875000</td>\n",
       "      <td>-2.418487</td>\n",
       "      <td>-2.537500</td>\n",
       "      <td>1.194412</td>\n",
       "      <td>0.835437</td>\n",
       "      <td>5018.128571</td>\n",
       "      <td>4997.287500</td>\n",
       "      <td>790.470588</td>\n",
       "      <td>688.375000</td>\n",
       "      <td>0.638655</td>\n",
       "      <td>0.750000</td>\n",
       "    </tr>\n",
       "    <tr>\n",
       "      <th rowspan=\"5\" valign=\"top\">sep</th>\n",
       "      <th>fri</th>\n",
       "      <td>46.560000</td>\n",
       "      <td>46.000000</td>\n",
       "      <td>-32.572000</td>\n",
       "      <td>-32.880000</td>\n",
       "      <td>93.034200</td>\n",
       "      <td>93.107000</td>\n",
       "      <td>290.780000</td>\n",
       "      <td>206.933333</td>\n",
       "      <td>-2.572000</td>\n",
       "      <td>-2.480000</td>\n",
       "      <td>0.813560</td>\n",
       "      <td>0.827667</td>\n",
       "      <td>4998.096000</td>\n",
       "      <td>4995.940000</td>\n",
       "      <td>780.380000</td>\n",
       "      <td>866.600000</td>\n",
       "      <td>0.840000</td>\n",
       "      <td>0.466667</td>\n",
       "    </tr>\n",
       "    <tr>\n",
       "      <th>mon</th>\n",
       "      <td>41.679012</td>\n",
       "      <td>39.222222</td>\n",
       "      <td>-34.648148</td>\n",
       "      <td>-33.222222</td>\n",
       "      <td>93.524926</td>\n",
       "      <td>93.187889</td>\n",
       "      <td>281.814815</td>\n",
       "      <td>241.222222</td>\n",
       "      <td>-1.951852</td>\n",
       "      <td>-2.377778</td>\n",
       "      <td>0.845617</td>\n",
       "      <td>0.831556</td>\n",
       "      <td>4983.562963</td>\n",
       "      <td>4993.544444</td>\n",
       "      <td>802.802469</td>\n",
       "      <td>778.000000</td>\n",
       "      <td>0.802469</td>\n",
       "      <td>0.666667</td>\n",
       "    </tr>\n",
       "    <tr>\n",
       "      <th>thu</th>\n",
       "      <td>40.972222</td>\n",
       "      <td>40.428571</td>\n",
       "      <td>-35.503704</td>\n",
       "      <td>-34.200000</td>\n",
       "      <td>93.727148</td>\n",
       "      <td>93.419000</td>\n",
       "      <td>319.657407</td>\n",
       "      <td>329.285714</td>\n",
       "      <td>-1.696296</td>\n",
       "      <td>-2.085714</td>\n",
       "      <td>0.857630</td>\n",
       "      <td>0.839857</td>\n",
       "      <td>4977.574074</td>\n",
       "      <td>4986.700000</td>\n",
       "      <td>714.148148</td>\n",
       "      <td>503.428571</td>\n",
       "      <td>0.879630</td>\n",
       "      <td>0.928571</td>\n",
       "    </tr>\n",
       "    <tr>\n",
       "      <th>tue</th>\n",
       "      <td>46.607843</td>\n",
       "      <td>42.937500</td>\n",
       "      <td>-32.593137</td>\n",
       "      <td>-32.206250</td>\n",
       "      <td>93.039196</td>\n",
       "      <td>92.947750</td>\n",
       "      <td>285.460784</td>\n",
       "      <td>192.500000</td>\n",
       "      <td>-2.565686</td>\n",
       "      <td>-2.681250</td>\n",
       "      <td>0.819265</td>\n",
       "      <td>0.816313</td>\n",
       "      <td>4997.948039</td>\n",
       "      <td>5000.656250</td>\n",
       "      <td>648.127451</td>\n",
       "      <td>688.000000</td>\n",
       "      <td>0.823529</td>\n",
       "      <td>0.750000</td>\n",
       "    </tr>\n",
       "    <tr>\n",
       "      <th>wed</th>\n",
       "      <td>42.340206</td>\n",
       "      <td>44.642857</td>\n",
       "      <td>-34.562887</td>\n",
       "      <td>-34.200000</td>\n",
       "      <td>93.504773</td>\n",
       "      <td>93.419000</td>\n",
       "      <td>319.453608</td>\n",
       "      <td>364.107143</td>\n",
       "      <td>-1.977320</td>\n",
       "      <td>-2.085714</td>\n",
       "      <td>0.840887</td>\n",
       "      <td>0.838893</td>\n",
       "      <td>4984.159794</td>\n",
       "      <td>4986.700000</td>\n",
       "      <td>641.020619</td>\n",
       "      <td>821.714286</td>\n",
       "      <td>0.948454</td>\n",
       "      <td>0.571429</td>\n",
       "    </tr>\n",
       "  </tbody>\n",
       "</table>\n",
       "</div>"
      ],
      "text/plain": [
       "                         age            cons.conf.idx             \\\n",
       "loan                      no        yes            no        yes   \n",
       "month day_of_week                                                  \n",
       "apr   fri          40.060665  37.919192    -46.659687 -46.216162   \n",
       "      mon          40.205042  41.822430    -46.238655 -46.632710   \n",
       "      thu          40.100763  41.247788    -46.241221 -45.993805   \n",
       "      tue          43.370892  40.769231    -45.574178 -44.535897   \n",
       "      wed          42.224409  37.847826    -46.460236 -46.556522   \n",
       "aug   fri          41.117325  41.246835    -35.408991 -35.412025   \n",
       "      mon          41.548325  40.966102    -35.669761 -35.832768   \n",
       "      thu          41.218667  40.864865    -35.593067 -35.642793   \n",
       "      tue          42.484821  40.732955    -35.630268 -35.600000   \n",
       "      wed          42.333969  41.189744    -35.603340 -35.770769   \n",
       "dec   fri          44.700000  46.500000    -34.290000 -36.225000   \n",
       "      mon          43.200000  47.769231    -33.322500 -34.984615   \n",
       "      thu          52.424242  56.583333    -33.390909 -34.075000   \n",
       "      tue          40.772727  51.000000    -33.586364 -33.000000   \n",
       "      wed          50.060606  35.000000    -33.390909 -33.000000   \n",
       "jul   fri          39.396450  41.053892    -42.272308 -42.375449   \n",
       "      mon          40.062954  40.061372    -42.517353 -42.504332   \n",
       "      thu          38.533808  40.595506    -42.363274 -42.319476   \n",
       "      tue          39.134540  39.768293    -42.328639 -42.240244   \n",
       "      wed          37.553398  37.294118    -42.354207 -42.324887   \n",
       "jun   fri          40.550620  40.022346    -41.668802 -41.649162   \n",
       "      mon          39.667286  38.645714    -41.557435 -41.600000   \n",
       "      thu          40.900718  39.450382    -41.670813 -41.540458   \n",
       "      tue          39.471883  39.776316    -41.439364 -41.457895   \n",
       "      wed          38.648084  38.057377    -41.564228 -41.545902   \n",
       "mar   fri          37.447059  39.777778    -42.847059 -44.933333   \n",
       "      mon          42.488189  38.937500    -42.220472 -46.200000   \n",
       "      thu          38.964286  39.400000    -41.676190 -44.933333   \n",
       "      tue          39.860870  35.600000    -42.730435 -42.096000   \n",
       "      wed          47.966102  48.818182    -42.271186 -45.854545   \n",
       "may   fri          38.838028  38.504505    -40.376802 -40.528378   \n",
       "      mon          39.648282  39.690698    -41.038246 -40.979535   \n",
       "      thu          38.189744  37.905612    -40.852401 -41.689286   \n",
       "      tue          39.620732  39.410053    -40.175895 -40.074603   \n",
       "      wed          38.967690  38.756152    -40.295315 -40.976286   \n",
       "nov   fri          43.699357  43.187970    -41.474437 -41.529323   \n",
       "      mon          42.654079  41.250000    -40.668429 -40.423077   \n",
       "      thu          38.853129  38.833333    -41.537548 -41.750000   \n",
       "      tue          41.166189  42.974138    -41.240401 -41.072414   \n",
       "      wed          39.347945  37.766917    -41.320411 -40.790226   \n",
       "oct   fri          41.984252  39.533333    -34.722835 -35.333333   \n",
       "      mon          41.875000  43.120000    -38.064423 -39.544000   \n",
       "      thu          46.682432  43.800000    -33.127027 -31.420000   \n",
       "      tue          44.907692  46.526316    -32.593846 -32.847368   \n",
       "      wed          45.218487  43.000000    -34.794958 -35.375000   \n",
       "sep   fri          46.560000  46.000000    -32.572000 -32.880000   \n",
       "      mon          41.679012  39.222222    -34.648148 -33.222222   \n",
       "      thu          40.972222  40.428571    -35.503704 -34.200000   \n",
       "      tue          46.607843  42.937500    -32.593137 -32.206250   \n",
       "      wed          42.340206  44.642857    -34.562887 -34.200000   \n",
       "\n",
       "                  cons.price.idx               duration              \\\n",
       "loan                          no        yes          no         yes   \n",
       "month day_of_week                                                     \n",
       "apr   fri              93.098742  93.122657  312.019569  283.626263   \n",
       "      mon              93.121444  93.100196  245.028571  242.943925   \n",
       "      thu              93.121305  93.134646  324.404580  331.106195   \n",
       "      tue              93.157272  93.213256  264.896714  365.923077   \n",
       "      wed              93.109496  93.104304  304.751969  312.934783   \n",
       "aug   fri              93.261294  93.262082  212.380482  220.056962   \n",
       "      mon              93.330274  93.373339  231.148325  207.192090   \n",
       "      thu              93.309976  93.323099  224.836444  267.527027   \n",
       "      tue              93.319818  93.311812  246.083036  253.562500   \n",
       "      wed              93.312693  93.356959  238.503817  239.743590   \n",
       "dec   fri              92.717300  92.723750  304.950000  398.000000   \n",
       "      mon              92.714075  92.719615  416.300000  331.153846   \n",
       "      thu              92.714303  92.716583  321.393939  420.416667   \n",
       "      tue              92.714955  92.713000  351.181818  194.333333   \n",
       "      wed              92.714303  92.713000  288.000000  394.500000   \n",
       "jul   fri              93.891692  93.927323  300.559763  276.808383   \n",
       "      mon              93.913584  93.923621  259.443099  267.007220   \n",
       "      thu              93.899186  93.887933  264.804270  264.434457   \n",
       "      tue              93.882913  93.880683  278.101495  288.512195   \n",
       "      wed              93.881621  93.882855  273.933657  272.719457   \n",
       "jun   fri              94.318855  94.339883  204.236570  195.351955   \n",
       "      mon              94.197099  94.283183  239.628253  231.765714   \n",
       "      thu              94.342328  94.213779  259.901914  270.938931   \n",
       "      tue              94.123108  94.070618  254.536675  282.572368   \n",
       "      wed              94.246445  94.295967  260.967480  247.926230   \n",
       "mar   fri              93.090529  93.018333  236.647059  602.222222   \n",
       "      mon              93.112213  92.974500  230.417323  173.062500   \n",
       "      thu              93.131048  93.018333  242.392857  200.000000   \n",
       "      tue              93.094565  93.116520  272.860870  227.400000   \n",
       "      wed              93.110458  92.986455  232.661017  233.454545   \n",
       "may   fri              93.551609  93.537286  264.574151  252.551802   \n",
       "      mon              93.476404  93.484833  251.614828  236.139535   \n",
       "      thu              93.499796  93.404880  266.936597  262.280612   \n",
       "      tue              93.573207  93.582685  263.159605  262.740741   \n",
       "      wed              93.561464  93.481150  264.164782  267.228188   \n",
       "nov   fri              93.214814  93.186925  230.228296  217.263158   \n",
       "      mon              93.192644  93.160433  241.891239  201.250000   \n",
       "      thu              93.203762  93.207750  254.422733  311.358333   \n",
       "      tue              93.213004  93.197034  227.746418  215.112069   \n",
       "      wed              93.197125  93.161421  271.731507  272.436090   \n",
       "oct   fri              93.190488  93.245467  294.488189  246.266667   \n",
       "      mon              93.509106  93.659200  274.221154  391.320000   \n",
       "      thu              93.032730  92.865000  259.986486  310.866667   \n",
       "      tue              92.987508  93.002053  275.384615  221.315789   \n",
       "      wed              93.195597  93.244750  334.352941  294.875000   \n",
       "sep   fri              93.034200  93.107000  290.780000  206.933333   \n",
       "      mon              93.524926  93.187889  281.814815  241.222222   \n",
       "      thu              93.727148  93.419000  319.657407  329.285714   \n",
       "      tue              93.039196  92.947750  285.460784  192.500000   \n",
       "      wed              93.504773  93.419000  319.453608  364.107143   \n",
       "\n",
       "                  emp.var.rate           euribor3m            nr.employed  \\\n",
       "loan                        no       yes        no       yes           no   \n",
       "month day_of_week                                                           \n",
       "apr   fri            -1.800000 -1.800000  1.386033  1.358616  5095.915656   \n",
       "      mon            -1.800000 -1.800000  1.356995  1.381561  5092.870756   \n",
       "      thu            -1.800000 -1.800000  1.346858  1.332602  5092.889313   \n",
       "      tue            -1.800000 -1.800000  1.333108  1.268333  5088.065258   \n",
       "      wed            -1.800000 -1.800000  1.392209  1.402565  5094.473228   \n",
       "aug   fri             0.577193  0.641139  4.138360  4.211405  5194.299561   \n",
       "      mon             0.751962  1.097740  4.291390  4.664322  5198.888517   \n",
       "      thu             0.745333  0.912613  4.299138  4.485622  5200.232533   \n",
       "      tue             0.764821  0.739205  4.315256  4.291318  5200.559643   \n",
       "      wed             0.755344  0.967692  4.309628  4.525077  5200.601336   \n",
       "dec   fri            -2.720000 -2.300000  0.985250  1.425250  5038.780000   \n",
       "      mon            -2.930000 -2.569231  0.789900  1.104923  5027.320000   \n",
       "      thu            -2.915152 -2.766667  0.792091  0.959667  5028.130303   \n",
       "      tue            -2.872727 -3.000000  0.832773  0.709667  5030.445455   \n",
       "      wed            -2.915152 -3.000000  0.805485  0.718000  5028.130303   \n",
       "jul   fri             1.076923  1.070060  4.587335  4.544293  5208.872308   \n",
       "      mon             1.242292  1.201083  4.769957  4.709271  5217.916626   \n",
       "      thu             1.140142  1.131835  4.660877  4.660419  5212.412669   \n",
       "      tue             1.154917  1.078862  4.691218  4.595565  5214.946184   \n",
       "      wed             1.182524  1.151584  4.727307  4.690267  5216.924272   \n",
       "jun   fri             0.943802  0.966480  4.538610  4.527123  5209.491942   \n",
       "      mon             0.561431  0.791429  4.152864  4.331577  5193.756227   \n",
       "      thu             0.995813  0.577863  4.534597  4.143435  5210.328110   \n",
       "      tue             0.272861  0.182237  3.832543  3.806730  5178.502689   \n",
       "      wed             0.673635  0.758197  4.230779  4.245426  5195.803600   \n",
       "mar   fri            -1.800000 -1.800000  1.145153  1.313556  5056.558824   \n",
       "      mon            -1.800000 -1.800000  1.149953  1.424250  5052.832283   \n",
       "      thu            -1.800000 -1.800000  1.099738  1.321467  5049.595238   \n",
       "      tue            -1.800000 -1.800000  1.172183  1.112600  5055.865217   \n",
       "      wed            -1.800000 -1.800000  1.134288  1.375273  5053.133898   \n",
       "may   fri            -0.104930 -0.167117  3.361957  3.278586  5151.430613   \n",
       "      mon            -0.294937 -0.289302  3.132542  3.138333  5145.691501   \n",
       "      thu            -0.256037 -0.497959  3.179143  2.883194  5146.131142   \n",
       "      tue            -0.039243  0.002910  3.454872  3.510468  5153.819375   \n",
       "      wed            -0.085299 -0.262416  3.393201  3.184702  5151.831826   \n",
       "nov   fri            -0.361897 -0.256391  3.694563  3.850962  5175.634244   \n",
       "      mon            -0.630363 -0.636538  3.538275  3.568173  5158.801057   \n",
       "      thu            -0.302937 -0.226667  3.829737  3.911717  5180.966922   \n",
       "      tue            -0.453582 -0.475862  3.704950  3.699948  5169.293410   \n",
       "      wed            -0.373288 -0.487218  3.794441  3.696406  5176.640959   \n",
       "oct   fri            -2.376378 -2.413333  1.300260  1.108933  5023.704724   \n",
       "      mon            -2.097115 -1.728000  1.218317  1.696320  5009.089423   \n",
       "      thu            -2.662162 -2.940000  1.022926  0.778333  5014.027027   \n",
       "      tue            -2.553846 -2.794737  1.361092  0.805053  5033.066154   \n",
       "      wed            -2.418487 -2.537500  1.194412  0.835437  5018.128571   \n",
       "sep   fri            -2.572000 -2.480000  0.813560  0.827667  4998.096000   \n",
       "      mon            -1.951852 -2.377778  0.845617  0.831556  4983.562963   \n",
       "      thu            -1.696296 -2.085714  0.857630  0.839857  4977.574074   \n",
       "      tue            -2.565686 -2.681250  0.819265  0.816313  4997.948039   \n",
       "      wed            -1.977320 -2.085714  0.840887  0.838893  4984.159794   \n",
       "\n",
       "                                     pdays              previous            \n",
       "loan                       yes          no         yes        no       yes  \n",
       "month day_of_week                                                           \n",
       "apr   fri          5092.708081  981.493151  968.909091  0.356164  0.373737  \n",
       "      mon          5095.720561  970.657143  962.018692  0.294118  0.411215  \n",
       "      thu          5091.100000  923.039695  902.300885  0.340458  0.336283  \n",
       "      tue          5080.556410  961.741784  897.282051  0.291080  0.333333  \n",
       "      wed          5095.169565  967.744094  977.413043  0.259843  0.239130  \n",
       "aug   fri          5198.077848  955.440789  973.879747  0.139254  0.107595  \n",
       "      mon          5215.987571  958.151196  987.745763  0.132057  0.050847  \n",
       "      thu          5209.166667  961.936889  967.662162  0.107556  0.081081  \n",
       "      tue          5199.706250  972.415179  942.579545  0.096429  0.142045  \n",
       "      wed          5209.572308  951.587786  958.179487  0.123092  0.107692  \n",
       "dec   fri          5061.700000  701.000000  750.750000  0.500000  0.750000  \n",
       "      mon          5047.007692  726.075000  770.000000  0.700000  0.461538  \n",
       "      thu          5036.233333  758.242424  667.833333  0.757576  1.000000  \n",
       "      tue          5023.500000  773.454545  337.000000  0.363636  1.333333  \n",
       "      wed          5023.500000  818.484848  999.000000  0.484848  0.000000  \n",
       "jul   fri          5205.038323  970.862722  993.065868  0.071006  0.035928  \n",
       "      mon          5214.196390  989.430186  984.649819  0.029863  0.046931  \n",
       "      thu          5212.919476  978.549466  972.966292  0.062633  0.078652  \n",
       "      tue          5210.044715  983.398899  970.825203  0.039339  0.073171  \n",
       "      wed          5214.727602  990.984628  980.986425  0.028317  0.045249  \n",
       "jun   fri          5207.819553  983.610537  960.072626  0.037190  0.072626  \n",
       "      mon          5200.796571  974.053903  970.605714  0.073420  0.085714  \n",
       "      thu          5192.271756  984.741627  983.862595  0.037081  0.068702  \n",
       "      tue          5179.233553  947.980440  946.684211  0.160147  0.164474  \n",
       "      wed          5195.018852  962.068525  966.368852  0.101045  0.131148  \n",
       "mar   fri          5068.966667  823.964706  999.000000  0.505882  0.111111  \n",
       "      mon          5076.500000  827.023622  936.750000  0.543307  0.500000  \n",
       "      thu          5068.966667  845.571429  866.866667  0.535714  0.400000  \n",
       "      tue          5052.092000  826.321739  721.560000  0.443478  0.600000  \n",
       "      wed          5074.445455  847.694915  909.000000  0.372881  0.363636  \n",
       "may   fri          5148.605856  988.723695  983.353604  0.168186  0.137387  \n",
       "      mon          5145.291628  975.214738  971.320930  0.154611  0.167442  \n",
       "      thu          5138.746939  980.033566  981.270408  0.172494  0.211735  \n",
       "      tue          5155.755291  982.242698  983.238095  0.153023  0.137566  \n",
       "      wed          5147.421029  978.154685  990.109620  0.172456  0.170022  \n",
       "nov   fri          5186.010526  957.442122  961.601504  0.279743  0.233083  \n",
       "      mon          5161.671154  935.957704  951.192308  0.338369  0.336538  \n",
       "      thu          5185.986667  962.197957  982.433333  0.232439  0.175000  \n",
       "      tue          5169.348276  940.614613  973.293103  0.353868  0.267241  \n",
       "      wed          5172.199248  963.600000  916.744361  0.286301  0.375940  \n",
       "oct   fri          5011.420000  764.519685  734.733333  0.645669  0.600000  \n",
       "      mon          5029.444000  770.076923  800.120000  0.750000  0.520000  \n",
       "      thu          5006.720000  743.952703  932.600000  0.668919  0.266667  \n",
       "      tue          5003.315789  869.261538  580.368421  0.530769  1.210526  \n",
       "      wed          4997.287500  790.470588  688.375000  0.638655  0.750000  \n",
       "sep   fri          4995.940000  780.380000  866.600000  0.840000  0.466667  \n",
       "      mon          4993.544444  802.802469  778.000000  0.802469  0.666667  \n",
       "      thu          4986.700000  714.148148  503.428571  0.879630  0.928571  \n",
       "      tue          5000.656250  648.127451  688.000000  0.823529  0.750000  \n",
       "      wed          4986.700000  641.020619  821.714286  0.948454  0.571429  "
      ]
     },
     "execution_count": 74,
     "metadata": {},
     "output_type": "execute_result"
    }
   ],
   "source": [
    "df.pivot_table(df, columns=[\"loan\"], index=[\"month\", \"day_of_week\"])"
   ]
  },
  {
   "cell_type": "code",
   "execution_count": 75,
   "metadata": {},
   "outputs": [
    {
     "data": {
      "text/html": [
       "<div>\n",
       "<style scoped>\n",
       "    .dataframe tbody tr th:only-of-type {\n",
       "        vertical-align: middle;\n",
       "    }\n",
       "\n",
       "    .dataframe tbody tr th {\n",
       "        vertical-align: top;\n",
       "    }\n",
       "\n",
       "    .dataframe thead tr th {\n",
       "        text-align: left;\n",
       "    }\n",
       "\n",
       "    .dataframe thead tr:last-of-type th {\n",
       "        text-align: right;\n",
       "    }\n",
       "</style>\n",
       "<table border=\"1\" class=\"dataframe\">\n",
       "  <thead>\n",
       "    <tr>\n",
       "      <th></th>\n",
       "      <th></th>\n",
       "      <th colspan=\"2\" halign=\"left\">age</th>\n",
       "      <th colspan=\"2\" halign=\"left\">cons.conf.idx</th>\n",
       "      <th colspan=\"2\" halign=\"left\">cons.price.idx</th>\n",
       "      <th colspan=\"2\" halign=\"left\">duration</th>\n",
       "      <th colspan=\"2\" halign=\"left\">emp.var.rate</th>\n",
       "      <th colspan=\"2\" halign=\"left\">euribor3m</th>\n",
       "      <th colspan=\"2\" halign=\"left\">nr.employed</th>\n",
       "      <th colspan=\"2\" halign=\"left\">pdays</th>\n",
       "      <th colspan=\"2\" halign=\"left\">previous</th>\n",
       "    </tr>\n",
       "    <tr>\n",
       "      <th></th>\n",
       "      <th>loan</th>\n",
       "      <th>no</th>\n",
       "      <th>yes</th>\n",
       "      <th>no</th>\n",
       "      <th>yes</th>\n",
       "      <th>no</th>\n",
       "      <th>yes</th>\n",
       "      <th>no</th>\n",
       "      <th>yes</th>\n",
       "      <th>no</th>\n",
       "      <th>yes</th>\n",
       "      <th>no</th>\n",
       "      <th>yes</th>\n",
       "      <th>no</th>\n",
       "      <th>yes</th>\n",
       "      <th>no</th>\n",
       "      <th>yes</th>\n",
       "      <th>no</th>\n",
       "      <th>yes</th>\n",
       "    </tr>\n",
       "    <tr>\n",
       "      <th>job</th>\n",
       "      <th>default</th>\n",
       "      <th></th>\n",
       "      <th></th>\n",
       "      <th></th>\n",
       "      <th></th>\n",
       "      <th></th>\n",
       "      <th></th>\n",
       "      <th></th>\n",
       "      <th></th>\n",
       "      <th></th>\n",
       "      <th></th>\n",
       "      <th></th>\n",
       "      <th></th>\n",
       "      <th></th>\n",
       "      <th></th>\n",
       "      <th></th>\n",
       "      <th></th>\n",
       "      <th></th>\n",
       "      <th></th>\n",
       "    </tr>\n",
       "  </thead>\n",
       "  <tbody>\n",
       "    <tr>\n",
       "      <th>admin.</th>\n",
       "      <th>no</th>\n",
       "      <td>38.396772</td>\n",
       "      <td>38.499717</td>\n",
       "      <td>-40.188203</td>\n",
       "      <td>-40.266101</td>\n",
       "      <td>93.540593</td>\n",
       "      <td>93.535331</td>\n",
       "      <td>254.930106</td>\n",
       "      <td>248.436333</td>\n",
       "      <td>0.024797</td>\n",
       "      <td>0.032541</td>\n",
       "      <td>3.564063</td>\n",
       "      <td>3.554628</td>\n",
       "      <td>5164.333478</td>\n",
       "      <td>5164.711715</td>\n",
       "      <td>953.250751</td>\n",
       "      <td>956.840407</td>\n",
       "      <td>0.191430</td>\n",
       "      <td>0.170345</td>\n",
       "    </tr>\n",
       "    <tr>\n",
       "      <th>blue-collar</th>\n",
       "      <th>no</th>\n",
       "      <td>39.599391</td>\n",
       "      <td>39.303807</td>\n",
       "      <td>-41.340581</td>\n",
       "      <td>-41.579283</td>\n",
       "      <td>93.660500</td>\n",
       "      <td>93.634460</td>\n",
       "      <td>265.344574</td>\n",
       "      <td>259.909956</td>\n",
       "      <td>0.255756</td>\n",
       "      <td>0.209956</td>\n",
       "      <td>3.779910</td>\n",
       "      <td>3.726293</td>\n",
       "      <td>5175.818763</td>\n",
       "      <td>5174.439385</td>\n",
       "      <td>984.529158</td>\n",
       "      <td>988.805271</td>\n",
       "      <td>0.122084</td>\n",
       "      <td>0.125183</td>\n",
       "    </tr>\n",
       "    <tr>\n",
       "      <th>entrepreneur</th>\n",
       "      <th>no</th>\n",
       "      <td>41.674400</td>\n",
       "      <td>42.019417</td>\n",
       "      <td>-41.177520</td>\n",
       "      <td>-41.927670</td>\n",
       "      <td>93.609346</td>\n",
       "      <td>93.581257</td>\n",
       "      <td>266.552000</td>\n",
       "      <td>243.339806</td>\n",
       "      <td>0.162960</td>\n",
       "      <td>0.133010</td>\n",
       "      <td>3.800028</td>\n",
       "      <td>3.737063</td>\n",
       "      <td>5176.154800</td>\n",
       "      <td>5177.276699</td>\n",
       "      <td>979.140800</td>\n",
       "      <td>994.169903</td>\n",
       "      <td>0.135200</td>\n",
       "      <td>0.160194</td>\n",
       "    </tr>\n",
       "    <tr>\n",
       "      <th>housemaid</th>\n",
       "      <th>no</th>\n",
       "      <td>45.639073</td>\n",
       "      <td>44.681818</td>\n",
       "      <td>-39.498675</td>\n",
       "      <td>-39.475325</td>\n",
       "      <td>93.676225</td>\n",
       "      <td>93.678643</td>\n",
       "      <td>250.748344</td>\n",
       "      <td>248.727273</td>\n",
       "      <td>0.430574</td>\n",
       "      <td>0.450000</td>\n",
       "      <td>4.005522</td>\n",
       "      <td>4.033903</td>\n",
       "      <td>5179.197020</td>\n",
       "      <td>5181.486364</td>\n",
       "      <td>961.716336</td>\n",
       "      <td>953.889610</td>\n",
       "      <td>0.136865</td>\n",
       "      <td>0.142857</td>\n",
       "    </tr>\n",
       "    <tr>\n",
       "      <th>management</th>\n",
       "      <th>no</th>\n",
       "      <td>42.484909</td>\n",
       "      <td>41.671982</td>\n",
       "      <td>-40.407807</td>\n",
       "      <td>-40.951708</td>\n",
       "      <td>93.525144</td>\n",
       "      <td>93.509232</td>\n",
       "      <td>256.874447</td>\n",
       "      <td>258.097950</td>\n",
       "      <td>-0.023260</td>\n",
       "      <td>0.047153</td>\n",
       "      <td>3.598505</td>\n",
       "      <td>3.683838</td>\n",
       "      <td>5165.610342</td>\n",
       "      <td>5172.538497</td>\n",
       "      <td>961.024145</td>\n",
       "      <td>971.833713</td>\n",
       "      <td>0.185513</td>\n",
       "      <td>0.182232</td>\n",
       "    </tr>\n",
       "    <tr>\n",
       "      <th>retired</th>\n",
       "      <th>no</th>\n",
       "      <td>61.886486</td>\n",
       "      <td>62.895833</td>\n",
       "      <td>-38.549189</td>\n",
       "      <td>-38.720417</td>\n",
       "      <td>93.434916</td>\n",
       "      <td>93.405321</td>\n",
       "      <td>270.761486</td>\n",
       "      <td>291.908333</td>\n",
       "      <td>-0.686486</td>\n",
       "      <td>-0.771250</td>\n",
       "      <td>2.780694</td>\n",
       "      <td>2.704529</td>\n",
       "      <td>5122.398108</td>\n",
       "      <td>5121.423750</td>\n",
       "      <td>903.689189</td>\n",
       "      <td>862.458333</td>\n",
       "      <td>0.320946</td>\n",
       "      <td>0.366667</td>\n",
       "    </tr>\n",
       "    <tr>\n",
       "      <th>self-employed</th>\n",
       "      <th>no</th>\n",
       "      <td>39.962480</td>\n",
       "      <td>39.866667</td>\n",
       "      <td>-40.503426</td>\n",
       "      <td>-40.391795</td>\n",
       "      <td>93.551629</td>\n",
       "      <td>93.612497</td>\n",
       "      <td>259.930669</td>\n",
       "      <td>290.620513</td>\n",
       "      <td>0.083116</td>\n",
       "      <td>0.163590</td>\n",
       "      <td>3.679094</td>\n",
       "      <td>3.754026</td>\n",
       "      <td>5170.409217</td>\n",
       "      <td>5172.341538</td>\n",
       "      <td>978.742251</td>\n",
       "      <td>963.287179</td>\n",
       "      <td>0.143556</td>\n",
       "      <td>0.143590</td>\n",
       "    </tr>\n",
       "    <tr>\n",
       "      <th>services</th>\n",
       "      <th>no</th>\n",
       "      <td>37.913599</td>\n",
       "      <td>37.998336</td>\n",
       "      <td>-41.286045</td>\n",
       "      <td>-41.312479</td>\n",
       "      <td>93.633582</td>\n",
       "      <td>93.640694</td>\n",
       "      <td>257.706651</td>\n",
       "      <td>262.272879</td>\n",
       "      <td>0.169329</td>\n",
       "      <td>0.209151</td>\n",
       "      <td>3.693218</td>\n",
       "      <td>3.732636</td>\n",
       "      <td>5171.358640</td>\n",
       "      <td>5172.953411</td>\n",
       "      <td>980.116093</td>\n",
       "      <td>979.178037</td>\n",
       "      <td>0.154097</td>\n",
       "      <td>0.159734</td>\n",
       "    </tr>\n",
       "    <tr>\n",
       "      <th>student</th>\n",
       "      <th>no</th>\n",
       "      <td>25.863574</td>\n",
       "      <td>26.056338</td>\n",
       "      <td>-40.013506</td>\n",
       "      <td>-41.085915</td>\n",
       "      <td>93.311368</td>\n",
       "      <td>93.436113</td>\n",
       "      <td>281.361528</td>\n",
       "      <td>295.669014</td>\n",
       "      <td>-1.434379</td>\n",
       "      <td>-1.271831</td>\n",
       "      <td>1.875368</td>\n",
       "      <td>1.929937</td>\n",
       "      <td>5085.765757</td>\n",
       "      <td>5086.833803</td>\n",
       "      <td>846.045020</td>\n",
       "      <td>810.133803</td>\n",
       "      <td>0.519782</td>\n",
       "      <td>0.549296</td>\n",
       "    </tr>\n",
       "    <tr>\n",
       "      <th rowspan=\"2\" valign=\"top\">technician</th>\n",
       "      <th>no</th>\n",
       "      <td>38.505389</td>\n",
       "      <td>38.501517</td>\n",
       "      <td>-39.900608</td>\n",
       "      <td>-40.092113</td>\n",
       "      <td>93.564843</td>\n",
       "      <td>93.542100</td>\n",
       "      <td>248.441412</td>\n",
       "      <td>260.952477</td>\n",
       "      <td>0.271193</td>\n",
       "      <td>0.291911</td>\n",
       "      <td>3.816409</td>\n",
       "      <td>3.841304</td>\n",
       "      <td>5175.287291</td>\n",
       "      <td>5177.642467</td>\n",
       "      <td>964.486092</td>\n",
       "      <td>963.884732</td>\n",
       "      <td>0.155772</td>\n",
       "      <td>0.142568</td>\n",
       "    </tr>\n",
       "    <tr>\n",
       "      <th>yes</th>\n",
       "      <td>48.000000</td>\n",
       "      <td>NaN</td>\n",
       "      <td>-36.100000</td>\n",
       "      <td>NaN</td>\n",
       "      <td>93.444000</td>\n",
       "      <td>NaN</td>\n",
       "      <td>99.500000</td>\n",
       "      <td>NaN</td>\n",
       "      <td>1.400000</td>\n",
       "      <td>NaN</td>\n",
       "      <td>4.963000</td>\n",
       "      <td>NaN</td>\n",
       "      <td>5228.100000</td>\n",
       "      <td>NaN</td>\n",
       "      <td>999.000000</td>\n",
       "      <td>NaN</td>\n",
       "      <td>0.000000</td>\n",
       "      <td>NaN</td>\n",
       "    </tr>\n",
       "    <tr>\n",
       "      <th rowspan=\"2\" valign=\"top\">unemployed</th>\n",
       "      <th>no</th>\n",
       "      <td>39.733796</td>\n",
       "      <td>39.791946</td>\n",
       "      <td>-40.110532</td>\n",
       "      <td>-39.397315</td>\n",
       "      <td>93.562263</td>\n",
       "      <td>93.575027</td>\n",
       "      <td>253.225694</td>\n",
       "      <td>228.496644</td>\n",
       "      <td>-0.127546</td>\n",
       "      <td>-0.020134</td>\n",
       "      <td>3.442772</td>\n",
       "      <td>3.600047</td>\n",
       "      <td>5156.580787</td>\n",
       "      <td>5160.235570</td>\n",
       "      <td>932.313657</td>\n",
       "      <td>952.302013</td>\n",
       "      <td>0.201389</td>\n",
       "      <td>0.181208</td>\n",
       "    </tr>\n",
       "    <tr>\n",
       "      <th>yes</th>\n",
       "      <td>31.000000</td>\n",
       "      <td>NaN</td>\n",
       "      <td>-42.000000</td>\n",
       "      <td>NaN</td>\n",
       "      <td>93.200000</td>\n",
       "      <td>NaN</td>\n",
       "      <td>111.000000</td>\n",
       "      <td>NaN</td>\n",
       "      <td>-0.100000</td>\n",
       "      <td>NaN</td>\n",
       "      <td>4.153000</td>\n",
       "      <td>NaN</td>\n",
       "      <td>5195.800000</td>\n",
       "      <td>NaN</td>\n",
       "      <td>999.000000</td>\n",
       "      <td>NaN</td>\n",
       "      <td>1.000000</td>\n",
       "      <td>NaN</td>\n",
       "    </tr>\n",
       "  </tbody>\n",
       "</table>\n",
       "</div>"
      ],
      "text/plain": [
       "                             age            cons.conf.idx             \\\n",
       "loan                          no        yes            no        yes   \n",
       "job           default                                                  \n",
       "admin.        no       38.396772  38.499717    -40.188203 -40.266101   \n",
       "blue-collar   no       39.599391  39.303807    -41.340581 -41.579283   \n",
       "entrepreneur  no       41.674400  42.019417    -41.177520 -41.927670   \n",
       "housemaid     no       45.639073  44.681818    -39.498675 -39.475325   \n",
       "management    no       42.484909  41.671982    -40.407807 -40.951708   \n",
       "retired       no       61.886486  62.895833    -38.549189 -38.720417   \n",
       "self-employed no       39.962480  39.866667    -40.503426 -40.391795   \n",
       "services      no       37.913599  37.998336    -41.286045 -41.312479   \n",
       "student       no       25.863574  26.056338    -40.013506 -41.085915   \n",
       "technician    no       38.505389  38.501517    -39.900608 -40.092113   \n",
       "              yes      48.000000        NaN    -36.100000        NaN   \n",
       "unemployed    no       39.733796  39.791946    -40.110532 -39.397315   \n",
       "              yes      31.000000        NaN    -42.000000        NaN   \n",
       "\n",
       "                      cons.price.idx               duration              \\\n",
       "loan                              no        yes          no         yes   \n",
       "job           default                                                     \n",
       "admin.        no           93.540593  93.535331  254.930106  248.436333   \n",
       "blue-collar   no           93.660500  93.634460  265.344574  259.909956   \n",
       "entrepreneur  no           93.609346  93.581257  266.552000  243.339806   \n",
       "housemaid     no           93.676225  93.678643  250.748344  248.727273   \n",
       "management    no           93.525144  93.509232  256.874447  258.097950   \n",
       "retired       no           93.434916  93.405321  270.761486  291.908333   \n",
       "self-employed no           93.551629  93.612497  259.930669  290.620513   \n",
       "services      no           93.633582  93.640694  257.706651  262.272879   \n",
       "student       no           93.311368  93.436113  281.361528  295.669014   \n",
       "technician    no           93.564843  93.542100  248.441412  260.952477   \n",
       "              yes          93.444000        NaN   99.500000         NaN   \n",
       "unemployed    no           93.562263  93.575027  253.225694  228.496644   \n",
       "              yes          93.200000        NaN  111.000000         NaN   \n",
       "\n",
       "                      emp.var.rate           euribor3m            nr.employed  \\\n",
       "loan                            no       yes        no       yes           no   \n",
       "job           default                                                           \n",
       "admin.        no          0.024797  0.032541  3.564063  3.554628  5164.333478   \n",
       "blue-collar   no          0.255756  0.209956  3.779910  3.726293  5175.818763   \n",
       "entrepreneur  no          0.162960  0.133010  3.800028  3.737063  5176.154800   \n",
       "housemaid     no          0.430574  0.450000  4.005522  4.033903  5179.197020   \n",
       "management    no         -0.023260  0.047153  3.598505  3.683838  5165.610342   \n",
       "retired       no         -0.686486 -0.771250  2.780694  2.704529  5122.398108   \n",
       "self-employed no          0.083116  0.163590  3.679094  3.754026  5170.409217   \n",
       "services      no          0.169329  0.209151  3.693218  3.732636  5171.358640   \n",
       "student       no         -1.434379 -1.271831  1.875368  1.929937  5085.765757   \n",
       "technician    no          0.271193  0.291911  3.816409  3.841304  5175.287291   \n",
       "              yes         1.400000       NaN  4.963000       NaN  5228.100000   \n",
       "unemployed    no         -0.127546 -0.020134  3.442772  3.600047  5156.580787   \n",
       "              yes        -0.100000       NaN  4.153000       NaN  5195.800000   \n",
       "\n",
       "                                         pdays              previous            \n",
       "loan                           yes          no         yes        no       yes  \n",
       "job           default                                                           \n",
       "admin.        no       5164.711715  953.250751  956.840407  0.191430  0.170345  \n",
       "blue-collar   no       5174.439385  984.529158  988.805271  0.122084  0.125183  \n",
       "entrepreneur  no       5177.276699  979.140800  994.169903  0.135200  0.160194  \n",
       "housemaid     no       5181.486364  961.716336  953.889610  0.136865  0.142857  \n",
       "management    no       5172.538497  961.024145  971.833713  0.185513  0.182232  \n",
       "retired       no       5121.423750  903.689189  862.458333  0.320946  0.366667  \n",
       "self-employed no       5172.341538  978.742251  963.287179  0.143556  0.143590  \n",
       "services      no       5172.953411  980.116093  979.178037  0.154097  0.159734  \n",
       "student       no       5086.833803  846.045020  810.133803  0.519782  0.549296  \n",
       "technician    no       5177.642467  964.486092  963.884732  0.155772  0.142568  \n",
       "              yes              NaN  999.000000         NaN  0.000000       NaN  \n",
       "unemployed    no       5160.235570  932.313657  952.302013  0.201389  0.181208  \n",
       "              yes              NaN  999.000000         NaN  1.000000       NaN  "
      ]
     },
     "execution_count": 75,
     "metadata": {},
     "output_type": "execute_result"
    }
   ],
   "source": [
    "df.pivot_table(df, columns=[\"loan\"], index=[\"job\", \"default\"])"
   ]
  },
  {
   "cell_type": "code",
   "execution_count": 76,
   "metadata": {},
   "outputs": [
    {
     "data": {
      "text/html": [
       "<div>\n",
       "<style scoped>\n",
       "    .dataframe tbody tr th:only-of-type {\n",
       "        vertical-align: middle;\n",
       "    }\n",
       "\n",
       "    .dataframe tbody tr th {\n",
       "        vertical-align: top;\n",
       "    }\n",
       "\n",
       "    .dataframe thead tr th {\n",
       "        text-align: left;\n",
       "    }\n",
       "\n",
       "    .dataframe thead tr:last-of-type th {\n",
       "        text-align: right;\n",
       "    }\n",
       "</style>\n",
       "<table border=\"1\" class=\"dataframe\">\n",
       "  <thead>\n",
       "    <tr>\n",
       "      <th></th>\n",
       "      <th></th>\n",
       "      <th colspan=\"2\" halign=\"left\">age</th>\n",
       "      <th colspan=\"2\" halign=\"left\">cons.conf.idx</th>\n",
       "      <th colspan=\"2\" halign=\"left\">cons.price.idx</th>\n",
       "      <th colspan=\"2\" halign=\"left\">duration</th>\n",
       "      <th colspan=\"2\" halign=\"left\">emp.var.rate</th>\n",
       "      <th colspan=\"2\" halign=\"left\">euribor3m</th>\n",
       "      <th colspan=\"2\" halign=\"left\">nr.employed</th>\n",
       "      <th colspan=\"2\" halign=\"left\">pdays</th>\n",
       "      <th colspan=\"2\" halign=\"left\">previous</th>\n",
       "    </tr>\n",
       "    <tr>\n",
       "      <th></th>\n",
       "      <th>loan</th>\n",
       "      <th>no</th>\n",
       "      <th>yes</th>\n",
       "      <th>no</th>\n",
       "      <th>yes</th>\n",
       "      <th>no</th>\n",
       "      <th>yes</th>\n",
       "      <th>no</th>\n",
       "      <th>yes</th>\n",
       "      <th>no</th>\n",
       "      <th>yes</th>\n",
       "      <th>no</th>\n",
       "      <th>yes</th>\n",
       "      <th>no</th>\n",
       "      <th>yes</th>\n",
       "      <th>no</th>\n",
       "      <th>yes</th>\n",
       "      <th>no</th>\n",
       "      <th>yes</th>\n",
       "    </tr>\n",
       "    <tr>\n",
       "      <th>housing</th>\n",
       "      <th>contact</th>\n",
       "      <th></th>\n",
       "      <th></th>\n",
       "      <th></th>\n",
       "      <th></th>\n",
       "      <th></th>\n",
       "      <th></th>\n",
       "      <th></th>\n",
       "      <th></th>\n",
       "      <th></th>\n",
       "      <th></th>\n",
       "      <th></th>\n",
       "      <th></th>\n",
       "      <th></th>\n",
       "      <th></th>\n",
       "      <th></th>\n",
       "      <th></th>\n",
       "      <th></th>\n",
       "      <th></th>\n",
       "    </tr>\n",
       "  </thead>\n",
       "  <tbody>\n",
       "    <tr>\n",
       "      <th rowspan=\"2\" valign=\"top\">no</th>\n",
       "      <th>cellular</th>\n",
       "      <td>40.113801</td>\n",
       "      <td>39.897552</td>\n",
       "      <td>-41.275282</td>\n",
       "      <td>-41.481894</td>\n",
       "      <td>93.321797</td>\n",
       "      <td>93.352820</td>\n",
       "      <td>266.349721</td>\n",
       "      <td>265.806701</td>\n",
       "      <td>-0.361333</td>\n",
       "      <td>-0.281057</td>\n",
       "      <td>3.126006</td>\n",
       "      <td>3.191665</td>\n",
       "      <td>5153.270218</td>\n",
       "      <td>5156.707603</td>\n",
       "      <td>946.431519</td>\n",
       "      <td>943.969716</td>\n",
       "      <td>0.251921</td>\n",
       "      <td>0.257732</td>\n",
       "    </tr>\n",
       "    <tr>\n",
       "      <th>telephone</th>\n",
       "      <td>40.037923</td>\n",
       "      <td>39.653731</td>\n",
       "      <td>-38.895675</td>\n",
       "      <td>-39.128159</td>\n",
       "      <td>94.061487</td>\n",
       "      <td>94.056360</td>\n",
       "      <td>252.836125</td>\n",
       "      <td>250.118408</td>\n",
       "      <td>0.965398</td>\n",
       "      <td>0.953035</td>\n",
       "      <td>4.608052</td>\n",
       "      <td>4.579378</td>\n",
       "      <td>5195.408255</td>\n",
       "      <td>5194.915920</td>\n",
       "      <td>991.591380</td>\n",
       "      <td>991.095522</td>\n",
       "      <td>0.027566</td>\n",
       "      <td>0.026866</td>\n",
       "    </tr>\n",
       "    <tr>\n",
       "      <th rowspan=\"2\" valign=\"top\">yes</th>\n",
       "      <th>cellular</th>\n",
       "      <td>39.888907</td>\n",
       "      <td>39.862096</td>\n",
       "      <td>-41.431294</td>\n",
       "      <td>-41.518254</td>\n",
       "      <td>93.309516</td>\n",
       "      <td>93.303349</td>\n",
       "      <td>261.217339</td>\n",
       "      <td>263.023117</td>\n",
       "      <td>-0.418325</td>\n",
       "      <td>-0.394022</td>\n",
       "      <td>3.061388</td>\n",
       "      <td>3.089694</td>\n",
       "      <td>5150.907359</td>\n",
       "      <td>5152.721204</td>\n",
       "      <td>944.781786</td>\n",
       "      <td>949.119171</td>\n",
       "      <td>0.256675</td>\n",
       "      <td>0.234356</td>\n",
       "    </tr>\n",
       "    <tr>\n",
       "      <th>telephone</th>\n",
       "      <td>40.320617</td>\n",
       "      <td>39.911168</td>\n",
       "      <td>-39.006772</td>\n",
       "      <td>-39.020474</td>\n",
       "      <td>93.992390</td>\n",
       "      <td>93.994585</td>\n",
       "      <td>245.855508</td>\n",
       "      <td>245.687817</td>\n",
       "      <td>0.825163</td>\n",
       "      <td>0.851354</td>\n",
       "      <td>4.461211</td>\n",
       "      <td>4.488635</td>\n",
       "      <td>5189.757304</td>\n",
       "      <td>5191.075381</td>\n",
       "      <td>991.742807</td>\n",
       "      <td>990.589679</td>\n",
       "      <td>0.040534</td>\n",
       "      <td>0.042301</td>\n",
       "    </tr>\n",
       "  </tbody>\n",
       "</table>\n",
       "</div>"
      ],
      "text/plain": [
       "                         age            cons.conf.idx             \\\n",
       "loan                      no        yes            no        yes   \n",
       "housing contact                                                    \n",
       "no      cellular   40.113801  39.897552    -41.275282 -41.481894   \n",
       "        telephone  40.037923  39.653731    -38.895675 -39.128159   \n",
       "yes     cellular   39.888907  39.862096    -41.431294 -41.518254   \n",
       "        telephone  40.320617  39.911168    -39.006772 -39.020474   \n",
       "\n",
       "                  cons.price.idx               duration              \\\n",
       "loan                          no        yes          no         yes   \n",
       "housing contact                                                       \n",
       "no      cellular       93.321797  93.352820  266.349721  265.806701   \n",
       "        telephone      94.061487  94.056360  252.836125  250.118408   \n",
       "yes     cellular       93.309516  93.303349  261.217339  263.023117   \n",
       "        telephone      93.992390  93.994585  245.855508  245.687817   \n",
       "\n",
       "                  emp.var.rate           euribor3m            nr.employed  \\\n",
       "loan                        no       yes        no       yes           no   \n",
       "housing contact                                                             \n",
       "no      cellular     -0.361333 -0.281057  3.126006  3.191665  5153.270218   \n",
       "        telephone     0.965398  0.953035  4.608052  4.579378  5195.408255   \n",
       "yes     cellular     -0.418325 -0.394022  3.061388  3.089694  5150.907359   \n",
       "        telephone     0.825163  0.851354  4.461211  4.488635  5189.757304   \n",
       "\n",
       "                                     pdays              previous            \n",
       "loan                       yes          no         yes        no       yes  \n",
       "housing contact                                                             \n",
       "no      cellular   5156.707603  946.431519  943.969716  0.251921  0.257732  \n",
       "        telephone  5194.915920  991.591380  991.095522  0.027566  0.026866  \n",
       "yes     cellular   5152.721204  944.781786  949.119171  0.256675  0.234356  \n",
       "        telephone  5191.075381  991.742807  990.589679  0.040534  0.042301  "
      ]
     },
     "execution_count": 76,
     "metadata": {},
     "output_type": "execute_result"
    }
   ],
   "source": [
    "df.pivot_table(df, columns=[\"loan\"], index=[\"housing\", \"contact\"])"
   ]
  },
  {
   "cell_type": "code",
   "execution_count": 77,
   "metadata": {},
   "outputs": [
    {
     "data": {
      "text/html": [
       "<div>\n",
       "<style scoped>\n",
       "    .dataframe tbody tr th:only-of-type {\n",
       "        vertical-align: middle;\n",
       "    }\n",
       "\n",
       "    .dataframe tbody tr th {\n",
       "        vertical-align: top;\n",
       "    }\n",
       "\n",
       "    .dataframe thead tr th {\n",
       "        text-align: left;\n",
       "    }\n",
       "\n",
       "    .dataframe thead tr:last-of-type th {\n",
       "        text-align: right;\n",
       "    }\n",
       "</style>\n",
       "<table border=\"1\" class=\"dataframe\">\n",
       "  <thead>\n",
       "    <tr>\n",
       "      <th></th>\n",
       "      <th></th>\n",
       "      <th colspan=\"2\" halign=\"left\">age</th>\n",
       "      <th colspan=\"2\" halign=\"left\">cons.conf.idx</th>\n",
       "      <th colspan=\"2\" halign=\"left\">cons.price.idx</th>\n",
       "      <th colspan=\"2\" halign=\"left\">duration</th>\n",
       "      <th colspan=\"2\" halign=\"left\">emp.var.rate</th>\n",
       "      <th colspan=\"2\" halign=\"left\">euribor3m</th>\n",
       "      <th colspan=\"2\" halign=\"left\">nr.employed</th>\n",
       "      <th colspan=\"2\" halign=\"left\">pdays</th>\n",
       "      <th colspan=\"2\" halign=\"left\">previous</th>\n",
       "    </tr>\n",
       "    <tr>\n",
       "      <th></th>\n",
       "      <th>loan</th>\n",
       "      <th>no</th>\n",
       "      <th>yes</th>\n",
       "      <th>no</th>\n",
       "      <th>yes</th>\n",
       "      <th>no</th>\n",
       "      <th>yes</th>\n",
       "      <th>no</th>\n",
       "      <th>yes</th>\n",
       "      <th>no</th>\n",
       "      <th>yes</th>\n",
       "      <th>no</th>\n",
       "      <th>yes</th>\n",
       "      <th>no</th>\n",
       "      <th>yes</th>\n",
       "      <th>no</th>\n",
       "      <th>yes</th>\n",
       "      <th>no</th>\n",
       "      <th>yes</th>\n",
       "    </tr>\n",
       "    <tr>\n",
       "      <th>marital</th>\n",
       "      <th>month</th>\n",
       "      <th></th>\n",
       "      <th></th>\n",
       "      <th></th>\n",
       "      <th></th>\n",
       "      <th></th>\n",
       "      <th></th>\n",
       "      <th></th>\n",
       "      <th></th>\n",
       "      <th></th>\n",
       "      <th></th>\n",
       "      <th></th>\n",
       "      <th></th>\n",
       "      <th></th>\n",
       "      <th></th>\n",
       "      <th></th>\n",
       "      <th></th>\n",
       "      <th></th>\n",
       "      <th></th>\n",
       "    </tr>\n",
       "  </thead>\n",
       "  <tbody>\n",
       "    <tr>\n",
       "      <th rowspan=\"10\" valign=\"top\">divorced</th>\n",
       "      <th>apr</th>\n",
       "      <td>45.202335</td>\n",
       "      <td>45.888889</td>\n",
       "      <td>-46.175875</td>\n",
       "      <td>-45.711111</td>\n",
       "      <td>93.124829</td>\n",
       "      <td>93.149889</td>\n",
       "      <td>286.968872</td>\n",
       "      <td>333.074074</td>\n",
       "      <td>-1.800000</td>\n",
       "      <td>-1.800000</td>\n",
       "      <td>1.358374</td>\n",
       "      <td>1.329963</td>\n",
       "      <td>5092.416732</td>\n",
       "      <td>5089.055556</td>\n",
       "      <td>964.186770</td>\n",
       "      <td>962.444444</td>\n",
       "      <td>0.334630</td>\n",
       "      <td>0.425926</td>\n",
       "    </tr>\n",
       "    <tr>\n",
       "      <th>aug</th>\n",
       "      <td>43.873706</td>\n",
       "      <td>42.522727</td>\n",
       "      <td>-35.643685</td>\n",
       "      <td>-35.747727</td>\n",
       "      <td>93.323387</td>\n",
       "      <td>93.350875</td>\n",
       "      <td>213.706004</td>\n",
       "      <td>217.386364</td>\n",
       "      <td>0.686128</td>\n",
       "      <td>0.903409</td>\n",
       "      <td>4.219681</td>\n",
       "      <td>4.455455</td>\n",
       "      <td>5195.520290</td>\n",
       "      <td>5206.228409</td>\n",
       "      <td>949.668737</td>\n",
       "      <td>965.056818</td>\n",
       "      <td>0.140787</td>\n",
       "      <td>0.068182</td>\n",
       "    </tr>\n",
       "    <tr>\n",
       "      <th>dec</th>\n",
       "      <td>63.142857</td>\n",
       "      <td>66.400000</td>\n",
       "      <td>-33.921429</td>\n",
       "      <td>-35.580000</td>\n",
       "      <td>92.716071</td>\n",
       "      <td>92.721600</td>\n",
       "      <td>303.000000</td>\n",
       "      <td>262.000000</td>\n",
       "      <td>-2.800000</td>\n",
       "      <td>-2.440000</td>\n",
       "      <td>0.896214</td>\n",
       "      <td>1.305800</td>\n",
       "      <td>5034.414286</td>\n",
       "      <td>5054.060000</td>\n",
       "      <td>786.214286</td>\n",
       "      <td>800.400000</td>\n",
       "      <td>0.357143</td>\n",
       "      <td>0.800000</td>\n",
       "    </tr>\n",
       "    <tr>\n",
       "      <th>jul</th>\n",
       "      <td>44.560000</td>\n",
       "      <td>45.369318</td>\n",
       "      <td>-42.466133</td>\n",
       "      <td>-42.370455</td>\n",
       "      <td>93.898872</td>\n",
       "      <td>93.900256</td>\n",
       "      <td>275.906667</td>\n",
       "      <td>270.073864</td>\n",
       "      <td>1.237067</td>\n",
       "      <td>1.143750</td>\n",
       "      <td>4.778395</td>\n",
       "      <td>4.661733</td>\n",
       "      <td>5218.957867</td>\n",
       "      <td>5212.553977</td>\n",
       "      <td>992.398667</td>\n",
       "      <td>976.397727</td>\n",
       "      <td>0.017333</td>\n",
       "      <td>0.079545</td>\n",
       "    </tr>\n",
       "    <tr>\n",
       "      <th>jun</th>\n",
       "      <td>44.978000</td>\n",
       "      <td>43.557143</td>\n",
       "      <td>-41.646000</td>\n",
       "      <td>-41.557143</td>\n",
       "      <td>94.327076</td>\n",
       "      <td>94.322571</td>\n",
       "      <td>225.480000</td>\n",
       "      <td>232.042857</td>\n",
       "      <td>0.935800</td>\n",
       "      <td>0.827143</td>\n",
       "      <td>4.479470</td>\n",
       "      <td>4.305729</td>\n",
       "      <td>5207.130200</td>\n",
       "      <td>5196.978571</td>\n",
       "      <td>981.136000</td>\n",
       "      <td>970.671429</td>\n",
       "      <td>0.056000</td>\n",
       "      <td>0.071429</td>\n",
       "    </tr>\n",
       "    <tr>\n",
       "      <th>mar</th>\n",
       "      <td>58.320755</td>\n",
       "      <td>60.142857</td>\n",
       "      <td>-41.683019</td>\n",
       "      <td>-45.657143</td>\n",
       "      <td>93.130811</td>\n",
       "      <td>92.993286</td>\n",
       "      <td>252.490566</td>\n",
       "      <td>352.000000</td>\n",
       "      <td>-1.800000</td>\n",
       "      <td>-1.800000</td>\n",
       "      <td>1.094208</td>\n",
       "      <td>1.344571</td>\n",
       "      <td>5049.635849</td>\n",
       "      <td>5073.271429</td>\n",
       "      <td>830.547170</td>\n",
       "      <td>999.000000</td>\n",
       "      <td>0.528302</td>\n",
       "      <td>0.285714</td>\n",
       "    </tr>\n",
       "    <tr>\n",
       "      <th>may</th>\n",
       "      <td>43.533487</td>\n",
       "      <td>43.005291</td>\n",
       "      <td>-40.328868</td>\n",
       "      <td>-40.242328</td>\n",
       "      <td>93.555470</td>\n",
       "      <td>93.566873</td>\n",
       "      <td>256.662048</td>\n",
       "      <td>240.507937</td>\n",
       "      <td>-0.080985</td>\n",
       "      <td>-0.066138</td>\n",
       "      <td>3.398377</td>\n",
       "      <td>3.413111</td>\n",
       "      <td>5152.670285</td>\n",
       "      <td>5152.610582</td>\n",
       "      <td>989.855273</td>\n",
       "      <td>993.793651</td>\n",
       "      <td>0.150115</td>\n",
       "      <td>0.153439</td>\n",
       "    </tr>\n",
       "    <tr>\n",
       "      <th>nov</th>\n",
       "      <td>45.220833</td>\n",
       "      <td>45.342857</td>\n",
       "      <td>-41.289792</td>\n",
       "      <td>-41.401429</td>\n",
       "      <td>93.200935</td>\n",
       "      <td>93.205414</td>\n",
       "      <td>246.408333</td>\n",
       "      <td>276.285714</td>\n",
       "      <td>-0.397292</td>\n",
       "      <td>-0.364286</td>\n",
       "      <td>3.747417</td>\n",
       "      <td>3.784457</td>\n",
       "      <td>5174.540625</td>\n",
       "      <td>5176.430000</td>\n",
       "      <td>949.277083</td>\n",
       "      <td>956.357143</td>\n",
       "      <td>0.335417</td>\n",
       "      <td>0.300000</td>\n",
       "    </tr>\n",
       "    <tr>\n",
       "      <th>oct</th>\n",
       "      <td>60.224138</td>\n",
       "      <td>55.333333</td>\n",
       "      <td>-35.153448</td>\n",
       "      <td>-40.955556</td>\n",
       "      <td>93.232017</td>\n",
       "      <td>93.788444</td>\n",
       "      <td>294.758621</td>\n",
       "      <td>411.333333</td>\n",
       "      <td>-2.327586</td>\n",
       "      <td>-1.755556</td>\n",
       "      <td>1.317534</td>\n",
       "      <td>1.358111</td>\n",
       "      <td>5023.220690</td>\n",
       "      <td>5007.366667</td>\n",
       "      <td>844.758621</td>\n",
       "      <td>556.555556</td>\n",
       "      <td>0.586207</td>\n",
       "      <td>0.888889</td>\n",
       "    </tr>\n",
       "    <tr>\n",
       "      <th>sep</th>\n",
       "      <td>57.488372</td>\n",
       "      <td>50.857143</td>\n",
       "      <td>-34.097674</td>\n",
       "      <td>-34.200000</td>\n",
       "      <td>93.394814</td>\n",
       "      <td>93.419000</td>\n",
       "      <td>284.674419</td>\n",
       "      <td>290.714286</td>\n",
       "      <td>-2.116279</td>\n",
       "      <td>-2.085714</td>\n",
       "      <td>0.830512</td>\n",
       "      <td>0.826286</td>\n",
       "      <td>4987.416279</td>\n",
       "      <td>4986.700000</td>\n",
       "      <td>629.093023</td>\n",
       "      <td>857.142857</td>\n",
       "      <td>1.023256</td>\n",
       "      <td>0.571429</td>\n",
       "    </tr>\n",
       "    <tr>\n",
       "      <th rowspan=\"10\" valign=\"top\">married</th>\n",
       "      <th>apr</th>\n",
       "      <td>44.029664</td>\n",
       "      <td>42.675214</td>\n",
       "      <td>-46.368150</td>\n",
       "      <td>-46.565812</td>\n",
       "      <td>93.114461</td>\n",
       "      <td>93.103803</td>\n",
       "      <td>296.211553</td>\n",
       "      <td>276.141026</td>\n",
       "      <td>-1.800000</td>\n",
       "      <td>-1.800000</td>\n",
       "      <td>1.367101</td>\n",
       "      <td>1.379795</td>\n",
       "      <td>5093.807260</td>\n",
       "      <td>5095.236752</td>\n",
       "      <td>957.871194</td>\n",
       "      <td>956.555556</td>\n",
       "      <td>0.333333</td>\n",
       "      <td>0.337607</td>\n",
       "    </tr>\n",
       "    <tr>\n",
       "      <th>aug</th>\n",
       "      <td>44.832606</td>\n",
       "      <td>44.093697</td>\n",
       "      <td>-35.635429</td>\n",
       "      <td>-35.673595</td>\n",
       "      <td>93.321168</td>\n",
       "      <td>93.331245</td>\n",
       "      <td>231.776128</td>\n",
       "      <td>246.524702</td>\n",
       "      <td>0.833566</td>\n",
       "      <td>0.940204</td>\n",
       "      <td>4.394208</td>\n",
       "      <td>4.511191</td>\n",
       "      <td>5204.578282</td>\n",
       "      <td>5210.126746</td>\n",
       "      <td>968.642213</td>\n",
       "      <td>968.553663</td>\n",
       "      <td>0.091412</td>\n",
       "      <td>0.095400</td>\n",
       "    </tr>\n",
       "    <tr>\n",
       "      <th>dec</th>\n",
       "      <td>52.233333</td>\n",
       "      <td>49.291667</td>\n",
       "      <td>-33.573333</td>\n",
       "      <td>-34.612500</td>\n",
       "      <td>92.714911</td>\n",
       "      <td>92.718375</td>\n",
       "      <td>303.844444</td>\n",
       "      <td>395.500000</td>\n",
       "      <td>-2.875556</td>\n",
       "      <td>-2.650000</td>\n",
       "      <td>0.837544</td>\n",
       "      <td>1.044083</td>\n",
       "      <td>5030.291111</td>\n",
       "      <td>5042.600000</td>\n",
       "      <td>789.411111</td>\n",
       "      <td>668.000000</td>\n",
       "      <td>0.588889</td>\n",
       "      <td>0.750000</td>\n",
       "    </tr>\n",
       "    <tr>\n",
       "      <th>jul</th>\n",
       "      <td>41.540647</td>\n",
       "      <td>42.168210</td>\n",
       "      <td>-42.429163</td>\n",
       "      <td>-42.367130</td>\n",
       "      <td>93.897041</td>\n",
       "      <td>93.899583</td>\n",
       "      <td>274.524025</td>\n",
       "      <td>273.983025</td>\n",
       "      <td>1.207857</td>\n",
       "      <td>1.142593</td>\n",
       "      <td>4.744513</td>\n",
       "      <td>4.660869</td>\n",
       "      <td>5217.167694</td>\n",
       "      <td>5212.539815</td>\n",
       "      <td>987.032940</td>\n",
       "      <td>980.620370</td>\n",
       "      <td>0.035963</td>\n",
       "      <td>0.046296</td>\n",
       "    </tr>\n",
       "    <tr>\n",
       "      <th>jun</th>\n",
       "      <td>41.545045</td>\n",
       "      <td>41.586134</td>\n",
       "      <td>-41.636105</td>\n",
       "      <td>-41.638235</td>\n",
       "      <td>94.299724</td>\n",
       "      <td>94.309223</td>\n",
       "      <td>240.357242</td>\n",
       "      <td>244.142857</td>\n",
       "      <td>0.866771</td>\n",
       "      <td>0.889286</td>\n",
       "      <td>4.427733</td>\n",
       "      <td>4.443176</td>\n",
       "      <td>5205.303153</td>\n",
       "      <td>5205.790126</td>\n",
       "      <td>978.334026</td>\n",
       "      <td>980.180672</td>\n",
       "      <td>0.062717</td>\n",
       "      <td>0.065126</td>\n",
       "    </tr>\n",
       "    <tr>\n",
       "      <th>mar</th>\n",
       "      <td>46.514563</td>\n",
       "      <td>42.612903</td>\n",
       "      <td>-42.400000</td>\n",
       "      <td>-44.116129</td>\n",
       "      <td>93.106000</td>\n",
       "      <td>93.046613</td>\n",
       "      <td>241.330097</td>\n",
       "      <td>192.741935</td>\n",
       "      <td>-1.800000</td>\n",
       "      <td>-1.800000</td>\n",
       "      <td>1.146243</td>\n",
       "      <td>1.261581</td>\n",
       "      <td>5053.900000</td>\n",
       "      <td>5064.106452</td>\n",
       "      <td>835.135922</td>\n",
       "      <td>903.516129</td>\n",
       "      <td>0.480583</td>\n",
       "      <td>0.451613</td>\n",
       "    </tr>\n",
       "    <tr>\n",
       "      <th>may</th>\n",
       "      <td>40.613398</td>\n",
       "      <td>40.577659</td>\n",
       "      <td>-40.080829</td>\n",
       "      <td>-40.443305</td>\n",
       "      <td>93.584704</td>\n",
       "      <td>93.543473</td>\n",
       "      <td>263.795856</td>\n",
       "      <td>254.900536</td>\n",
       "      <td>-0.016340</td>\n",
       "      <td>-0.120352</td>\n",
       "      <td>3.478374</td>\n",
       "      <td>3.351461</td>\n",
       "      <td>5154.287555</td>\n",
       "      <td>5151.151645</td>\n",
       "      <td>980.623895</td>\n",
       "      <td>981.536343</td>\n",
       "      <td>0.149724</td>\n",
       "      <td>0.150727</td>\n",
       "    </tr>\n",
       "    <tr>\n",
       "      <th>nov</th>\n",
       "      <td>42.446561</td>\n",
       "      <td>42.585366</td>\n",
       "      <td>-41.357481</td>\n",
       "      <td>-41.104065</td>\n",
       "      <td>93.205812</td>\n",
       "      <td>93.167943</td>\n",
       "      <td>240.397770</td>\n",
       "      <td>249.991870</td>\n",
       "      <td>-0.383690</td>\n",
       "      <td>-0.376423</td>\n",
       "      <td>3.765648</td>\n",
       "      <td>3.812997</td>\n",
       "      <td>5175.007853</td>\n",
       "      <td>5179.416260</td>\n",
       "      <td>959.735595</td>\n",
       "      <td>969.336043</td>\n",
       "      <td>0.275093</td>\n",
       "      <td>0.268293</td>\n",
       "    </tr>\n",
       "    <tr>\n",
       "      <th>oct</th>\n",
       "      <td>49.340058</td>\n",
       "      <td>49.054545</td>\n",
       "      <td>-33.315562</td>\n",
       "      <td>-34.867273</td>\n",
       "      <td>93.054349</td>\n",
       "      <td>93.201145</td>\n",
       "      <td>281.824207</td>\n",
       "      <td>301.890909</td>\n",
       "      <td>-2.547262</td>\n",
       "      <td>-2.449091</td>\n",
       "      <td>1.226968</td>\n",
       "      <td>1.123273</td>\n",
       "      <td>5024.037464</td>\n",
       "      <td>5013.807273</td>\n",
       "      <td>758.677233</td>\n",
       "      <td>728.290909</td>\n",
       "      <td>0.674352</td>\n",
       "      <td>0.600000</td>\n",
       "    </tr>\n",
       "    <tr>\n",
       "      <th>sep</th>\n",
       "      <td>49.732852</td>\n",
       "      <td>47.962963</td>\n",
       "      <td>-33.358123</td>\n",
       "      <td>-32.794444</td>\n",
       "      <td>93.220011</td>\n",
       "      <td>93.086778</td>\n",
       "      <td>311.981949</td>\n",
       "      <td>291.407407</td>\n",
       "      <td>-2.337184</td>\n",
       "      <td>-2.505556</td>\n",
       "      <td>0.827935</td>\n",
       "      <td>0.826000</td>\n",
       "      <td>4992.593141</td>\n",
       "      <td>4996.538889</td>\n",
       "      <td>758.743682</td>\n",
       "      <td>778.074074</td>\n",
       "      <td>0.740072</td>\n",
       "      <td>0.666667</td>\n",
       "    </tr>\n",
       "    <tr>\n",
       "      <th rowspan=\"10\" valign=\"top\">single</th>\n",
       "      <th>apr</th>\n",
       "      <td>32.757971</td>\n",
       "      <td>32.387931</td>\n",
       "      <td>-46.212319</td>\n",
       "      <td>-45.483621</td>\n",
       "      <td>93.122864</td>\n",
       "      <td>93.162155</td>\n",
       "      <td>287.465217</td>\n",
       "      <td>323.724138</td>\n",
       "      <td>-1.800000</td>\n",
       "      <td>-1.800000</td>\n",
       "      <td>1.355190</td>\n",
       "      <td>1.312129</td>\n",
       "      <td>5092.680290</td>\n",
       "      <td>5087.410345</td>\n",
       "      <td>955.802899</td>\n",
       "      <td>904.887931</td>\n",
       "      <td>0.282609</td>\n",
       "      <td>0.353448</td>\n",
       "    </tr>\n",
       "    <tr>\n",
       "      <th>aug</th>\n",
       "      <td>33.067568</td>\n",
       "      <td>33.264822</td>\n",
       "      <td>-35.438964</td>\n",
       "      <td>-35.592490</td>\n",
       "      <td>93.269255</td>\n",
       "      <td>93.309826</td>\n",
       "      <td>236.018018</td>\n",
       "      <td>230.711462</td>\n",
       "      <td>0.453604</td>\n",
       "      <td>0.733597</td>\n",
       "      <td>3.988425</td>\n",
       "      <td>4.285802</td>\n",
       "      <td>5186.182883</td>\n",
       "      <td>5199.539526</td>\n",
       "      <td>942.343844</td>\n",
       "      <td>959.675889</td>\n",
       "      <td>0.180931</td>\n",
       "      <td>0.110672</td>\n",
       "    </tr>\n",
       "    <tr>\n",
       "      <th>dec</th>\n",
       "      <td>29.909091</td>\n",
       "      <td>38.800000</td>\n",
       "      <td>-33.293182</td>\n",
       "      <td>-33.000000</td>\n",
       "      <td>92.713977</td>\n",
       "      <td>92.713000</td>\n",
       "      <td>431.795455</td>\n",
       "      <td>302.400000</td>\n",
       "      <td>-2.936364</td>\n",
       "      <td>-3.000000</td>\n",
       "      <td>0.782182</td>\n",
       "      <td>0.711800</td>\n",
       "      <td>5026.972727</td>\n",
       "      <td>5023.500000</td>\n",
       "      <td>683.113636</td>\n",
       "      <td>800.400000</td>\n",
       "      <td>0.659091</td>\n",
       "      <td>0.600000</td>\n",
       "    </tr>\n",
       "    <tr>\n",
       "      <th>jul</th>\n",
       "      <td>32.186887</td>\n",
       "      <td>32.505650</td>\n",
       "      <td>-42.241249</td>\n",
       "      <td>-42.326271</td>\n",
       "      <td>93.887027</td>\n",
       "      <td>93.898780</td>\n",
       "      <td>270.620547</td>\n",
       "      <td>273.906780</td>\n",
       "      <td>1.061435</td>\n",
       "      <td>1.106780</td>\n",
       "      <td>4.572487</td>\n",
       "      <td>4.615952</td>\n",
       "      <td>5208.272741</td>\n",
       "      <td>5210.208475</td>\n",
       "      <td>973.418172</td>\n",
       "      <td>979.392655</td>\n",
       "      <td>0.071244</td>\n",
       "      <td>0.067797</td>\n",
       "    </tr>\n",
       "    <tr>\n",
       "      <th>jun</th>\n",
       "      <td>33.507246</td>\n",
       "      <td>32.582160</td>\n",
       "      <td>-41.421483</td>\n",
       "      <td>-41.400939</td>\n",
       "      <td>94.077805</td>\n",
       "      <td>94.072643</td>\n",
       "      <td>255.167945</td>\n",
       "      <td>243.018779</td>\n",
       "      <td>0.156863</td>\n",
       "      <td>0.123005</td>\n",
       "      <td>3.761575</td>\n",
       "      <td>3.715413</td>\n",
       "      <td>5175.308014</td>\n",
       "      <td>5172.853991</td>\n",
       "      <td>949.028133</td>\n",
       "      <td>928.990610</td>\n",
       "      <td>0.132140</td>\n",
       "      <td>0.197183</td>\n",
       "    </tr>\n",
       "    <tr>\n",
       "      <th>mar</th>\n",
       "      <td>31.246445</td>\n",
       "      <td>33.078947</td>\n",
       "      <td>-42.508057</td>\n",
       "      <td>-44.400000</td>\n",
       "      <td>93.102261</td>\n",
       "      <td>93.036789</td>\n",
       "      <td>245.255924</td>\n",
       "      <td>289.552632</td>\n",
       "      <td>-1.800000</td>\n",
       "      <td>-1.800000</td>\n",
       "      <td>1.153389</td>\n",
       "      <td>1.285632</td>\n",
       "      <td>5054.542654</td>\n",
       "      <td>5065.794737</td>\n",
       "      <td>829.767773</td>\n",
       "      <td>789.947368</td>\n",
       "      <td>0.488152</td>\n",
       "      <td>0.473684</td>\n",
       "    </tr>\n",
       "    <tr>\n",
       "      <th>may</th>\n",
       "      <td>33.636508</td>\n",
       "      <td>33.747899</td>\n",
       "      <td>-41.650526</td>\n",
       "      <td>-41.945210</td>\n",
       "      <td>93.409777</td>\n",
       "      <td>93.375827</td>\n",
       "      <td>260.707232</td>\n",
       "      <td>263.265546</td>\n",
       "      <td>-0.489965</td>\n",
       "      <td>-0.571765</td>\n",
       "      <td>2.888388</td>\n",
       "      <td>2.790703</td>\n",
       "      <td>5138.829022</td>\n",
       "      <td>5136.503025</td>\n",
       "      <td>978.123606</td>\n",
       "      <td>978.963025</td>\n",
       "      <td>0.203249</td>\n",
       "      <td>0.198319</td>\n",
       "    </tr>\n",
       "    <tr>\n",
       "      <th>nov</th>\n",
       "      <td>35.048667</td>\n",
       "      <td>34.814371</td>\n",
       "      <td>-40.988181</td>\n",
       "      <td>-41.086228</td>\n",
       "      <td>93.201520</td>\n",
       "      <td>93.206293</td>\n",
       "      <td>259.867903</td>\n",
       "      <td>220.293413</td>\n",
       "      <td>-0.524102</td>\n",
       "      <td>-0.497605</td>\n",
       "      <td>3.583548</td>\n",
       "      <td>3.602287</td>\n",
       "      <td>5165.453302</td>\n",
       "      <td>5166.849102</td>\n",
       "      <td>935.697567</td>\n",
       "      <td>927.592814</td>\n",
       "      <td>0.327926</td>\n",
       "      <td>0.287425</td>\n",
       "    </tr>\n",
       "    <tr>\n",
       "      <th>oct</th>\n",
       "      <td>32.291480</td>\n",
       "      <td>27.076923</td>\n",
       "      <td>-36.097309</td>\n",
       "      <td>-34.373077</td>\n",
       "      <td>93.319816</td>\n",
       "      <td>93.151269</td>\n",
       "      <td>291.910314</td>\n",
       "      <td>259.884615</td>\n",
       "      <td>-2.308520</td>\n",
       "      <td>-2.565385</td>\n",
       "      <td>1.166516</td>\n",
       "      <td>0.976038</td>\n",
       "      <td>5012.555605</td>\n",
       "      <td>5007.773077</td>\n",
       "      <td>816.591928</td>\n",
       "      <td>845.730769</td>\n",
       "      <td>0.609865</td>\n",
       "      <td>0.769231</td>\n",
       "    </tr>\n",
       "    <tr>\n",
       "      <th>sep</th>\n",
       "      <td>30.178571</td>\n",
       "      <td>28.571429</td>\n",
       "      <td>-34.933333</td>\n",
       "      <td>-34.933333</td>\n",
       "      <td>93.592333</td>\n",
       "      <td>93.592333</td>\n",
       "      <td>284.952381</td>\n",
       "      <td>256.619048</td>\n",
       "      <td>-1.866667</td>\n",
       "      <td>-1.866667</td>\n",
       "      <td>0.848548</td>\n",
       "      <td>0.848524</td>\n",
       "      <td>4981.566667</td>\n",
       "      <td>4981.566667</td>\n",
       "      <td>662.250000</td>\n",
       "      <td>621.380952</td>\n",
       "      <td>1.017857</td>\n",
       "      <td>0.666667</td>\n",
       "    </tr>\n",
       "  </tbody>\n",
       "</table>\n",
       "</div>"
      ],
      "text/plain": [
       "                      age            cons.conf.idx            cons.price.idx  \\\n",
       "loan                   no        yes            no        yes             no   \n",
       "marital  month                                                                 \n",
       "divorced apr    45.202335  45.888889    -46.175875 -45.711111      93.124829   \n",
       "         aug    43.873706  42.522727    -35.643685 -35.747727      93.323387   \n",
       "         dec    63.142857  66.400000    -33.921429 -35.580000      92.716071   \n",
       "         jul    44.560000  45.369318    -42.466133 -42.370455      93.898872   \n",
       "         jun    44.978000  43.557143    -41.646000 -41.557143      94.327076   \n",
       "         mar    58.320755  60.142857    -41.683019 -45.657143      93.130811   \n",
       "         may    43.533487  43.005291    -40.328868 -40.242328      93.555470   \n",
       "         nov    45.220833  45.342857    -41.289792 -41.401429      93.200935   \n",
       "         oct    60.224138  55.333333    -35.153448 -40.955556      93.232017   \n",
       "         sep    57.488372  50.857143    -34.097674 -34.200000      93.394814   \n",
       "married  apr    44.029664  42.675214    -46.368150 -46.565812      93.114461   \n",
       "         aug    44.832606  44.093697    -35.635429 -35.673595      93.321168   \n",
       "         dec    52.233333  49.291667    -33.573333 -34.612500      92.714911   \n",
       "         jul    41.540647  42.168210    -42.429163 -42.367130      93.897041   \n",
       "         jun    41.545045  41.586134    -41.636105 -41.638235      94.299724   \n",
       "         mar    46.514563  42.612903    -42.400000 -44.116129      93.106000   \n",
       "         may    40.613398  40.577659    -40.080829 -40.443305      93.584704   \n",
       "         nov    42.446561  42.585366    -41.357481 -41.104065      93.205812   \n",
       "         oct    49.340058  49.054545    -33.315562 -34.867273      93.054349   \n",
       "         sep    49.732852  47.962963    -33.358123 -32.794444      93.220011   \n",
       "single   apr    32.757971  32.387931    -46.212319 -45.483621      93.122864   \n",
       "         aug    33.067568  33.264822    -35.438964 -35.592490      93.269255   \n",
       "         dec    29.909091  38.800000    -33.293182 -33.000000      92.713977   \n",
       "         jul    32.186887  32.505650    -42.241249 -42.326271      93.887027   \n",
       "         jun    33.507246  32.582160    -41.421483 -41.400939      94.077805   \n",
       "         mar    31.246445  33.078947    -42.508057 -44.400000      93.102261   \n",
       "         may    33.636508  33.747899    -41.650526 -41.945210      93.409777   \n",
       "         nov    35.048667  34.814371    -40.988181 -41.086228      93.201520   \n",
       "         oct    32.291480  27.076923    -36.097309 -34.373077      93.319816   \n",
       "         sep    30.178571  28.571429    -34.933333 -34.933333      93.592333   \n",
       "\n",
       "                             duration             emp.var.rate            \\\n",
       "loan                  yes          no         yes           no       yes   \n",
       "marital  month                                                             \n",
       "divorced apr    93.149889  286.968872  333.074074    -1.800000 -1.800000   \n",
       "         aug    93.350875  213.706004  217.386364     0.686128  0.903409   \n",
       "         dec    92.721600  303.000000  262.000000    -2.800000 -2.440000   \n",
       "         jul    93.900256  275.906667  270.073864     1.237067  1.143750   \n",
       "         jun    94.322571  225.480000  232.042857     0.935800  0.827143   \n",
       "         mar    92.993286  252.490566  352.000000    -1.800000 -1.800000   \n",
       "         may    93.566873  256.662048  240.507937    -0.080985 -0.066138   \n",
       "         nov    93.205414  246.408333  276.285714    -0.397292 -0.364286   \n",
       "         oct    93.788444  294.758621  411.333333    -2.327586 -1.755556   \n",
       "         sep    93.419000  284.674419  290.714286    -2.116279 -2.085714   \n",
       "married  apr    93.103803  296.211553  276.141026    -1.800000 -1.800000   \n",
       "         aug    93.331245  231.776128  246.524702     0.833566  0.940204   \n",
       "         dec    92.718375  303.844444  395.500000    -2.875556 -2.650000   \n",
       "         jul    93.899583  274.524025  273.983025     1.207857  1.142593   \n",
       "         jun    94.309223  240.357242  244.142857     0.866771  0.889286   \n",
       "         mar    93.046613  241.330097  192.741935    -1.800000 -1.800000   \n",
       "         may    93.543473  263.795856  254.900536    -0.016340 -0.120352   \n",
       "         nov    93.167943  240.397770  249.991870    -0.383690 -0.376423   \n",
       "         oct    93.201145  281.824207  301.890909    -2.547262 -2.449091   \n",
       "         sep    93.086778  311.981949  291.407407    -2.337184 -2.505556   \n",
       "single   apr    93.162155  287.465217  323.724138    -1.800000 -1.800000   \n",
       "         aug    93.309826  236.018018  230.711462     0.453604  0.733597   \n",
       "         dec    92.713000  431.795455  302.400000    -2.936364 -3.000000   \n",
       "         jul    93.898780  270.620547  273.906780     1.061435  1.106780   \n",
       "         jun    94.072643  255.167945  243.018779     0.156863  0.123005   \n",
       "         mar    93.036789  245.255924  289.552632    -1.800000 -1.800000   \n",
       "         may    93.375827  260.707232  263.265546    -0.489965 -0.571765   \n",
       "         nov    93.206293  259.867903  220.293413    -0.524102 -0.497605   \n",
       "         oct    93.151269  291.910314  259.884615    -2.308520 -2.565385   \n",
       "         sep    93.592333  284.952381  256.619048    -1.866667 -1.866667   \n",
       "\n",
       "               euribor3m            nr.employed                    pdays  \\\n",
       "loan                  no       yes           no          yes          no   \n",
       "marital  month                                                             \n",
       "divorced apr    1.358374  1.329963  5092.416732  5089.055556  964.186770   \n",
       "         aug    4.219681  4.455455  5195.520290  5206.228409  949.668737   \n",
       "         dec    0.896214  1.305800  5034.414286  5054.060000  786.214286   \n",
       "         jul    4.778395  4.661733  5218.957867  5212.553977  992.398667   \n",
       "         jun    4.479470  4.305729  5207.130200  5196.978571  981.136000   \n",
       "         mar    1.094208  1.344571  5049.635849  5073.271429  830.547170   \n",
       "         may    3.398377  3.413111  5152.670285  5152.610582  989.855273   \n",
       "         nov    3.747417  3.784457  5174.540625  5176.430000  949.277083   \n",
       "         oct    1.317534  1.358111  5023.220690  5007.366667  844.758621   \n",
       "         sep    0.830512  0.826286  4987.416279  4986.700000  629.093023   \n",
       "married  apr    1.367101  1.379795  5093.807260  5095.236752  957.871194   \n",
       "         aug    4.394208  4.511191  5204.578282  5210.126746  968.642213   \n",
       "         dec    0.837544  1.044083  5030.291111  5042.600000  789.411111   \n",
       "         jul    4.744513  4.660869  5217.167694  5212.539815  987.032940   \n",
       "         jun    4.427733  4.443176  5205.303153  5205.790126  978.334026   \n",
       "         mar    1.146243  1.261581  5053.900000  5064.106452  835.135922   \n",
       "         may    3.478374  3.351461  5154.287555  5151.151645  980.623895   \n",
       "         nov    3.765648  3.812997  5175.007853  5179.416260  959.735595   \n",
       "         oct    1.226968  1.123273  5024.037464  5013.807273  758.677233   \n",
       "         sep    0.827935  0.826000  4992.593141  4996.538889  758.743682   \n",
       "single   apr    1.355190  1.312129  5092.680290  5087.410345  955.802899   \n",
       "         aug    3.988425  4.285802  5186.182883  5199.539526  942.343844   \n",
       "         dec    0.782182  0.711800  5026.972727  5023.500000  683.113636   \n",
       "         jul    4.572487  4.615952  5208.272741  5210.208475  973.418172   \n",
       "         jun    3.761575  3.715413  5175.308014  5172.853991  949.028133   \n",
       "         mar    1.153389  1.285632  5054.542654  5065.794737  829.767773   \n",
       "         may    2.888388  2.790703  5138.829022  5136.503025  978.123606   \n",
       "         nov    3.583548  3.602287  5165.453302  5166.849102  935.697567   \n",
       "         oct    1.166516  0.976038  5012.555605  5007.773077  816.591928   \n",
       "         sep    0.848548  0.848524  4981.566667  4981.566667  662.250000   \n",
       "\n",
       "                            previous            \n",
       "loan                   yes        no       yes  \n",
       "marital  month                                  \n",
       "divorced apr    962.444444  0.334630  0.425926  \n",
       "         aug    965.056818  0.140787  0.068182  \n",
       "         dec    800.400000  0.357143  0.800000  \n",
       "         jul    976.397727  0.017333  0.079545  \n",
       "         jun    970.671429  0.056000  0.071429  \n",
       "         mar    999.000000  0.528302  0.285714  \n",
       "         may    993.793651  0.150115  0.153439  \n",
       "         nov    956.357143  0.335417  0.300000  \n",
       "         oct    556.555556  0.586207  0.888889  \n",
       "         sep    857.142857  1.023256  0.571429  \n",
       "married  apr    956.555556  0.333333  0.337607  \n",
       "         aug    968.553663  0.091412  0.095400  \n",
       "         dec    668.000000  0.588889  0.750000  \n",
       "         jul    980.620370  0.035963  0.046296  \n",
       "         jun    980.180672  0.062717  0.065126  \n",
       "         mar    903.516129  0.480583  0.451613  \n",
       "         may    981.536343  0.149724  0.150727  \n",
       "         nov    969.336043  0.275093  0.268293  \n",
       "         oct    728.290909  0.674352  0.600000  \n",
       "         sep    778.074074  0.740072  0.666667  \n",
       "single   apr    904.887931  0.282609  0.353448  \n",
       "         aug    959.675889  0.180931  0.110672  \n",
       "         dec    800.400000  0.659091  0.600000  \n",
       "         jul    979.392655  0.071244  0.067797  \n",
       "         jun    928.990610  0.132140  0.197183  \n",
       "         mar    789.947368  0.488152  0.473684  \n",
       "         may    978.963025  0.203249  0.198319  \n",
       "         nov    927.592814  0.327926  0.287425  \n",
       "         oct    845.730769  0.609865  0.769231  \n",
       "         sep    621.380952  1.017857  0.666667  "
      ]
     },
     "execution_count": 77,
     "metadata": {},
     "output_type": "execute_result"
    }
   ],
   "source": [
    "df.pivot_table(df, columns=[\"loan\"], index=[\"marital\", \"month\"])"
   ]
  },
  {
   "cell_type": "code",
   "execution_count": 78,
   "metadata": {
    "collapsed": true
   },
   "outputs": [],
   "source": [
    "import matplotlib.ticker as mtick"
   ]
  },
  {
   "cell_type": "code",
   "execution_count": 79,
   "metadata": {},
   "outputs": [
    {
     "data": {
      "image/png": "[encoded data removed]",
      "text/plain": [
       "<Figure size 1224x648 with 9 Axes>"
      ]
     },
     "metadata": {},
     "output_type": "display_data"
    }
   ],
   "source": [
    "cat_columns=[\"job\",\"marital\",\"education\",\"default\",\"housing\",\"loan\",\"contact\",\"month\",\"day_of_week\",\"poutcome\"]\n",
    "fig,axes=plt.subplots(nrows=3,ncols=3,figsize=(17,9))\n",
    "fig.tight_layout()\n",
    "for i, item in enumerate(cat_columns):\n",
    "    if i < 3:\n",
    "        ax =(df[item].value_counts()*100/len(df)).plot(kind = 'bar',ax=axes[i,0],rot = 0)\n",
    "        ax.set_ylabel('% Customers')\n",
    "        ax.yaxis.set_major_formatter(mtick.PercentFormatter())\n",
    "        \n",
    "        totals = []\n",
    "        for i in ax.patches:\n",
    "            totals.append(i.get_width())\n",
    "        total = sum(totals)\n",
    "        \n",
    "        for i in ax.patches:\n",
    "            ax.text(i.get_x()+.05, i.get_height()-6, \\\n",
    "            str(round((i.get_height()/total), 1))+'%',\n",
    "            fontsize=12,\n",
    "            color='black')\n",
    "        \n",
    "    elif i >=3 and i < 6:\n",
    "        ax =(df[item].value_counts()*100/len(df)).plot(kind = 'bar',ax=axes[i-3,1],rot = 0)\n",
    "        ax.set_ylabel('% Customers')\n",
    "        ax.yaxis.set_major_formatter(mtick.PercentFormatter())\n",
    "        \n",
    "        totals = []\n",
    "        for i in ax.patches:\n",
    "            totals.append(i.get_width())\n",
    "        total = sum(totals)\n",
    "        \n",
    "        for i in ax.patches:\n",
    "            ax.text(i.get_x()+.05, i.get_height()-6, \\\n",
    "            str(round((i.get_height()/total), 1))+'%',\n",
    "            fontsize=12,\n",
    "            color='black')\n",
    "        \n",
    "    elif i < 9:\n",
    "        ax =(df[item].value_counts()*100/len(df)).plot(kind = 'bar',ax=axes[i-6,2],rot = 0)\n",
    "        ax.set_ylabel('% Customers')\n",
    "        ax.yaxis.set_major_formatter(mtick.PercentFormatter())\n",
    "        \n",
    "        totals = []\n",
    "        for i in ax.patches:\n",
    "            totals.append(i.get_width())\n",
    "        total = sum(totals)\n",
    "        \n",
    "        for i in ax.patches:\n",
    "            ax.text(i.get_x()+.05, i.get_height()-6, \\\n",
    "            str(round((i.get_height()/total), 1))+'%',\n",
    "            fontsize=12,\n",
    "            color='black')\n",
    "        \n",
    "    ax.set_title(item)"
   ]
  },
  {
   "cell_type": "code",
   "execution_count": 80,
   "metadata": {
    "collapsed": true
   },
   "outputs": [],
   "source": [
    "# df[\"Loan\"]=df[\"loan\"].map({\"yes\":1, \"no\":2})"
   ]
  },
  {
   "cell_type": "code",
   "execution_count": 81,
   "metadata": {
    "collapsed": true
   },
   "outputs": [],
   "source": [
    "# df.drop(\"loan\", axis=1, inplace=True)"
   ]
  },
  {
   "cell_type": "code",
   "execution_count": 82,
   "metadata": {},
   "outputs": [
    {
     "data": {
      "text/plain": [
       "Index(['age', 'job', 'marital', 'education', 'default', 'housing', 'loan',\n",
       "       'contact', 'month', 'day_of_week', 'duration', 'campaign', 'pdays',\n",
       "       'previous', 'poutcome', 'emp.var.rate', 'cons.price.idx',\n",
       "       'cons.conf.idx', 'euribor3m', 'nr.employed', 'y'],\n",
       "      dtype='object')"
      ]
     },
     "execution_count": 82,
     "metadata": {},
     "output_type": "execute_result"
    }
   ],
   "source": [
    "df.columns"
   ]
  },
  {
   "cell_type": "code",
   "execution_count": 83,
   "metadata": {
    "collapsed": true
   },
   "outputs": [],
   "source": [
    "df.drop([\"euribor3m\", \"nr.employed\", \"cons.price.idx\"], axis=1, inplace=True)"
   ]
  },
  {
   "cell_type": "code",
   "execution_count": 84,
   "metadata": {
    "collapsed": true
   },
   "outputs": [],
   "source": [
    "df.drop(\"cons.conf.idx\", axis=1, inplace=True)"
   ]
  },
  {
   "cell_type": "code",
   "execution_count": 159,
   "metadata": {},
   "outputs": [
    {
     "data": {
      "text/html": [
       "<div>\n",
       "<style scoped>\n",
       "    .dataframe tbody tr th:only-of-type {\n",
       "        vertical-align: middle;\n",
       "    }\n",
       "\n",
       "    .dataframe tbody tr th {\n",
       "        vertical-align: top;\n",
       "    }\n",
       "\n",
       "    .dataframe thead th {\n",
       "        text-align: right;\n",
       "    }\n",
       "</style>\n",
       "<table border=\"1\" class=\"dataframe\">\n",
       "  <thead>\n",
       "    <tr style=\"text-align: right;\">\n",
       "      <th></th>\n",
       "      <th>age</th>\n",
       "      <th>job</th>\n",
       "      <th>marital</th>\n",
       "      <th>education</th>\n",
       "      <th>default</th>\n",
       "      <th>housing</th>\n",
       "      <th>loan</th>\n",
       "      <th>contact</th>\n",
       "      <th>month</th>\n",
       "      <th>day_of_week</th>\n",
       "      <th>duration</th>\n",
       "      <th>campaign</th>\n",
       "      <th>pdays</th>\n",
       "      <th>previous</th>\n",
       "      <th>poutcome</th>\n",
       "      <th>emp.var.rate</th>\n",
       "      <th>y</th>\n",
       "    </tr>\n",
       "  </thead>\n",
       "  <tbody>\n",
       "    <tr>\n",
       "      <th>0</th>\n",
       "      <td>56</td>\n",
       "      <td>1</td>\n",
       "      <td>1</td>\n",
       "      <td>1</td>\n",
       "      <td>0</td>\n",
       "      <td>0</td>\n",
       "      <td>0</td>\n",
       "      <td>1</td>\n",
       "      <td>5</td>\n",
       "      <td>1</td>\n",
       "      <td>261</td>\n",
       "      <td>1</td>\n",
       "      <td>999</td>\n",
       "      <td>0</td>\n",
       "      <td>1</td>\n",
       "      <td>1.1</td>\n",
       "      <td>0</td>\n",
       "    </tr>\n",
       "    <tr>\n",
       "      <th>1</th>\n",
       "      <td>57</td>\n",
       "      <td>2</td>\n",
       "      <td>1</td>\n",
       "      <td>2</td>\n",
       "      <td>0</td>\n",
       "      <td>0</td>\n",
       "      <td>0</td>\n",
       "      <td>1</td>\n",
       "      <td>5</td>\n",
       "      <td>1</td>\n",
       "      <td>149</td>\n",
       "      <td>1</td>\n",
       "      <td>999</td>\n",
       "      <td>0</td>\n",
       "      <td>1</td>\n",
       "      <td>1.1</td>\n",
       "      <td>0</td>\n",
       "    </tr>\n",
       "    <tr>\n",
       "      <th>2</th>\n",
       "      <td>37</td>\n",
       "      <td>2</td>\n",
       "      <td>1</td>\n",
       "      <td>2</td>\n",
       "      <td>0</td>\n",
       "      <td>1</td>\n",
       "      <td>0</td>\n",
       "      <td>1</td>\n",
       "      <td>5</td>\n",
       "      <td>1</td>\n",
       "      <td>226</td>\n",
       "      <td>1</td>\n",
       "      <td>999</td>\n",
       "      <td>0</td>\n",
       "      <td>1</td>\n",
       "      <td>1.1</td>\n",
       "      <td>0</td>\n",
       "    </tr>\n",
       "    <tr>\n",
       "      <th>3</th>\n",
       "      <td>40</td>\n",
       "      <td>3</td>\n",
       "      <td>1</td>\n",
       "      <td>3</td>\n",
       "      <td>0</td>\n",
       "      <td>0</td>\n",
       "      <td>0</td>\n",
       "      <td>1</td>\n",
       "      <td>5</td>\n",
       "      <td>1</td>\n",
       "      <td>151</td>\n",
       "      <td>1</td>\n",
       "      <td>999</td>\n",
       "      <td>0</td>\n",
       "      <td>1</td>\n",
       "      <td>1.1</td>\n",
       "      <td>0</td>\n",
       "    </tr>\n",
       "    <tr>\n",
       "      <th>4</th>\n",
       "      <td>56</td>\n",
       "      <td>2</td>\n",
       "      <td>1</td>\n",
       "      <td>2</td>\n",
       "      <td>0</td>\n",
       "      <td>0</td>\n",
       "      <td>1</td>\n",
       "      <td>1</td>\n",
       "      <td>5</td>\n",
       "      <td>1</td>\n",
       "      <td>307</td>\n",
       "      <td>1</td>\n",
       "      <td>999</td>\n",
       "      <td>0</td>\n",
       "      <td>1</td>\n",
       "      <td>1.1</td>\n",
       "      <td>0</td>\n",
       "    </tr>\n",
       "  </tbody>\n",
       "</table>\n",
       "</div>"
      ],
      "text/plain": [
       "   age  job  marital  education  default  housing  loan  contact  month  \\\n",
       "0   56    1        1          1        0        0     0        1      5   \n",
       "1   57    2        1          2        0        0     0        1      5   \n",
       "2   37    2        1          2        0        1     0        1      5   \n",
       "3   40    3        1          3        0        0     0        1      5   \n",
       "4   56    2        1          2        0        0     1        1      5   \n",
       "\n",
       "   day_of_week  duration campaign  pdays  previous  poutcome  emp.var.rate  y  \n",
       "0            1       261        1    999         0         1           1.1  0  \n",
       "1            1       149        1    999         0         1           1.1  0  \n",
       "2            1       226        1    999         0         1           1.1  0  \n",
       "3            1       151        1    999         0         1           1.1  0  \n",
       "4            1       307        1    999         0         1           1.1  0  "
      ]
     },
     "execution_count": 159,
     "metadata": {},
     "output_type": "execute_result"
    }
   ],
   "source": [
    "df.head()"
   ]
  },
  {
   "cell_type": "code",
   "execution_count": 86,
   "metadata": {},
   "outputs": [
    {
     "data": {
      "text/plain": [
       "array(['housemaid', 'services', 'admin.', 'blue-collar', 'technician',\n",
       "       'retired', 'management', 'unemployed', 'self-employed',\n",
       "       'entrepreneur', 'student'], dtype=object)"
      ]
     },
     "execution_count": 86,
     "metadata": {},
     "output_type": "execute_result"
    }
   ],
   "source": [
    "df[\"job\"].unique()"
   ]
  },
  {
   "cell_type": "code",
   "execution_count": 87,
   "metadata": {
    "collapsed": true
   },
   "outputs": [],
   "source": [
    "df[\"job\"]=df[\"job\"].map({\"housemaid\":1, \"services\":2, \"admin.\":3, \"blue-collar\":4, \"technician\":5, \"retired\":6, \"management\":7, \"unemployed\":8, \"self-employed\":9, \"entrepreneur\":10, \"student\":11})"
   ]
  },
  {
   "cell_type": "code",
   "execution_count": 88,
   "metadata": {},
   "outputs": [
    {
     "data": {
      "text/plain": [
       "array(['married', 'single', 'divorced'], dtype=object)"
      ]
     },
     "execution_count": 88,
     "metadata": {},
     "output_type": "execute_result"
    }
   ],
   "source": [
    "df[\"marital\"].unique()"
   ]
  },
  {
   "cell_type": "code",
   "execution_count": 89,
   "metadata": {
    "collapsed": true
   },
   "outputs": [],
   "source": [
    "df[\"marital\"]=df[\"marital\"].map({\"married\":1, \"single\":2, \"divorced\":3})"
   ]
  },
  {
   "cell_type": "code",
   "execution_count": 90,
   "metadata": {},
   "outputs": [
    {
     "data": {
      "text/plain": [
       "array(['basic.4y', 'high.school', 'basic.6y', 'basic.9y',\n",
       "       'professional.course', 'university.degree', 'illiterate'],\n",
       "      dtype=object)"
      ]
     },
     "execution_count": 90,
     "metadata": {},
     "output_type": "execute_result"
    }
   ],
   "source": [
    "df[\"education\"].unique()"
   ]
  },
  {
   "cell_type": "code",
   "execution_count": 91,
   "metadata": {
    "collapsed": true
   },
   "outputs": [],
   "source": [
    "df[\"education\"]=df[\"education\"].map({\"basic.4y\":1, \"high.school\":2, \"basic.6y\":3, \"basic.9y\":4, \"professional.course\":5, \"university.degree\":6, \"illiterate\":7})"
   ]
  },
  {
   "cell_type": "code",
   "execution_count": 92,
   "metadata": {},
   "outputs": [
    {
     "data": {
      "text/plain": [
       "array(['no', 'yes'], dtype=object)"
      ]
     },
     "execution_count": 92,
     "metadata": {},
     "output_type": "execute_result"
    }
   ],
   "source": [
    "df[\"default\"].unique()"
   ]
  },
  {
   "cell_type": "code",
   "execution_count": 93,
   "metadata": {
    "collapsed": true
   },
   "outputs": [],
   "source": [
    "df[\"default\"]=df[\"default\"].map({\"no\":0, \"yes\":1})"
   ]
  },
  {
   "cell_type": "code",
   "execution_count": 94,
   "metadata": {},
   "outputs": [
    {
     "data": {
      "text/plain": [
       "array(['no', 'yes'], dtype=object)"
      ]
     },
     "execution_count": 94,
     "metadata": {},
     "output_type": "execute_result"
    }
   ],
   "source": [
    "df[\"housing\"].unique()"
   ]
  },
  {
   "cell_type": "code",
   "execution_count": 95,
   "metadata": {
    "collapsed": true
   },
   "outputs": [],
   "source": [
    "df[\"housing\"]=df[\"housing\"].map({\"no\":0, \"yes\":1})"
   ]
  },
  {
   "cell_type": "code",
   "execution_count": 96,
   "metadata": {
    "collapsed": true
   },
   "outputs": [],
   "source": [
    "df[\"loan\"]=df[\"loan\"].map({\"no\":0, \"yes\":1})"
   ]
  },
  {
   "cell_type": "code",
   "execution_count": 97,
   "metadata": {},
   "outputs": [
    {
     "data": {
      "text/plain": [
       "array(['telephone', 'cellular'], dtype=object)"
      ]
     },
     "execution_count": 97,
     "metadata": {},
     "output_type": "execute_result"
    }
   ],
   "source": [
    "df[\"contact\"].unique()"
   ]
  },
  {
   "cell_type": "code",
   "execution_count": 98,
   "metadata": {
    "collapsed": true
   },
   "outputs": [],
   "source": [
    "df[\"contact\"]=df[\"contact\"].map({\"telephone\":1, \"cellular\":2})"
   ]
  },
  {
   "cell_type": "code",
   "execution_count": 99,
   "metadata": {},
   "outputs": [
    {
     "data": {
      "text/plain": [
       "array(['may', 'jun', 'jul', 'aug', 'oct', 'nov', 'dec', 'mar', 'apr',\n",
       "       'sep'], dtype=object)"
      ]
     },
     "execution_count": 99,
     "metadata": {},
     "output_type": "execute_result"
    }
   ],
   "source": [
    "df[\"month\"].unique()"
   ]
  },
  {
   "cell_type": "code",
   "execution_count": 100,
   "metadata": {
    "collapsed": true
   },
   "outputs": [],
   "source": [
    "df[\"month\"]=df[\"month\"].map({\"mar\":3, \"apr\":4, \"may\":5, \"jun\":6, \"jul\":7, \"aug\":8, \"sep\":9, \"oct\":10, \"nov\":11, \"dec\":12})"
   ]
  },
  {
   "cell_type": "code",
   "execution_count": 101,
   "metadata": {},
   "outputs": [
    {
     "data": {
      "text/plain": [
       "array(['mon', 'tue', 'wed', 'thu', 'fri'], dtype=object)"
      ]
     },
     "execution_count": 101,
     "metadata": {},
     "output_type": "execute_result"
    }
   ],
   "source": [
    "df[\"day_of_week\"].unique()"
   ]
  },
  {
   "cell_type": "code",
   "execution_count": 102,
   "metadata": {
    "collapsed": true
   },
   "outputs": [],
   "source": [
    "df[\"day_of_week\"]=df[\"day_of_week\"].map({\"mon\":1, \"tue\":2, \"wed\":3, \"thu\":4, \"fri\":5})"
   ]
  },
  {
   "cell_type": "code",
   "execution_count": 103,
   "metadata": {},
   "outputs": [
    {
     "data": {
      "text/plain": [
       "array(['nonexistent', 'failure', 'success'], dtype=object)"
      ]
     },
     "execution_count": 103,
     "metadata": {},
     "output_type": "execute_result"
    }
   ],
   "source": [
    "df[\"poutcome\"].unique()"
   ]
  },
  {
   "cell_type": "code",
   "execution_count": 104,
   "metadata": {
    "collapsed": true
   },
   "outputs": [],
   "source": [
    "df[\"poutcome\"]=df[\"poutcome\"].map({\"nonexistent\":1, \"failure\":2, \"success\":3})"
   ]
  },
  {
   "cell_type": "code",
   "execution_count": 105,
   "metadata": {},
   "outputs": [
    {
     "data": {
      "text/plain": [
       "array(['no', 'yes'], dtype=object)"
      ]
     },
     "execution_count": 105,
     "metadata": {},
     "output_type": "execute_result"
    }
   ],
   "source": [
    "df[\"y\"].unique()"
   ]
  },
  {
   "cell_type": "code",
   "execution_count": 106,
   "metadata": {
    "collapsed": true
   },
   "outputs": [],
   "source": [
    "df[\"y\"]=df[\"y\"].map({\"no\":0, \"yes\":1})"
   ]
  },
  {
   "cell_type": "code",
   "execution_count": 182,
   "metadata": {
    "collapsed": true
   },
   "outputs": [],
   "source": [
    "df.drop(\"y\", axis=1, inplace=True)"
   ]
  },
  {
   "cell_type": "code",
   "execution_count": 107,
   "metadata": {
    "collapsed": true
   },
   "outputs": [],
   "source": [
    "# df.drop(\"campaign\", axis=1, inplace=True)"
   ]
  },
  {
   "cell_type": "code",
   "execution_count": 108,
   "metadata": {
    "collapsed": true
   },
   "outputs": [],
   "source": [
    "from sklearn.model_selection import train_test_split\n",
    "from sklearn.linear_model import LogisticRegression\n",
    "from sklearn.metrics import confusion_matrix, classification_report, accuracy_score\n",
    "from sklearn import metrics as sm"
   ]
  },
  {
   "cell_type": "code",
   "execution_count": 183,
   "metadata": {
    "collapsed": true
   },
   "outputs": [],
   "source": [
    "X_train, X_test, y_train, y_test=train_test_split(df.drop(\"loan\", axis=1), df[\"loan\"], test_size=0.2, random_state=1000)"
   ]
  },
  {
   "cell_type": "code",
   "execution_count": 184,
   "metadata": {},
   "outputs": [
    {
     "name": "stdout",
     "output_type": "stream",
     "text": [
      "(32950, 15) (8238, 15) (32950,) (8238,)\n"
     ]
    }
   ],
   "source": [
    "print(X_train.shape, X_test.shape, y_train.shape, y_test.shape)"
   ]
  },
  {
   "cell_type": "code",
   "execution_count": 185,
   "metadata": {},
   "outputs": [
    {
     "data": {
      "text/plain": [
       "Index(['age', 'job', 'marital', 'education', 'default', 'housing', 'contact',\n",
       "       'month', 'day_of_week', 'duration', 'campaign', 'pdays', 'previous',\n",
       "       'poutcome', 'emp.var.rate'],\n",
       "      dtype='object')"
      ]
     },
     "execution_count": 185,
     "metadata": {},
     "output_type": "execute_result"
    }
   ],
   "source": [
    "X_train.columns"
   ]
  },
  {
   "cell_type": "code",
   "execution_count": 195,
   "metadata": {},
   "outputs": [
    {
     "data": {
      "text/plain": [
       "0    34940\n",
       "1     6248\n",
       "Name: loan, dtype: int64"
      ]
     },
     "execution_count": 195,
     "metadata": {},
     "output_type": "execute_result"
    }
   ],
   "source": [
    "df[\"loan\"].value_counts()"
   ]
  },
  {
   "cell_type": "markdown",
   "metadata": {},
   "source": [
    "### LOGISTIC Regression"
   ]
  },
  {
   "cell_type": "code",
   "execution_count": 196,
   "metadata": {},
   "outputs": [
    {
     "name": "stderr",
     "output_type": "stream",
     "text": [
      "C:\\Users\\PC\\Anaconda3\\lib\\site-packages\\sklearn\\linear_model\\_logistic.py:940: ConvergenceWarning: lbfgs failed to converge (status=1):\n",
      "STOP: TOTAL NO. of ITERATIONS REACHED LIMIT.\n",
      "\n",
      "Increase the number of iterations (max_iter) or scale the data as shown in:\n",
      "    https://scikit-learn.org/stable/modules/preprocessing.html\n",
      "Please also refer to the documentation for alternative solver options:\n",
      "    https://scikit-learn.org/stable/modules/linear_model.html#logistic-regression\n",
      "  extra_warning_msg=_LOGISTIC_SOLVER_CONVERGENCE_MSG)\n"
     ]
    },
    {
     "data": {
      "text/plain": [
       "LogisticRegression(C=1.0, class_weight='balanced', dual=False,\n",
       "                   fit_intercept=True, intercept_scaling=1, l1_ratio=None,\n",
       "                   max_iter=100, multi_class='auto', n_jobs=None, penalty='l2',\n",
       "                   random_state=None, solver='lbfgs', tol=0.0001, verbose=0,\n",
       "                   warm_start=False)"
      ]
     },
     "execution_count": 196,
     "metadata": {},
     "output_type": "execute_result"
    }
   ],
   "source": [
    "logreg_model=LogisticRegression(class_weight=\"balanced\")\n",
    "logreg_model.fit(X_train, y_train)"
   ]
  },
  {
   "cell_type": "code",
   "execution_count": 197,
   "metadata": {},
   "outputs": [
    {
     "name": "stdout",
     "output_type": "stream",
     "text": [
      "[0 1 1 0 1 0 0 1 0 1]\n"
     ]
    }
   ],
   "source": [
    "train_result=logreg_model.predict(X_train)\n",
    "print(train_result[:10])"
   ]
  },
  {
   "cell_type": "code",
   "execution_count": 198,
   "metadata": {},
   "outputs": [
    {
     "name": "stdout",
     "output_type": "stream",
     "text": [
      "[0 1 1 1 1 1 0 1 1 1]\n"
     ]
    }
   ],
   "source": [
    "final_result=logreg_model.predict(X_test)\n",
    "print(final_result[:10])"
   ]
  },
  {
   "cell_type": "code",
   "execution_count": 199,
   "metadata": {},
   "outputs": [
    {
     "name": "stdout",
     "output_type": "stream",
     "text": [
      "[[3542 3452]\n",
      " [ 575  669]]\n"
     ]
    }
   ],
   "source": [
    "print(confusion_matrix(y_test, final_result))"
   ]
  },
  {
   "cell_type": "code",
   "execution_count": 200,
   "metadata": {},
   "outputs": [
    {
     "name": "stdout",
     "output_type": "stream",
     "text": [
      "              precision    recall  f1-score   support\n",
      "\n",
      "           0       0.86      0.51      0.64      6994\n",
      "           1       0.16      0.54      0.25      1244\n",
      "\n",
      "    accuracy                           0.51      8238\n",
      "   macro avg       0.51      0.52      0.44      8238\n",
      "weighted avg       0.75      0.51      0.58      8238\n",
      "\n"
     ]
    }
   ],
   "source": [
    "print(classification_report(y_test, final_result))"
   ]
  },
  {
   "cell_type": "code",
   "execution_count": 201,
   "metadata": {},
   "outputs": [
    {
     "name": "stdout",
     "output_type": "stream",
     "text": [
      "Logistic Regression accuracy: 0.5111677591648458\n"
     ]
    }
   ],
   "source": [
    "print(\"Logistic Regression accuracy:\", sm.accuracy_score(y_test,final_result))"
   ]
  },
  {
   "cell_type": "code",
   "execution_count": 202,
   "metadata": {},
   "outputs": [
    {
     "name": "stdout",
     "output_type": "stream",
     "text": [
      "Logistic Regression accuracy: 0.5069499241274659\n"
     ]
    }
   ],
   "source": [
    "print(\"Logistic Regression accuracy:\", sm.accuracy_score(y_train, train_result))"
   ]
  },
  {
   "cell_type": "markdown",
   "metadata": {},
   "source": [
    "### Decision Tree"
   ]
  },
  {
   "cell_type": "code",
   "execution_count": 203,
   "metadata": {
    "collapsed": true
   },
   "outputs": [],
   "source": [
    "from sklearn.tree import DecisionTreeClassifier"
   ]
  },
  {
   "cell_type": "code",
   "execution_count": 205,
   "metadata": {
    "collapsed": true
   },
   "outputs": [],
   "source": [
    "dt_model=DecisionTreeClassifier(class_weight=\"balanced\")"
   ]
  },
  {
   "cell_type": "code",
   "execution_count": 206,
   "metadata": {},
   "outputs": [
    {
     "data": {
      "text/plain": [
       "DecisionTreeClassifier(ccp_alpha=0.0, class_weight='balanced', criterion='gini',\n",
       "                       max_depth=None, max_features=None, max_leaf_nodes=None,\n",
       "                       min_impurity_decrease=0.0, min_impurity_split=None,\n",
       "                       min_samples_leaf=1, min_samples_split=2,\n",
       "                       min_weight_fraction_leaf=0.0, presort='deprecated',\n",
       "                       random_state=None, splitter='best')"
      ]
     },
     "execution_count": 206,
     "metadata": {},
     "output_type": "execute_result"
    }
   ],
   "source": [
    "dt_model.fit(X_train, y_train)"
   ]
  },
  {
   "cell_type": "code",
   "execution_count": 207,
   "metadata": {},
   "outputs": [
    {
     "data": {
      "text/plain": [
       "array([0, 0, 0, 0, 0, 0, 0, 0, 0, 0], dtype=int64)"
      ]
     },
     "execution_count": 207,
     "metadata": {},
     "output_type": "execute_result"
    }
   ],
   "source": [
    "train_result1=dt_model.predict(X_train)\n",
    "train_result1[:10]"
   ]
  },
  {
   "cell_type": "code",
   "execution_count": 208,
   "metadata": {},
   "outputs": [
    {
     "data": {
      "text/plain": [
       "array([0, 0, 0, 0, 0, 0, 0, 1, 1, 0], dtype=int64)"
      ]
     },
     "execution_count": 208,
     "metadata": {},
     "output_type": "execute_result"
    }
   ],
   "source": [
    "final_result1=dt_model.predict(X_test)\n",
    "final_result1[:10]"
   ]
  },
  {
   "cell_type": "code",
   "execution_count": 209,
   "metadata": {},
   "outputs": [
    {
     "name": "stdout",
     "output_type": "stream",
     "text": [
      "[[5908 1086]\n",
      " [1025  219]]\n"
     ]
    }
   ],
   "source": [
    "print(confusion_matrix(y_test, final_result1))"
   ]
  },
  {
   "cell_type": "code",
   "execution_count": 210,
   "metadata": {},
   "outputs": [
    {
     "name": "stdout",
     "output_type": "stream",
     "text": [
      "              precision    recall  f1-score   support\n",
      "\n",
      "           0       0.85      0.84      0.85      6994\n",
      "           1       0.17      0.18      0.17      1244\n",
      "\n",
      "    accuracy                           0.74      8238\n",
      "   macro avg       0.51      0.51      0.51      8238\n",
      "weighted avg       0.75      0.74      0.75      8238\n",
      "\n"
     ]
    }
   ],
   "source": [
    "print(classification_report(y_test, final_result1))"
   ]
  },
  {
   "cell_type": "code",
   "execution_count": 211,
   "metadata": {},
   "outputs": [
    {
     "name": "stdout",
     "output_type": "stream",
     "text": [
      "Decision Tree Accuracy: 0.7437484826414178\n"
     ]
    }
   ],
   "source": [
    "print(\"Decision Tree Accuracy:\",sm.accuracy_score(y_test, final_result1))"
   ]
  },
  {
   "cell_type": "code",
   "execution_count": 212,
   "metadata": {},
   "outputs": [
    {
     "name": "stdout",
     "output_type": "stream",
     "text": [
      "Decision Tree Accuracy: 0.9999393019726859\n"
     ]
    }
   ],
   "source": [
    "print(\"Decision Tree Accuracy:\",sm.accuracy_score(y_train, train_result1))"
   ]
  },
  {
   "cell_type": "markdown",
   "metadata": {
    "collapsed": true
   },
   "source": [
    "### Random Forest"
   ]
  },
  {
   "cell_type": "code",
   "execution_count": 213,
   "metadata": {
    "collapsed": true
   },
   "outputs": [],
   "source": [
    "from sklearn.ensemble import RandomForestClassifier"
   ]
  },
  {
   "cell_type": "code",
   "execution_count": 214,
   "metadata": {},
   "outputs": [
    {
     "data": {
      "text/plain": [
       "RandomForestClassifier(bootstrap=True, ccp_alpha=0.0, class_weight='balanced',\n",
       "                       criterion='gini', max_depth=None, max_features='auto',\n",
       "                       max_leaf_nodes=None, max_samples=None,\n",
       "                       min_impurity_decrease=0.0, min_impurity_split=None,\n",
       "                       min_samples_leaf=1, min_samples_split=2,\n",
       "                       min_weight_fraction_leaf=0.0, n_estimators=100,\n",
       "                       n_jobs=None, oob_score=False, random_state=None,\n",
       "                       verbose=0, warm_start=False)"
      ]
     },
     "execution_count": 214,
     "metadata": {},
     "output_type": "execute_result"
    }
   ],
   "source": [
    "randfo_model=RandomForestClassifier(class_weight=\"balanced\")\n",
    "randfo_model.fit(X_train, y_train)"
   ]
  },
  {
   "cell_type": "code",
   "execution_count": 215,
   "metadata": {},
   "outputs": [
    {
     "data": {
      "text/plain": [
       "array([0, 0, 0, 0, 0, 0, 0, 0, 0, 0], dtype=int64)"
      ]
     },
     "execution_count": 215,
     "metadata": {},
     "output_type": "execute_result"
    }
   ],
   "source": [
    "train_result2=randfo_model.predict(X_train)\n",
    "train_result2[:10]"
   ]
  },
  {
   "cell_type": "code",
   "execution_count": 216,
   "metadata": {},
   "outputs": [
    {
     "data": {
      "text/plain": [
       "array([0, 0, 0, 0, 0, 0, 0, 0, 0, 0], dtype=int64)"
      ]
     },
     "execution_count": 216,
     "metadata": {},
     "output_type": "execute_result"
    }
   ],
   "source": [
    "result=randfo_model.predict(X_test)\n",
    "result[:10]"
   ]
  },
  {
   "cell_type": "code",
   "execution_count": 217,
   "metadata": {},
   "outputs": [
    {
     "name": "stdout",
     "output_type": "stream",
     "text": [
      "[[6958   36]\n",
      " [1236    8]]\n"
     ]
    }
   ],
   "source": [
    "print(confusion_matrix(y_test, result))"
   ]
  },
  {
   "cell_type": "code",
   "execution_count": 218,
   "metadata": {},
   "outputs": [
    {
     "name": "stdout",
     "output_type": "stream",
     "text": [
      "              precision    recall  f1-score   support\n",
      "\n",
      "           0       0.85      0.99      0.92      6994\n",
      "           1       0.18      0.01      0.01      1244\n",
      "\n",
      "    accuracy                           0.85      8238\n",
      "   macro avg       0.52      0.50      0.46      8238\n",
      "weighted avg       0.75      0.85      0.78      8238\n",
      "\n"
     ]
    }
   ],
   "source": [
    "print(classification_report(y_test, result))"
   ]
  },
  {
   "cell_type": "code",
   "execution_count": 219,
   "metadata": {},
   "outputs": [
    {
     "name": "stdout",
     "output_type": "stream",
     "text": [
      "Random Forest Accuracy: 0.8455935906773488\n"
     ]
    }
   ],
   "source": [
    "print(\"Random Forest Accuracy:\", sm.accuracy_score(y_test, result))"
   ]
  },
  {
   "cell_type": "code",
   "execution_count": 220,
   "metadata": {},
   "outputs": [
    {
     "name": "stdout",
     "output_type": "stream",
     "text": [
      "Random Forest Accuracy: 0.9998786039453718\n"
     ]
    }
   ],
   "source": [
    "print(\"Random Forest Accuracy:\", sm.accuracy_score(y_train, train_result2))"
   ]
  },
  {
   "cell_type": "code",
   "execution_count": 135,
   "metadata": {
    "collapsed": true
   },
   "outputs": [],
   "source": [
    "from sklearn.preprocessing import StandardScaler\n",
    "scaler=StandardScaler()\n",
    "scaler.fit(X_train)\n",
    "\n",
    "X_train=scaler.transform(X_train)\n",
    "X_test=scaler.transform(X_test)"
   ]
  },
  {
   "cell_type": "markdown",
   "metadata": {},
   "source": [
    "### SVM Method "
   ]
  },
  {
   "cell_type": "code",
   "execution_count": 136,
   "metadata": {
    "collapsed": true
   },
   "outputs": [],
   "source": [
    "from sklearn.svm import LinearSVC"
   ]
  },
  {
   "cell_type": "code",
   "execution_count": 137,
   "metadata": {},
   "outputs": [
    {
     "name": "stderr",
     "output_type": "stream",
     "text": [
      "C:\\Users\\PC\\Anaconda3\\lib\\site-packages\\sklearn\\svm\\_base.py:947: ConvergenceWarning: Liblinear failed to converge, increase the number of iterations.\n",
      "  \"the number of iterations.\", ConvergenceWarning)\n"
     ]
    }
   ],
   "source": [
    "svc=LinearSVC(C=1.0)\n",
    "model=svc.fit(X_train, y_train)"
   ]
  },
  {
   "cell_type": "code",
   "execution_count": 138,
   "metadata": {
    "collapsed": true
   },
   "outputs": [],
   "source": [
    "test_predictions=svc.predict(X_test)\n",
    "train_predictions=svc.predict(X_train)"
   ]
  },
  {
   "cell_type": "code",
   "execution_count": 139,
   "metadata": {},
   "outputs": [
    {
     "name": "stdout",
     "output_type": "stream",
     "text": [
      "[[3443    0]\n",
      " [ 676    0]]\n",
      "              precision    recall  f1-score   support\n",
      "\n",
      "           0       0.84      1.00      0.91      3443\n",
      "           1       0.00      0.00      0.00       676\n",
      "\n",
      "    accuracy                           0.84      4119\n",
      "   macro avg       0.42      0.50      0.46      4119\n",
      "weighted avg       0.70      0.84      0.76      4119\n",
      "\n",
      "Train Accuracy: 84.9685721222585\n",
      "Test Accuracy: 83.5882495751396\n"
     ]
    },
    {
     "name": "stderr",
     "output_type": "stream",
     "text": [
      "C:\\Users\\PC\\Anaconda3\\lib\\site-packages\\sklearn\\metrics\\_classification.py:1272: UndefinedMetricWarning: Precision and F-score are ill-defined and being set to 0.0 in labels with no predicted samples. Use `zero_division` parameter to control this behavior.\n",
      "  _warn_prf(average, modifier, msg_start, len(result))\n"
     ]
    }
   ],
   "source": [
    "print(confusion_matrix(y_test, test_predictions))\n",
    "print(classification_report(y_test, test_predictions))\n",
    "print(\"Train Accuracy:\", accuracy_score(y_train, train_predictions)*100)\n",
    "print(\"Test Accuracy:\", accuracy_score(y_test, test_predictions)*100)"
   ]
  },
  {
   "cell_type": "code",
   "execution_count": 140,
   "metadata": {
    "collapsed": true
   },
   "outputs": [],
   "source": [
    "from sklearn.svm import SVC"
   ]
  },
  {
   "cell_type": "code",
   "execution_count": 141,
   "metadata": {},
   "outputs": [
    {
     "name": "stdout",
     "output_type": "stream",
     "text": [
      "[[3443    0]\n",
      " [ 676    0]]\n",
      "              precision    recall  f1-score   support\n",
      "\n",
      "           0       0.84      1.00      0.91      3443\n",
      "           1       0.00      0.00      0.00       676\n",
      "\n",
      "    accuracy                           0.84      4119\n",
      "   macro avg       0.42      0.50      0.46      4119\n",
      "weighted avg       0.70      0.84      0.76      4119\n",
      "\n",
      "Train Accuracy: 84.9685721222585\n",
      "Test Accuracy: 83.5882495751396\n"
     ]
    },
    {
     "name": "stderr",
     "output_type": "stream",
     "text": [
      "C:\\Users\\PC\\Anaconda3\\lib\\site-packages\\sklearn\\metrics\\_classification.py:1272: UndefinedMetricWarning: Precision and F-score are ill-defined and being set to 0.0 in labels with no predicted samples. Use `zero_division` parameter to control this behavior.\n",
      "  _warn_prf(average, modifier, msg_start, len(result))\n"
     ]
    }
   ],
   "source": [
    "linear_svm=SVC(kernel=\"linear\", C=1, gamma=0.01, random_state=0)\n",
    "linear_svm.fit(X_train, y_train)\n",
    "\n",
    "test_predictions=linear_svm.predict(X_test)\n",
    "train_predictions=linear_svm.predict(X_train)\n",
    "\n",
    "print(confusion_matrix(y_test, test_predictions))\n",
    "\n",
    "print(classification_report(y_test, test_predictions))\n",
    "\n",
    "print(\"Train Accuracy:\", accuracy_score(y_train, train_predictions)*100)\n",
    "print(\"Test Accuracy:\", accuracy_score(y_test, test_predictions)*100)"
   ]
  },
  {
   "cell_type": "code",
   "execution_count": 143,
   "metadata": {},
   "outputs": [
    {
     "name": "stdout",
     "output_type": "stream",
     "text": [
      "[[3443    0]\n",
      " [ 676    0]]\n",
      "              precision    recall  f1-score   support\n",
      "\n",
      "           0       0.84      1.00      0.91      3443\n",
      "           1       0.00      0.00      0.00       676\n",
      "\n",
      "    accuracy                           0.84      4119\n",
      "   macro avg       0.42      0.50      0.46      4119\n",
      "weighted avg       0.70      0.84      0.76      4119\n",
      "\n",
      "Test Accuracy: 83.5882495751396\n",
      "Train Accuracy: 84.9685721222585\n"
     ]
    },
    {
     "name": "stderr",
     "output_type": "stream",
     "text": [
      "C:\\Users\\PC\\Anaconda3\\lib\\site-packages\\sklearn\\metrics\\_classification.py:1272: UndefinedMetricWarning: Precision and F-score are ill-defined and being set to 0.0 in labels with no predicted samples. Use `zero_division` parameter to control this behavior.\n",
      "  _warn_prf(average, modifier, msg_start, len(result))\n"
     ]
    }
   ],
   "source": [
    "linear_svm=SVC(kernel=\"rbf\", C=1, gamma=0.01, random_state=0)\n",
    "linear_svm.fit(X_train, y_train)\n",
    "\n",
    "test_predictions=linear_svm.predict(X_test)\n",
    "train_predictions=linear_svm.predict(X_train)\n",
    "\n",
    "print(confusion_matrix(y_test, test_predictions))\n",
    "\n",
    "print(classification_report(y_test, test_predictions))\n",
    "\n",
    "print(\"Test Accuracy:\", accuracy_score(y_test, test_predictions)*100)\n",
    "print(\"Train Accuracy:\", accuracy_score(y_train, train_predictions)*100)"
   ]
  },
  {
   "cell_type": "code",
   "execution_count": 144,
   "metadata": {},
   "outputs": [],
   "source": [
    "# linear_svm=SVC(kernel=\"rbf\", C=100, gamma=0.01, random_state=0)\n",
    "# linear_svm.fit(X_train, y_train)\n",
    "\n",
    "# test_predictions=linear_svm.predict(X_test)\n",
    "# train_predictions=linear_svm.predict(X_train)\n",
    "\n",
    "# print(confusion_matrix(y_test, test_predictions))\n",
    "\n",
    "# print(classification_report(y_test, test_predictions))\n",
    "\n",
    "# print(\"Test Accuracy:\", accuracy_score(y_test, test_predictions)*100)\n",
    "# print(\"Train Accuracy:\", accuracy_score(y_train, train_predictions)*100)"
   ]
  },
  {
   "cell_type": "code",
   "execution_count": 145,
   "metadata": {},
   "outputs": [
    {
     "name": "stdout",
     "output_type": "stream",
     "text": [
      "[[3443    0]\n",
      " [ 676    0]]\n",
      "              precision    recall  f1-score   support\n",
      "\n",
      "           0       0.84      1.00      0.91      3443\n",
      "           1       0.00      0.00      0.00       676\n",
      "\n",
      "    accuracy                           0.84      4119\n",
      "   macro avg       0.42      0.50      0.46      4119\n",
      "weighted avg       0.70      0.84      0.76      4119\n",
      "\n",
      "Train Accuracy: 84.9685721222585\n",
      "Test Accuracy: 83.5882495751396\n"
     ]
    },
    {
     "name": "stderr",
     "output_type": "stream",
     "text": [
      "C:\\Users\\PC\\Anaconda3\\lib\\site-packages\\sklearn\\metrics\\_classification.py:1272: UndefinedMetricWarning: Precision and F-score are ill-defined and being set to 0.0 in labels with no predicted samples. Use `zero_division` parameter to control this behavior.\n",
      "  _warn_prf(average, modifier, msg_start, len(result))\n"
     ]
    }
   ],
   "source": [
    "linear_svm=SVC(kernel=\"poly\", C=1, gamma=0.01, random_state=0)\n",
    "linear_svm.fit(X_train, y_train)\n",
    "\n",
    "test_predictions=linear_svm.predict(X_test)\n",
    "train_predicitons=linear_svm.predict(X_train)\n",
    "\n",
    "print(confusion_matrix(y_test, test_predictions))\n",
    "\n",
    "print(classification_report(y_test, test_predictions))\n",
    "\n",
    "print(\"Train Accuracy:\", accuracy_score(y_train, train_predictions)*100)\n",
    "print(\"Test Accuracy:\", accuracy_score(y_test, test_predictions)*100)"
   ]
  },
  {
   "cell_type": "markdown",
   "metadata": {},
   "source": [
    "### Naive Bayes "
   ]
  },
  {
   "cell_type": "code",
   "execution_count": 146,
   "metadata": {
    "collapsed": true
   },
   "outputs": [],
   "source": [
    "from sklearn.naive_bayes import GaussianNB"
   ]
  },
  {
   "cell_type": "code",
   "execution_count": 236,
   "metadata": {},
   "outputs": [],
   "source": [
    "nb=GaussianNB(var_smoothing=1)\n",
    "nb.fit(X_train, y_train)\n",
    "\n",
    "y_pred=nb.predict(X_test)"
   ]
  },
  {
   "cell_type": "code",
   "execution_count": 237,
   "metadata": {
    "collapsed": true
   },
   "outputs": [],
   "source": [
    "train_pres=nb.predict(X_train)"
   ]
  },
  {
   "cell_type": "code",
   "execution_count": 238,
   "metadata": {},
   "outputs": [
    {
     "name": "stdout",
     "output_type": "stream",
     "text": [
      "[[6988    6]\n",
      " [1244    0]]\n",
      "              precision    recall  f1-score   support\n",
      "\n",
      "           0       0.85      1.00      0.92      6994\n",
      "           1       0.00      0.00      0.00      1244\n",
      "\n",
      "    accuracy                           0.85      8238\n",
      "   macro avg       0.42      0.50      0.46      8238\n",
      "weighted avg       0.72      0.85      0.78      8238\n",
      "\n",
      "Train Accuracy: 84.79210925644917\n",
      "Test Accuracy: 84.82641417819859\n"
     ]
    }
   ],
   "source": [
    "print(confusion_matrix(y_test, y_pred))\n",
    "\n",
    "print(classification_report(y_test, y_pred))\n",
    "\n",
    "print(\"Train Accuracy:\", accuracy_score(y_train, train_pres)*100)\n",
    "print(\"Test Accuracy:\", accuracy_score(y_test, y_pred)*100)"
   ]
  },
  {
   "cell_type": "code",
   "execution_count": null,
   "metadata": {
    "collapsed": true
   },
   "outputs": [],
   "source": [
    "### KNN Model"
   ]
  },
  {
   "cell_type": "code",
   "execution_count": 239,
   "metadata": {
    "collapsed": true
   },
   "outputs": [],
   "source": [
    "from sklearn.neighbors import KNeighborsClassifier"
   ]
  },
  {
   "cell_type": "code",
   "execution_count": 247,
   "metadata": {},
   "outputs": [
    {
     "ename": "TypeError",
     "evalue": "__init__() got an unexpected keyword argument 'class_weight'",
     "output_type": "error",
     "traceback": [
      "\u001b[1;31m---------------------------------------------------------------------------\u001b[0m",
      "\u001b[1;31mTypeError\u001b[0m                                 Traceback (most recent call last)",
      "\u001b[1;32m<ipython-input-247-7c50eebb20b3>\u001b[0m in \u001b[0;36m<module>\u001b[1;34m()\u001b[0m\n\u001b[1;32m----> 1\u001b[1;33m \u001b[0mclassifier\u001b[0m\u001b[1;33m=\u001b[0m\u001b[0mKNeighborsClassifier\u001b[0m\u001b[1;33m(\u001b[0m\u001b[0mn_neighbors\u001b[0m\u001b[1;33m=\u001b[0m\u001b[1;36m10\u001b[0m\u001b[1;33m,\u001b[0m\u001b[0mclass_weight\u001b[0m\u001b[1;33m=\u001b[0m\u001b[1;34m\"balanced\"\u001b[0m\u001b[1;33m)\u001b[0m\u001b[1;33m\u001b[0m\u001b[0m\n\u001b[0m\u001b[0;32m      2\u001b[0m \u001b[0mclassifier\u001b[0m\u001b[1;33m.\u001b[0m\u001b[0mfit\u001b[0m\u001b[1;33m(\u001b[0m\u001b[0mX_train\u001b[0m\u001b[1;33m,\u001b[0m \u001b[0my_train\u001b[0m\u001b[1;33m)\u001b[0m\u001b[1;33m\u001b[0m\u001b[0m\n",
      "\u001b[1;32m~\\Anaconda3\\lib\\site-packages\\sklearn\\neighbors\\_classification.py\u001b[0m in \u001b[0;36m__init__\u001b[1;34m(self, n_neighbors, weights, algorithm, leaf_size, p, metric, metric_params, n_jobs, **kwargs)\u001b[0m\n\u001b[0;32m    152\u001b[0m             \u001b[0mleaf_size\u001b[0m\u001b[1;33m=\u001b[0m\u001b[0mleaf_size\u001b[0m\u001b[1;33m,\u001b[0m \u001b[0mmetric\u001b[0m\u001b[1;33m=\u001b[0m\u001b[0mmetric\u001b[0m\u001b[1;33m,\u001b[0m \u001b[0mp\u001b[0m\u001b[1;33m=\u001b[0m\u001b[0mp\u001b[0m\u001b[1;33m,\u001b[0m\u001b[1;33m\u001b[0m\u001b[0m\n\u001b[0;32m    153\u001b[0m             \u001b[0mmetric_params\u001b[0m\u001b[1;33m=\u001b[0m\u001b[0mmetric_params\u001b[0m\u001b[1;33m,\u001b[0m\u001b[1;33m\u001b[0m\u001b[0m\n\u001b[1;32m--> 154\u001b[1;33m             n_jobs=n_jobs, **kwargs)\n\u001b[0m\u001b[0;32m    155\u001b[0m         \u001b[0mself\u001b[0m\u001b[1;33m.\u001b[0m\u001b[0mweights\u001b[0m \u001b[1;33m=\u001b[0m \u001b[0m_check_weights\u001b[0m\u001b[1;33m(\u001b[0m\u001b[0mweights\u001b[0m\u001b[1;33m)\u001b[0m\u001b[1;33m\u001b[0m\u001b[0m\n\u001b[0;32m    156\u001b[0m \u001b[1;33m\u001b[0m\u001b[0m\n",
      "\u001b[1;31mTypeError\u001b[0m: __init__() got an unexpected keyword argument 'class_weight'"
     ]
    }
   ],
   "source": [
    "classifier=KNeighborsClassifier(n_neighbors=10,class_weight=\"balanced\")\n",
    "classifier.fit(X_train, y_train)"
   ]
  },
  {
   "cell_type": "code",
   "execution_count": 244,
   "metadata": {
    "collapsed": true
   },
   "outputs": [],
   "source": [
    "y_pred=classifier.predict(X_test)\n",
    "train_pred=classifier.predict(X_train)"
   ]
  },
  {
   "cell_type": "code",
   "execution_count": 245,
   "metadata": {},
   "outputs": [
    {
     "name": "stdout",
     "output_type": "stream",
     "text": [
      "[[6985    9]\n",
      " [1244    0]]\n",
      "              precision    recall  f1-score   support\n",
      "\n",
      "           0       0.85      1.00      0.92      6994\n",
      "           1       0.00      0.00      0.00      1244\n",
      "\n",
      "    accuracy                           0.85      8238\n",
      "   macro avg       0.42      0.50      0.46      8238\n",
      "weighted avg       0.72      0.85      0.78      8238\n",
      "\n",
      "Train Accuracy: 84.83459787556905\n",
      "Test Accuracy: 84.78999757222627\n"
     ]
    }
   ],
   "source": [
    "print(confusion_matrix(y_test, y_pred))\n",
    "\n",
    "print(classification_report(y_test, y_pred))\n",
    "\n",
    "print(\"Train Accuracy:\",accuracy_score(y_train, train_pred)*100)\n",
    "print(\"Test Accuracy:\",accuracy_score(y_test, y_pred)*100)"
   ]
  },
  {
   "cell_type": "markdown",
   "metadata": {
    "collapsed": true
   },
   "source": [
    "### Finetuning methods"
   ]
  },
  {
   "cell_type": "code",
   "execution_count": 154,
   "metadata": {
    "collapsed": true
   },
   "outputs": [],
   "source": [
    "from sklearn.model_selection import GridSearchCV, RandomizedSearchCV, cross_val_score"
   ]
  },
  {
   "cell_type": "code",
   "execution_count": 155,
   "metadata": {},
   "outputs": [
    {
     "name": "stdout",
     "output_type": "stream",
     "text": [
      "{'max_depth': 1, 'max_features': 'sqrt', 'min_samples_leaf': 1, 'min_samples_split': 2, 'n_estimators': 10}\n"
     ]
    }
   ],
   "source": [
    "params={\"max_depth\": range(1,8,2),\n",
    "        \"max_features\": [\"sqrt\"],\n",
    "       \"n_estimators\": [10,20,30,40,50],\n",
    "       \"min_samples_leaf\": [1,2,4],\n",
    "       \"min_samples_split\": [2,3,6]}\n",
    "Grid_randomF=GridSearchCV(RandomForestClassifier(random_state=15), params)\n",
    "\n",
    "Grid_randomF.fit(X_train, y_train)\n",
    "print(Grid_randomF.best_params_)"
   ]
  },
  {
   "cell_type": "code",
   "execution_count": 156,
   "metadata": {},
   "outputs": [
    {
     "name": "stderr",
     "output_type": "stream",
     "text": [
      "C:\\Users\\PC\\Anaconda3\\lib\\site-packages\\sklearn\\ensemble\\_forest.py:523: UserWarning: Some inputs do not have OOB scores. This probably means too few trees were used to compute any reliable oob estimates.\n",
      "  warn(\"Some inputs do not have OOB scores. \"\n",
      "C:\\Users\\PC\\Anaconda3\\lib\\site-packages\\sklearn\\ensemble\\_forest.py:528: RuntimeWarning: invalid value encountered in true_divide\n",
      "  predictions[k].sum(axis=1)[:, np.newaxis])\n"
     ]
    },
    {
     "data": {
      "text/plain": [
       "RandomForestClassifier(bootstrap=True, ccp_alpha=0.0, class_weight='balanced',\n",
       "                       criterion='gini', max_depth=1, max_features='sqrt',\n",
       "                       max_leaf_nodes=None, max_samples=None,\n",
       "                       min_impurity_decrease=0.0, min_impurity_split=None,\n",
       "                       min_samples_leaf=1, min_samples_split=2,\n",
       "                       min_weight_fraction_leaf=0.0, n_estimators=10, n_jobs=-1,\n",
       "                       oob_score=True, random_state=0, verbose=0,\n",
       "                       warm_start=False)"
      ]
     },
     "execution_count": 156,
     "metadata": {},
     "output_type": "execute_result"
    }
   ],
   "source": [
    "clf=RandomForestClassifier(random_state=0, n_jobs=-1, class_weight=\"balanced\", oob_score=True, **Grid_randomF.best_params_)\n",
    "clf.fit(X_train, y_train)"
   ]
  },
  {
   "cell_type": "code",
   "execution_count": 157,
   "metadata": {},
   "outputs": [
    {
     "name": "stderr",
     "output_type": "stream",
     "text": [
      "C:\\Users\\PC\\Anaconda3\\lib\\site-packages\\sklearn\\ensemble\\_forest.py:523: UserWarning: Some inputs do not have OOB scores. This probably means too few trees were used to compute any reliable oob estimates.\n",
      "  warn(\"Some inputs do not have OOB scores. \"\n",
      "C:\\Users\\PC\\Anaconda3\\lib\\site-packages\\sklearn\\ensemble\\_forest.py:528: RuntimeWarning: invalid value encountered in true_divide\n",
      "  predictions[k].sum(axis=1)[:, np.newaxis])\n",
      "C:\\Users\\PC\\Anaconda3\\lib\\site-packages\\sklearn\\ensemble\\_forest.py:523: UserWarning: Some inputs do not have OOB scores. This probably means too few trees were used to compute any reliable oob estimates.\n",
      "  warn(\"Some inputs do not have OOB scores. \"\n",
      "C:\\Users\\PC\\Anaconda3\\lib\\site-packages\\sklearn\\ensemble\\_forest.py:528: RuntimeWarning: invalid value encountered in true_divide\n",
      "  predictions[k].sum(axis=1)[:, np.newaxis])\n",
      "C:\\Users\\PC\\Anaconda3\\lib\\site-packages\\sklearn\\ensemble\\_forest.py:523: UserWarning: Some inputs do not have OOB scores. This probably means too few trees were used to compute any reliable oob estimates.\n",
      "  warn(\"Some inputs do not have OOB scores. \"\n",
      "C:\\Users\\PC\\Anaconda3\\lib\\site-packages\\sklearn\\ensemble\\_forest.py:528: RuntimeWarning: invalid value encountered in true_divide\n",
      "  predictions[k].sum(axis=1)[:, np.newaxis])\n",
      "C:\\Users\\PC\\Anaconda3\\lib\\site-packages\\sklearn\\ensemble\\_forest.py:523: UserWarning: Some inputs do not have OOB scores. This probably means too few trees were used to compute any reliable oob estimates.\n",
      "  warn(\"Some inputs do not have OOB scores. \"\n",
      "C:\\Users\\PC\\Anaconda3\\lib\\site-packages\\sklearn\\ensemble\\_forest.py:528: RuntimeWarning: invalid value encountered in true_divide\n",
      "  predictions[k].sum(axis=1)[:, np.newaxis])\n",
      "C:\\Users\\PC\\Anaconda3\\lib\\site-packages\\sklearn\\ensemble\\_forest.py:523: UserWarning: Some inputs do not have OOB scores. This probably means too few trees were used to compute any reliable oob estimates.\n",
      "  warn(\"Some inputs do not have OOB scores. \"\n",
      "C:\\Users\\PC\\Anaconda3\\lib\\site-packages\\sklearn\\ensemble\\_forest.py:528: RuntimeWarning: invalid value encountered in true_divide\n",
      "  predictions[k].sum(axis=1)[:, np.newaxis])\n",
      "C:\\Users\\PC\\Anaconda3\\lib\\site-packages\\sklearn\\ensemble\\_forest.py:523: UserWarning: Some inputs do not have OOB scores. This probably means too few trees were used to compute any reliable oob estimates.\n",
      "  warn(\"Some inputs do not have OOB scores. \"\n",
      "C:\\Users\\PC\\Anaconda3\\lib\\site-packages\\sklearn\\ensemble\\_forest.py:528: RuntimeWarning: invalid value encountered in true_divide\n",
      "  predictions[k].sum(axis=1)[:, np.newaxis])\n",
      "C:\\Users\\PC\\Anaconda3\\lib\\site-packages\\sklearn\\ensemble\\_forest.py:523: UserWarning: Some inputs do not have OOB scores. This probably means too few trees were used to compute any reliable oob estimates.\n",
      "  warn(\"Some inputs do not have OOB scores. \"\n",
      "C:\\Users\\PC\\Anaconda3\\lib\\site-packages\\sklearn\\ensemble\\_forest.py:528: RuntimeWarning: invalid value encountered in true_divide\n",
      "  predictions[k].sum(axis=1)[:, np.newaxis])\n",
      "C:\\Users\\PC\\Anaconda3\\lib\\site-packages\\sklearn\\ensemble\\_forest.py:523: UserWarning: Some inputs do not have OOB scores. This probably means too few trees were used to compute any reliable oob estimates.\n",
      "  warn(\"Some inputs do not have OOB scores. \"\n",
      "C:\\Users\\PC\\Anaconda3\\lib\\site-packages\\sklearn\\ensemble\\_forest.py:528: RuntimeWarning: invalid value encountered in true_divide\n",
      "  predictions[k].sum(axis=1)[:, np.newaxis])\n",
      "C:\\Users\\PC\\Anaconda3\\lib\\site-packages\\sklearn\\ensemble\\_forest.py:523: UserWarning: Some inputs do not have OOB scores. This probably means too few trees were used to compute any reliable oob estimates.\n",
      "  warn(\"Some inputs do not have OOB scores. \"\n",
      "C:\\Users\\PC\\Anaconda3\\lib\\site-packages\\sklearn\\ensemble\\_forest.py:528: RuntimeWarning: invalid value encountered in true_divide\n",
      "  predictions[k].sum(axis=1)[:, np.newaxis])\n"
     ]
    },
    {
     "name": "stdout",
     "output_type": "stream",
     "text": [
      "[0.5565147  0.54275695 0.47990289 0.5141624  0.53061775 0.49312112\n",
      " 0.51901807 0.47531697 0.50795792 0.49676201]\n"
     ]
    },
    {
     "name": "stderr",
     "output_type": "stream",
     "text": [
      "C:\\Users\\PC\\Anaconda3\\lib\\site-packages\\sklearn\\ensemble\\_forest.py:523: UserWarning: Some inputs do not have OOB scores. This probably means too few trees were used to compute any reliable oob estimates.\n",
      "  warn(\"Some inputs do not have OOB scores. \"\n",
      "C:\\Users\\PC\\Anaconda3\\lib\\site-packages\\sklearn\\ensemble\\_forest.py:528: RuntimeWarning: invalid value encountered in true_divide\n",
      "  predictions[k].sum(axis=1)[:, np.newaxis])\n"
     ]
    },
    {
     "data": {
      "text/plain": [
       "0.5116130769357312"
      ]
     },
     "execution_count": 157,
     "metadata": {},
     "output_type": "execute_result"
    }
   ],
   "source": [
    "clf_score=cross_val_score(clf, X_train, y_train, cv=10)\n",
    "print(clf_score)\n",
    "clf_score.mean()"
   ]
  },
  {
   "cell_type": "code",
   "execution_count": null,
   "metadata": {},
   "outputs": [],
   "source": []
  },
  {
   "cell_type": "code",
   "execution_count": 248,
   "metadata": {},
   "outputs": [
    {
     "data": {
      "image/png": "[encoded data removed]",
      "text/plain": [
       "<Figure size 432x288 with 1 Axes>"
      ]
     },
     "metadata": {},
     "output_type": "display_data"
    }
   ],
   "source": [
    "imp_features=randfo_model.feature_importances_\n",
    "cols=X_train.columns\n",
    "important_features=[]\n",
    "for feat_names in zip(cols, imp_features):\n",
    "    important_features.append(feat_names)\n",
    "    \n",
    "top_10_features=sorted(important_features, key=lambda x:x[1], reverse=True)[:10]\n",
    "plt.bar(*zip(*top_10_features))\n",
    "plt.xticks(rotation=90)\n",
    "plt.show()"
   ]
  },
  {
   "cell_type": "code",
   "execution_count": null,
   "metadata": {
    "collapsed": true
   },
   "outputs": [],
   "source": []
  }
 ],
 "metadata": {
  "kernelspec": {
   "display_name": "Python 3",
   "language": "python",
   "name": "python3"
  },
  "language_info": {
   "codemirror_mode": {
    "name": "ipython",
    "version": 3
   },
   "file_extension": ".py",
   "mimetype": "text/x-python",
   "name": "python",
   "nbconvert_exporter": "python",
   "pygments_lexer": "ipython3",
   "version": "3.6.3"
  }
 },
 "nbformat": 4,
 "nbformat_minor": 2
}
